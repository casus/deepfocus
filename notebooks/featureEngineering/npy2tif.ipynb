{
 "cells": [
  {
   "cell_type": "markdown",
   "id": "256d93f6-5bd4-49ed-bd5d-bb6c76d86725",
   "metadata": {},
   "source": [
    "# convert npy into tif for visualization"
   ]
  },
  {
   "cell_type": "code",
   "execution_count": 1,
   "id": "f1391e9c-95c0-4a25-9333-8e6c971ee515",
   "metadata": {},
   "outputs": [],
   "source": [
    "# import the necessary packages\n",
    "import imutils\n",
    "import matplotlib.pyplot as plt\n",
    "\n",
    "import os\n",
    "import numpy as np\n",
    "from scipy import ndimage\n",
    "from tqdm import tqdm  # ! this might result into problem with 'object'\n",
    "import pandas as pd\n",
    "import random\n",
    "import glob\n",
    "from skimage import io\n",
    "\n",
    "import argparse\n",
    "import time\n",
    "import cv2\n",
    "\n",
    "import tifffile"
   ]
  },
  {
   "cell_type": "code",
   "execution_count": 2,
   "id": "569623d0-07ee-48bf-ae91-c89f919b8173",
   "metadata": {},
   "outputs": [],
   "source": [
    "# visualization for two images\n",
    "\n",
    "def subShow(IMG1, IMG2):\n",
    "    plt.figure()\n",
    "    plt.axis('off')\n",
    "    plt.subplot(1,2,1)\n",
    "    plt.imshow(IMG1, cmap='gray')\n",
    "    plt.subplot(1,2,2)\n",
    "    plt.imshow(IMG2, cmap='gray')\n",
    "    plt.show()\n",
    "    \n",
    "# write a stack of image in tif\n",
    "def writeStack(stack, path, name):\n",
    "#     with tifffile.TiffWriter(path+'/' + 'fMax.tif') as tif:\n",
    "    with tifffile.TiffWriter(path+'/' + name) as tif:\n",
    "      for i in range(stack.shape[0]):\n",
    "        filename = f\"image_{i}\"\n",
    "        tif.save(stack[i,...], photometric='minisblack', description=filename, metadata=None)"
   ]
  },
  {
   "cell_type": "markdown",
   "id": "9aecce68-be8c-43f5-ae0d-7cdb447c16ad",
   "metadata": {},
   "source": [
    "## load in data"
   ]
  },
  {
   "cell_type": "code",
   "execution_count": 18,
   "id": "485fcfff-fe52-4b02-a271-8e658e43d20d",
   "metadata": {},
   "outputs": [
    {
     "name": "stdout",
     "output_type": "stream",
     "text": [
      "(2, 20, 1040, 1392) 1 uint8\n",
      "load position: /bigdata/casus/MLID/RuiLi/Data/LM/zebrafish_15_2_2/final/val/val_mask_Variance.npy\n"
     ]
    }
   ],
   "source": [
    "# load path\n",
    "\n",
    "PLACE = 'val'\n",
    "data_path = '/bigdata/casus/MLID/RuiLi/Data/LM/zebrafish_15_2_2/final/' + str(PLACE) + '/'\n",
    "\n",
    "targetStacks = np.load(data_path + str(PLACE) + '_mask_Variance.npy')\n",
    "print(targetStacks.shape, targetStacks.max(), targetStacks.dtype)\n",
    "print('load position:', data_path + str(PLACE) + '_mask_Variance.npy')"
   ]
  },
  {
   "cell_type": "code",
   "execution_count": 19,
   "id": "5190ad99-a716-4fe4-aecc-d82b5c0e7efa",
   "metadata": {},
   "outputs": [
    {
     "data": {
      "text/plain": [
       "<matplotlib.image.AxesImage at 0x2aab09a91150>"
      ]
     },
     "execution_count": 19,
     "metadata": {},
     "output_type": "execute_result"
    },
    {
     "data": {
      "image/png": "[encoded data removed]",
      "text/plain": [
       "<Figure size 432x288 with 1 Axes>"
      ]
     },
     "metadata": {
      "needs_background": "light"
     },
     "output_type": "display_data"
    }
   ],
   "source": [
    "plt.imshow(targetStacks[0,0,:,:], cmap='gray')"
   ]
  },
  {
   "cell_type": "markdown",
   "id": "4563f6e7-53c9-4776-8569-b5fdc16e5f5a",
   "metadata": {},
   "source": [
    "## write"
   ]
  },
  {
   "cell_type": "code",
   "execution_count": 20,
   "id": "bfb1ad5f-cc56-4ece-889c-56813c020db7",
   "metadata": {},
   "outputs": [
    {
     "name": "stdout",
     "output_type": "stream",
     "text": [
      "write file: val_mask_Variance.tif\n"
     ]
    }
   ],
   "source": [
    "writeStack(targetStacks*255, './', str(PLACE) + '_mask_Variance.tif')\n",
    "\n",
    "print('write file:', str(PLACE) + '_mask_Variance.tif')"
   ]
  },
  {
   "cell_type": "code",
   "execution_count": null,
   "id": "a1b1c499-36a7-47b8-bbca-b0f63fde91b2",
   "metadata": {},
   "outputs": [],
   "source": []
  }
 ],
 "metadata": {
  "kernelspec": {
   "display_name": "CONDA (LM)",
   "language": "python",
   "name": "n2v-conda"
  },
  "language_info": {
   "codemirror_mode": {
    "name": "ipython",
    "version": 3
   },
   "file_extension": ".py",
   "mimetype": "text/x-python",
   "name": "python",
   "nbconvert_exporter": "python",
   "pygments_lexer": "ipython3",
   "version": "3.7.11"
  }
 },
 "nbformat": 4,
 "nbformat_minor": 5
}
