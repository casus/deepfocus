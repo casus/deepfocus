{
 "cells": [
  {
   "cell_type": "markdown",
   "id": "5ef31ae1",
   "metadata": {},
   "source": [
    "#### using transfer learning for the segementation job"
   ]
  },
  {
   "cell_type": "code",
   "execution_count": 1,
   "id": "06411287",
   "metadata": {},
   "outputs": [
    {
     "name": "stderr",
     "output_type": "stream",
     "text": [
      "/home/li52/.conda/envs/LM/lib/python3.7/site-packages/tqdm/auto.py:22: TqdmWarning: IProgress not found. Please update jupyter and ipywidgets. See https://ipywidgets.readthedocs.io/en/stable/user_install.html\n",
      "  from .autonotebook import tqdm as notebook_tqdm\n"
     ]
    },
    {
     "name": "stdout",
     "output_type": "stream",
     "text": [
      "True\n"
     ]
    }
   ],
   "source": [
    "import torch\n",
    "\n",
    "print(torch.cuda.is_available())"
   ]
  },
  {
   "cell_type": "code",
   "execution_count": 2,
   "id": "f08e3bcb",
   "metadata": {},
   "outputs": [
    {
     "name": "stdout",
     "output_type": "stream",
     "text": [
      "2.6.2\n"
     ]
    }
   ],
   "source": [
    "import tensorflow as tf\n",
    "\n",
    "print(tf.__version__)"
   ]
  },
  {
   "cell_type": "code",
   "execution_count": 3,
   "id": "d283d50f",
   "metadata": {},
   "outputs": [
    {
     "name": "stdout",
     "output_type": "stream",
     "text": [
      "/home/li52/.conda/envs/LM/lib/python3.7/site-packages/tensorflow/__init__.py\n"
     ]
    }
   ],
   "source": [
    "print(tf.__file__)"
   ]
  },
  {
   "cell_type": "code",
   "execution_count": 4,
   "id": "b9522d42",
   "metadata": {},
   "outputs": [
    {
     "name": "stdout",
     "output_type": "stream",
     "text": [
      "name: \"/device:GPU:0\"\n",
      "device_type: \"GPU\"\n",
      "memory_limit: 31679774720\n",
      "locality {\n",
      "  bus_id: 1\n",
      "  links {\n",
      "  }\n",
      "}\n",
      "incarnation: 17227565532124833321\n",
      "physical_device_desc: \"device: 0, name: Tesla V100-SXM2-32GB, pci bus id: 0000:61:00.0, compute capability: 7.0\"\n",
      "\n"
     ]
    },
    {
     "name": "stderr",
     "output_type": "stream",
     "text": [
      "2022-06-20 09:36:53.087444: I tensorflow/core/platform/cpu_feature_guard.cc:142] This TensorFlow binary is optimized with oneAPI Deep Neural Network Library (oneDNN) to use the following CPU instructions in performance-critical operations:  AVX2 AVX512F FMA\n",
      "To enable them in other operations, rebuild TensorFlow with the appropriate compiler flags.\n",
      "2022-06-20 09:37:21.641097: I tensorflow/core/common_runtime/gpu/gpu_device.cc:1510] Created device /device:GPU:0 with 30212 MB memory:  -> device: 0, name: Tesla V100-SXM2-32GB, pci bus id: 0000:61:00.0, compute capability: 7.0\n"
     ]
    },
    {
     "data": {
      "text/plain": [
       "[None]"
      ]
     },
     "execution_count": 4,
     "metadata": {},
     "output_type": "execute_result"
    }
   ],
   "source": [
    "# check the status of GPU\n",
    "from tensorflow.python.client import device_lib\n",
    "\n",
    "local_device_protos = device_lib.list_local_devices()\n",
    "\n",
    "[print(x) for x in local_device_protos if x.device_type == 'GPU']\n"
   ]
  },
  {
   "cell_type": "markdown",
   "id": "65c27cb8",
   "metadata": {},
   "source": [
    "define the neptune for documenting"
   ]
  },
  {
   "cell_type": "code",
   "execution_count": 5,
   "id": "0a06aa62",
   "metadata": {},
   "outputs": [],
   "source": [
    "# define if the documenting process should go on\n",
    "\n",
    "DOCUMENT = True\n",
    "TRAIN = 300 # training epochs num"
   ]
  },
  {
   "cell_type": "code",
   "execution_count": 6,
   "id": "dd47ba89",
   "metadata": {},
   "outputs": [
    {
     "name": "stderr",
     "output_type": "stream",
     "text": [
      "/home/li52/.conda/envs/LM/lib/python3.7/site-packages/neptune/new/internal/utils/git.py:35: UserWarning: GitPython could not be initialized\n",
      "  warnings.warn(\"GitPython could not be initialized\")\n",
      "/home/li52/.conda/envs/LM/lib/python3.7/site-packages/neptune/new/internal/utils/git.py:35: UserWarning: GitPython could not be initialized\n",
      "  warnings.warn(\"GitPython could not be initialized\")\n"
     ]
    },
    {
     "name": "stdout",
     "output_type": "stream",
     "text": [
      "https://app.neptune.ai/leeleeroy/LM-2D-Unet/e/LMDUN-23\n",
      "Remember to stop your run once you’ve finished logging your metadata (https://docs.neptune.ai/api-reference/run#.stop). It will be stopped automatically only when the notebook kernel/interactive console is terminated.\n"
     ]
    }
   ],
   "source": [
    "# neptune document\n",
    "\n",
    "import neptune.new as neptune\n",
    "from neptune.new.integrations.tensorflow_keras import NeptuneCallback\n",
    "\n",
    "if DOCUMENT:\n",
    "\n",
    "    run = neptune.init(\n",
    "        project=\"leeleeroy/LM-2D-Unet\",\n",
    "        api_token=\"eyJhcGlfYWRkcmVzcyI6Imh0dHBzOi8vYXBwLm5lcHR1bmUuYWkiLCJhcGlfdXJsIjoiaHR0cHM6Ly9hcHAubmVwdHVuZS5haSIsImFwaV9rZXkiOiI3YjVjOGVmZi04MjA4LTQ4N2QtOWIzYy05M2YyZWI1NzY3MmEifQ==\",\n",
    "        name = \"UNet2D_64_vgg16\",\n",
    "    ) # necessary credentials, the name could be used to reproduce the results \n",
    "\n",
    "    # for callbacks in training\n",
    "\n",
    "\n",
    "\n",
    "    neptune_cbk = NeptuneCallback(run=run, base_namespace='metrics')  # neptune for the training process\n",
    "    \n",
    "    # neptune document the hyper param.\n",
    "\n",
    "    PARAMS = {\n",
    "              \"optimizer\": {\"learning_rate\": 0.001, \"beta_1\":0.9,\"optimizer\": \"Adam\"},\n",
    "              'epochs': TRAIN,\n",
    "              'batch_size':8}\n",
    "\n",
    "    # log hyper-parameters\n",
    "    run['hyper-parameters'] = PARAMS\n",
    "    run[\"sys/tags\"].add([\"transfer\", \"vgg16\", \"val\", \"binary\", \"epochs:300\"])\n"
   ]
  },
  {
   "cell_type": "code",
   "execution_count": 1,
   "id": "b7ad67fe",
   "metadata": {},
   "outputs": [],
   "source": [
    "# data loading \n",
    "\n",
    "import os\n",
    "import numpy as np\n",
    "import matplotlib.pyplot as plt\n",
    "from scipy import ndimage\n",
    "import os\n",
    "import pandas as pd\n",
    "import random"
   ]
  },
  {
   "cell_type": "markdown",
   "id": "1e212174",
   "metadata": {},
   "source": [
    "#### Load data in"
   ]
  },
  {
   "cell_type": "code",
   "execution_count": 2,
   "id": "c6d0703a",
   "metadata": {},
   "outputs": [],
   "source": [
    "# visualization for two images\n",
    "\n",
    "def subShow(IMG1, IMG2):\n",
    "    plt.figure()\n",
    "    plt.subplot(1,2,1)\n",
    "    plt.imshow(IMG1, cmap='gray')\n",
    "    plt.subplot(1,2,2)\n",
    "    plt.imshow(IMG2, cmap='gray')\n",
    "    plt.show()"
   ]
  },
  {
   "cell_type": "code",
   "execution_count": 4,
   "id": "66abd1b5",
   "metadata": {},
   "outputs": [
    {
     "name": "stdout",
     "output_type": "stream",
     "text": [
      "before: (300, 1040, 1392)\n",
      "Mask info:  (300, 1040, 1040) uint8\n",
      "Image info:  (300, 1040, 1040) uint8\n"
     ]
    }
   ],
   "source": [
    "PATH = '/bigdata/casus/MLID/RuiLi/Data/LM/zebrafish_partial_15/'\n",
    "\n",
    "Mask = np.load(PATH + 'biMasks15.npy')\n",
    "IMG = np.load(PATH + 'rawGray15.npy')\n",
    "\n",
    "Mask = Mask.reshape(-1, 1040, 1392)  # flatten into images \n",
    "IMG = IMG.reshape(-1, 1040, 1392)\n",
    "print('before:', Mask.shape)\n",
    "\n",
    "Mask = Mask[...,176:(176+Mask.shape[1])]  # crop for later scaling\n",
    "IMG = IMG[...,176:(176+IMG.shape[1])]\n",
    "\n",
    "print('Mask info: ', Mask.shape, Mask.dtype)\n",
    "print('Image info: ', IMG.shape, IMG.dtype)"
   ]
  },
  {
   "cell_type": "code",
   "execution_count": 5,
   "id": "d04b8bd5-5316-4512-ad11-234b2dad4c83",
   "metadata": {},
   "outputs": [
    {
     "name": "stdout",
     "output_type": "stream",
     "text": [
      "1\n"
     ]
    }
   ],
   "source": [
    "print(np.max(Mask[0,...]))"
   ]
  },
  {
   "cell_type": "code",
   "execution_count": 6,
   "id": "cd729fa6",
   "metadata": {},
   "outputs": [],
   "source": [
    "# resize the images\n",
    "\n",
    "from skimage.transform import resize\n",
    "\n",
    "SIZE = [256, 256]\n",
    "totalIMG = Mask.shape[0]\n",
    "numIMG = 250\n",
    "\n",
    "smallIMG = resize(IMG[:numIMG,...], (numIMG,SIZE[0],SIZE[1]), anti_aliasing=True)\n",
    "smallIMG = np.interp(smallIMG, (smallIMG.min(), smallIMG.max()), (0, 1))  # rescale the img\n",
    "\n",
    "smallMask = resize(Mask[:numIMG,...].astype(bool), (numIMG,SIZE[0],SIZE[1]), anti_aliasing=False)\n",
    "smallMask = smallMask.astype(int)"
   ]
  },
  {
   "cell_type": "code",
   "execution_count": 9,
   "id": "4dd0fe50",
   "metadata": {},
   "outputs": [
    {
     "name": "stdout",
     "output_type": "stream",
     "text": [
      "(250, 256, 256)\n"
     ]
    },
    {
     "data": {
      "image/png": "[encoded data removed]",
      "text/plain": [
       "<Figure size 432x288 with 2 Axes>"
      ]
     },
     "metadata": {
      "needs_background": "light"
     },
     "output_type": "display_data"
    }
   ],
   "source": [
    "# sanity check\n",
    "\n",
    "print(smallMask.shape)\n",
    "\n",
    "NUM = 100\n",
    "\n",
    "subShow(smallMask[NUM,...], smallIMG[NUM,...])"
   ]
  },
  {
   "cell_type": "code",
   "execution_count": 10,
   "id": "5bf1616e",
   "metadata": {},
   "outputs": [],
   "source": [
    "# patchify the images\n",
    "from patchify import patchify, unpatchify\n",
    "\n",
    "def rawPatch(imageStack,patchPara):\n",
    "    all_img_patches = []\n",
    "\n",
    "    for img in range(imageStack.shape[0]):\n",
    "        large_image = imageStack[img]\n",
    "\n",
    "        patches_img = patchify(large_image, (patchPara['x'],patchPara['y']), step=patchPara['step'])  # no overlap\n",
    "\n",
    "        for i in range(patches_img.shape[0]):\n",
    "            for j in range(patches_img.shape[1]):\n",
    "\n",
    "                single_patch_img = patches_img[i,j,:,:]\n",
    "                # transform the image if the type is not correct\n",
    "                if single_patch_img.dtype == 'uint8':\n",
    "                    single_patch_img = (single_patch_img.astype('float32')) / 255.  # remember to standarize into 0-1\n",
    "                    \n",
    "                all_img_patches.append(single_patch_img)\n",
    "    \n",
    "    return all_img_patches, patches_img.shape"
   ]
  },
  {
   "cell_type": "code",
   "execution_count": 11,
   "id": "3652742e",
   "metadata": {},
   "outputs": [],
   "source": [
    "# # due to the huge data amount, use part of the images for the training \n",
    "# from skimage.transform import resize\n",
    "\n",
    "# size = [256*(IMG.shape[1]//256), 256*(IMG.shape[2]//256)]\n",
    "\n",
    "# numIMG = 25\n",
    "# smallIMG = resize(IMG[:numIMG,...], (numIMG,size[0],size[1]), anti_aliasing=True)\n",
    "# smallMask = resize(Mask[:numIMG,...], (numIMG,size[0],size[1]), anti_aliasing=True)"
   ]
  },
  {
   "cell_type": "code",
   "execution_count": 12,
   "id": "968d7b70",
   "metadata": {},
   "outputs": [
    {
     "data": {
      "image/png": "[encoded data removed]",
      "text/plain": [
       "<Figure size 432x288 with 2 Axes>"
      ]
     },
     "metadata": {
      "needs_background": "light"
     },
     "output_type": "display_data"
    },
    {
     "name": "stdout",
     "output_type": "stream",
     "text": [
      "img: (250, 256, 256) float64\n",
      "mask: (250, 256, 256) int64\n",
      "img range: 1.0 0.0\n",
      "mask range: 1 0\n"
     ]
    }
   ],
   "source": [
    "# sanity check for the resized data\n",
    "\n",
    "subShow(smallIMG[0,...], smallMask[0,...])\n",
    "\n",
    "print('img:',smallIMG.shape, smallIMG.dtype)\n",
    "print('mask:',smallMask.shape, smallMask.dtype)\n",
    "\n",
    "print('img range:', np.max(smallIMG), np.min(smallIMG))\n",
    "print('mask range:', np.max(smallMask), np.min(smallMask))"
   ]
  },
  {
   "cell_type": "code",
   "execution_count": 13,
   "id": "e094e16e",
   "metadata": {},
   "outputs": [],
   "source": [
    "# preporcessing the data into patches\n",
    "\n",
    "# train dataset\n",
    "patchPara = {'x': 256, 'y': 256, 'step':256}\n",
    "\n",
    "X_patches, _ =  rawPatch(smallIMG, patchPara); X_patches = np.stack((X_patches,)*3, axis=-1)\n",
    "Y_masks, _ = rawPatch(smallMask, patchPara); Y_masks = np.expand_dims(Y_masks, -1)\n"
   ]
  },
  {
   "cell_type": "code",
   "execution_count": 14,
   "id": "00559f4e-00d0-4532-95cc-4ee6a97e699d",
   "metadata": {
    "tags": []
   },
   "outputs": [],
   "source": [
    "# # 测试单张图片上的衬度\n",
    "\n",
    "# testOriginal = smallIMG[0,...]\n",
    "# test = X_patches[0,:,:,0]\n",
    "\n",
    "# test1 = np.equal(testOriginal, test)\n",
    "# print(test1)\n",
    "\n",
    "# print(np.min(test), np.min(testOriginal))\n",
    "\n",
    "# print('img range:', np.max(smallIMG), np.min(smallIMG))\n",
    "# print('img range:', np.max(X_patches), np.min(X_patches))"
   ]
  },
  {
   "cell_type": "code",
   "execution_count": 15,
   "id": "701c5267",
   "metadata": {},
   "outputs": [
    {
     "name": "stdout",
     "output_type": "stream",
     "text": [
      "patches shape: (250, 256, 256, 3) float64\n",
      "mask shape: (250, 256, 256, 1) int64\n",
      "1 0\n",
      "0.40549308236637466 0.0029438465615517144\n"
     ]
    }
   ],
   "source": [
    "print('patches shape:',X_patches.shape, X_patches.dtype)\n",
    "print('mask shape:',Y_masks.shape, Y_masks.dtype)\n",
    "print(np.max(Y_masks[0,...]), np.min(Y_masks[0,...]))\n",
    "print(np.max(X_patches[0,...]), np.min(X_patches[0,...]))"
   ]
  },
  {
   "cell_type": "code",
   "execution_count": 17,
   "id": "83229357",
   "metadata": {},
   "outputs": [
    {
     "data": {
      "image/png": "[encoded data removed]",
      "text/plain": [
       "<Figure size 432x288 with 8 Axes>"
      ]
     },
     "metadata": {
      "needs_background": "light"
     },
     "output_type": "display_data"
    }
   ],
   "source": [
    "#  sanity check for the mask and images\n",
    "\n",
    "startNum = 150\n",
    "n_samples = 4\n",
    "\n",
    "for i in range(n_samples):\n",
    "    plt.subplot(2, n_samples, 1+i)\n",
    "    plt.axis('off')\n",
    "    plt.imshow(X_patches[int(i+startNum)], cmap='gray')\n",
    "    \n",
    "for i in range(n_samples):\n",
    "    plt.subplot(2, n_samples, 1+n_samples+i)\n",
    "    plt.axis('off')\n",
    "    plt.imshow(Y_masks[int(i+startNum)], cmap='gray')    \n",
    "plt.show()\n"
   ]
  },
  {
   "cell_type": "markdown",
   "id": "8545e180",
   "metadata": {},
   "source": [
    "#### prepare the models"
   ]
  },
  {
   "cell_type": "code",
   "execution_count": 20,
   "id": "09011a5d",
   "metadata": {},
   "outputs": [
    {
     "name": "stdout",
     "output_type": "stream",
     "text": [
      "Segmentation Models: using `keras` framework.\n"
     ]
    }
   ],
   "source": [
    "# usinng pre-trained weight\n",
    "\n",
    "import tensorflow\n",
    "import tensorflow.keras\n",
    "\n",
    "import segmentation_models as sm\n",
    "\n",
    "# from keras_applications.resnet import ResNetV2\n",
    "\n",
    "BACKBONE = 'resnet34'\n",
    "preprocess_input = sm.get_preprocessing(BACKBONE)"
   ]
  },
  {
   "cell_type": "code",
   "execution_count": 21,
   "id": "948a2b8f",
   "metadata": {},
   "outputs": [],
   "source": [
    "# preprocessing the data\n",
    "\n",
    "# preprocess input\n",
    "images = X_patches; masks = Y_masks;\n",
    "images = preprocess_input(images)\n",
    "# print(images1.shape)  # come with packed toolset\n",
    "\n",
    "from sklearn.model_selection import train_test_split\n",
    "X_train, X_val, Y_train, Y_val = train_test_split(images, masks, test_size = 0.25, random_state = 42)\n"
   ]
  },
  {
   "cell_type": "code",
   "execution_count": 22,
   "id": "7cfa679c",
   "metadata": {},
   "outputs": [
    {
     "name": "stdout",
     "output_type": "stream",
     "text": [
      "training data: (187, 256, 256, 3) (187, 256, 256, 1)\n",
      "validation data: (63, 256, 256, 3) (63, 256, 256, 1)\n"
     ]
    }
   ],
   "source": [
    "print('training data:', X_train.shape, Y_train.shape)\n",
    "print('validation data:', X_val.shape, Y_val.shape )"
   ]
  },
  {
   "cell_type": "code",
   "execution_count": 23,
   "id": "2b920724",
   "metadata": {},
   "outputs": [
    {
     "data": {
      "image/png": "[encoded data removed]",
      "text/plain": [
       "<Figure size 432x288 with 2 Axes>"
      ]
     },
     "metadata": {
      "needs_background": "light"
     },
     "output_type": "display_data"
    }
   ],
   "source": [
    "#Sanity check for training dataset. view few mages\n",
    "\n",
    "import random\n",
    "import numpy as np\n",
    "image_number = random.randint(0, len(X_train))\n",
    "\n",
    "subShow(X_train[image_number, :,:, 0], Y_train[image_number])"
   ]
  },
  {
   "cell_type": "code",
   "execution_count": 24,
   "id": "b690e19d",
   "metadata": {},
   "outputs": [
    {
     "data": {
      "image/png": "[encoded data removed]",
      "text/plain": [
       "<Figure size 432x288 with 2 Axes>"
      ]
     },
     "metadata": {
      "needs_background": "light"
     },
     "output_type": "display_data"
    }
   ],
   "source": [
    "#Sanity check for validation dataset, view few mages\n",
    "\n",
    "image_number = random.randint(0, len(X_val))\n",
    "\n",
    "subShow(X_val[image_number, :,:, 0], Y_val[image_number])\n"
   ]
  },
  {
   "cell_type": "code",
   "execution_count": 25,
   "id": "109383cd",
   "metadata": {},
   "outputs": [],
   "source": [
    "# data generator\n",
    "\n",
    "seed=24\n",
    "from tensorflow.keras.preprocessing.image import ImageDataGenerator\n",
    "\n",
    "# add data augmentaton strategy\n",
    "img_data_gen_args = dict(rotation_range=90,\n",
    "#                      width_shift_range=0.3,\n",
    "#                      height_shift_range=0.3,\n",
    "#                      shear_range=0.5,\n",
    "#                      zoom_range=0.3,\n",
    "#                      horizontal_flip=True,\n",
    "#                      vertical_flip=True,\n",
    "                     fill_mode='reflect')\n",
    "\n",
    "mask_data_gen_args = dict(rotation_range=90,\n",
    "#                      width_shift_range=0.3,\n",
    "#                      height_shift_range=0.3,\n",
    "#                      shear_range=0.5,\n",
    "#                      zoom_range=0.3,\n",
    "#                      horizontal_flip=True,\n",
    "#                      vertical_flip=True,\n",
    "                     fill_mode='reflect',)\n",
    "                     #preprocessing_function = lambda x: np.where(x>0.1, 1, 0).astype(x.dtype)) #Binarize the output again. \n",
    "\n",
    "image_data_generator = ImageDataGenerator(**img_data_gen_args)\n",
    "image_data_generator.fit(X_train, augment=True, seed=seed)  # relevant to normalization\n",
    "\n",
    "image_generator = image_data_generator.flow(X_train, seed=seed)\n",
    "valid_img_generator = image_data_generator.flow(X_val, seed=seed)\n",
    "\n",
    "mask_data_generator = ImageDataGenerator(**mask_data_gen_args)\n",
    "mask_data_generator.fit(Y_train, augment=True, seed=seed)\n",
    "mask_generator = mask_data_generator.flow(Y_train, seed=seed)\n",
    "valid_mask_generator = mask_data_generator.flow(Y_val, seed=seed)"
   ]
  },
  {
   "cell_type": "code",
   "execution_count": 26,
   "id": "adc7651e",
   "metadata": {},
   "outputs": [],
   "source": [
    "# pack the two generators together\n",
    "\n",
    "def my_image_mask_generator(image_generator, mask_generator):\n",
    "    train_generator = zip(image_generator, mask_generator)\n",
    "    for (img, mask) in train_generator:\n",
    "        yield (img, mask)"
   ]
  },
  {
   "cell_type": "code",
   "execution_count": 27,
   "id": "5963bb07",
   "metadata": {},
   "outputs": [],
   "source": [
    "# generator pack for later use\n",
    "my_generator = my_image_mask_generator(image_generator, mask_generator)\n",
    "\n",
    "validation_datagen = my_image_mask_generator(valid_img_generator, valid_mask_generator)\n",
    "\n",
    "x = image_generator.next()\n",
    "y = mask_generator.next()"
   ]
  },
  {
   "cell_type": "code",
   "execution_count": 28,
   "id": "7e62f279",
   "metadata": {
    "tags": []
   },
   "outputs": [],
   "source": [
    "# # sanity check in the generator size in range\n",
    "\n",
    "# for i in range(28,31):\n",
    "#     image = x[i]\n",
    "#     print(np.min(mask))\n",
    "#     plt.subplot(1,2,1)\n",
    "#     plt.imshow(image[:,:,0], cmap='gray')\n",
    "#     plt.subplot(1,2,2)\n",
    "#     plt.imshow(mask[:,:,0], cmap='gray')\n",
    "#     plt.show()"
   ]
  },
  {
   "cell_type": "code",
   "execution_count": 29,
   "id": "07b3246f",
   "metadata": {},
   "outputs": [
    {
     "name": "stderr",
     "output_type": "stream",
     "text": [
      "2022-06-07 17:05:26.033592: I tensorflow/core/common_runtime/gpu/gpu_device.cc:1510] Created device /job:localhost/replica:0/task:0/device:GPU:0 with 30212 MB memory:  -> device: 0, name: Tesla V100-SXM2-32GB, pci bus id: 0000:62:00.0, compute capability: 7.0\n"
     ]
    }
   ],
   "source": [
    "# define model\n",
    "\n",
    "import segmentation_models as sm\n",
    "\n",
    "sm.set_framework('tf.keras')  # ！ this serves for the sm.Unet\n",
    "sm.framework()\n",
    "\n",
    "model = sm.Unet(BACKBONE, encoder_weights='imagenet')\n",
    "model.compile('Adam', loss=sm.losses.bce_jaccard_loss, metrics=[sm.metrics.iou_score])  # bce is differentiable\n",
    "# print(model.summary())"
   ]
  },
  {
   "cell_type": "code",
   "execution_count": 30,
   "id": "adc61d7b",
   "metadata": {},
   "outputs": [
    {
     "name": "stderr",
     "output_type": "stream",
     "text": [
      "2022-06-07 17:05:27.763841: I tensorflow/core/profiler/lib/profiler_session.cc:131] Profiler session initializing.\n",
      "2022-06-07 17:05:27.763942: I tensorflow/core/profiler/lib/profiler_session.cc:146] Profiler session started.\n",
      "2022-06-07 17:05:27.814269: I tensorflow/core/profiler/internal/gpu/cupti_tracer.cc:1614] Profiler found 1 GPUs\n",
      "2022-06-07 17:05:27.816441: W tensorflow/stream_executor/platform/default/dso_loader.cc:64] Could not load dynamic library 'libcupti.so.11.2'; dlerror: libcupti.so.11.2: cannot open shared object file: No such file or directory; LD_LIBRARY_PATH: /trinity/shared/pkg/devel/julia/1.7.2/lib:/trinity/shared/pkg/analysis/root/6.26.02/lib:/trinity/shared/pkg/analysis/root/6.26.02/lib/root:/trinity/shared/pkg/analysis/octave/5.1.0/lib:/trinity/shared/pkg/numlib/fftw/3.3.8/gcc/7.3.0/lib:/trinity/shared/pkg/numlib/lapack/3.8.0/gcc/7.3.0/lib64:/trinity/shared/pkg/devel/cuda/11.2/lib64:/trinity/shared/pkg/devel/cuda/11.2/lib:/trinity/shared/pkg/numlib/mpfr/3.1.4/lib:/trinity/shared/pkg/numlib/mpc/1.0.3/lib:/trinity/shared/pkg/numlib/gmp/6.1.2/lib:/trinity/shared/pkg/compiler/gcc/7.3.0/lib64:/trinity/shared/pkg/compiler/gcc/7.3.0/lib:/trinity/shared/pkg/devel/python/3.10.4/lib/python3.10:/trinity/shared/pkg/devel/python/3.10.4/lib\n",
      "2022-06-07 17:05:27.820594: W tensorflow/stream_executor/platform/default/dso_loader.cc:64] Could not load dynamic library 'libcupti.so'; dlerror: libcupti.so: cannot open shared object file: No such file or directory; LD_LIBRARY_PATH: /trinity/shared/pkg/devel/julia/1.7.2/lib:/trinity/shared/pkg/analysis/root/6.26.02/lib:/trinity/shared/pkg/analysis/root/6.26.02/lib/root:/trinity/shared/pkg/analysis/octave/5.1.0/lib:/trinity/shared/pkg/numlib/fftw/3.3.8/gcc/7.3.0/lib:/trinity/shared/pkg/numlib/lapack/3.8.0/gcc/7.3.0/lib64:/trinity/shared/pkg/devel/cuda/11.2/lib64:/trinity/shared/pkg/devel/cuda/11.2/lib:/trinity/shared/pkg/numlib/mpfr/3.1.4/lib:/trinity/shared/pkg/numlib/mpc/1.0.3/lib:/trinity/shared/pkg/numlib/gmp/6.1.2/lib:/trinity/shared/pkg/compiler/gcc/7.3.0/lib64:/trinity/shared/pkg/compiler/gcc/7.3.0/lib:/trinity/shared/pkg/devel/python/3.10.4/lib/python3.10:/trinity/shared/pkg/devel/python/3.10.4/lib\n",
      "2022-06-07 17:05:27.820663: E tensorflow/core/profiler/internal/gpu/cupti_tracer.cc:1666] function cupti_interface_->Subscribe( &subscriber_, (CUpti_CallbackFunc)ApiCallback, this)failed with error CUPTI could not be loaded or symbol could not be found.\n",
      "2022-06-07 17:05:27.820820: I tensorflow/core/profiler/lib/profiler_session.cc:164] Profiler session tear down.\n",
      "2022-06-07 17:05:27.820882: E tensorflow/core/profiler/internal/gpu/cupti_tracer.cc:1757] function cupti_interface_->Finalize()failed with error CUPTI could not be loaded or symbol could not be found.\n"
     ]
    }
   ],
   "source": [
    "import tensorflow.keras as k\n",
    "\n",
    "if DOCUMENT:\n",
    "    callbacks = [\n",
    "        k.callbacks.EarlyStopping(patience=15, monitor='val_loss'),\n",
    "        neptune_cbk, \n",
    "        k.callbacks.TensorBoard(log_dir = './Unet/tensorBoard')  # save in new folder in hemera. Also update in neptune\n",
    "    ]\n",
    "else:\n",
    "    callbacks = [\n",
    "        k.callbacks.EarlyStopping(patience=15, monitor='val_loss'),\n",
    "        k.callbacks.TensorBoard(log_dir = './Unet/tensorBoard')  # save in new folder in hemera. Also update in neptune\n",
    "    ]"
   ]
  },
  {
   "cell_type": "code",
   "execution_count": null,
   "id": "63d06690",
   "metadata": {
    "collapsed": true,
    "jupyter": {
     "outputs_hidden": true
    },
    "tags": []
   },
   "outputs": [
    {
     "name": "stderr",
     "output_type": "stream",
     "text": [
      "/home/li52/.conda/envs/LM/lib/python3.7/site-packages/keras/engine/training.py:1972: UserWarning: `Model.fit_generator` is deprecated and will be removed in a future version. Please use `Model.fit`, which supports generators.\n",
      "  warnings.warn('`Model.fit_generator` is deprecated and '\n",
      "/home/li52/.conda/envs/LM/lib/python3.7/site-packages/keras/utils/generic_utils.py:497: CustomMaskWarning: Custom mask layers require a config and must override get_config. When loading, the custom mask layer must be passed to the custom_objects argument.\n",
      "  category=CustomMaskWarning)\n",
      "2022-06-07 17:05:28.823510: I tensorflow/compiler/mlir/mlir_graph_optimization_pass.cc:185] None of the MLIR Optimization Passes are enabled (registered 2)\n"
     ]
    },
    {
     "name": "stdout",
     "output_type": "stream",
     "text": [
      "Epoch 1/300\n"
     ]
    },
    {
     "name": "stderr",
     "output_type": "stream",
     "text": [
      "2022-06-07 17:05:35.037785: I tensorflow/stream_executor/cuda/cuda_dnn.cc:369] Loaded cuDNN version 8201\n"
     ]
    },
    {
     "name": "stdout",
     "output_type": "stream",
     "text": [
      " 2/50 [>.............................] - ETA: 14s - loss: 1.3983 - iou_score: 0.3776  "
     ]
    },
    {
     "name": "stderr",
     "output_type": "stream",
     "text": [
      "2022-06-07 17:05:47.501072: I tensorflow/core/profiler/lib/profiler_session.cc:131] Profiler session initializing.\n",
      "2022-06-07 17:05:47.501110: I tensorflow/core/profiler/lib/profiler_session.cc:146] Profiler session started.\n",
      "2022-06-07 17:05:47.501233: E tensorflow/core/profiler/internal/gpu/cupti_tracer.cc:1666] function cupti_interface_->Subscribe( &subscriber_, (CUpti_CallbackFunc)ApiCallback, this)failed with error CUPTI could not be loaded or symbol could not be found.\n",
      "2022-06-07 17:05:47.671194: I tensorflow/core/profiler/lib/profiler_session.cc:66] Profiler session collecting data.\n",
      "2022-06-07 17:05:47.671502: E tensorflow/core/profiler/internal/gpu/cupti_tracer.cc:1757] function cupti_interface_->Finalize()failed with error CUPTI could not be loaded or symbol could not be found.\n",
      "2022-06-07 17:05:47.691975: I tensorflow/core/profiler/internal/gpu/cupti_collector.cc:673]  GpuTracer has collected 0 callback api events and 0 activity events. \n",
      "2022-06-07 17:05:47.697105: I tensorflow/core/profiler/lib/profiler_session.cc:164] Profiler session tear down.\n",
      "2022-06-07 17:05:47.738457: I tensorflow/core/profiler/rpc/client/save_profile.cc:136] Creating directory: ./Unet/tensorBoard/train/plugins/profile/2022_06_07_17_05_47\n",
      "\n",
      "2022-06-07 17:05:47.739380: I tensorflow/core/profiler/rpc/client/save_profile.cc:142] Dumped gzipped tool data for trace.json.gz to ./Unet/tensorBoard/train/plugins/profile/2022_06_07_17_05_47/gv001.cluster.trace.json.gz\n",
      "2022-06-07 17:05:47.787740: I tensorflow/core/profiler/rpc/client/save_profile.cc:136] Creating directory: ./Unet/tensorBoard/train/plugins/profile/2022_06_07_17_05_47\n",
      "\n",
      "2022-06-07 17:05:47.796778: I tensorflow/core/profiler/rpc/client/save_profile.cc:142] Dumped gzipped tool data for memory_profile.json.gz to ./Unet/tensorBoard/train/plugins/profile/2022_06_07_17_05_47/gv001.cluster.memory_profile.json.gz\n",
      "2022-06-07 17:05:47.809016: I tensorflow/core/profiler/rpc/client/capture_profile.cc:251] Creating directory: ./Unet/tensorBoard/train/plugins/profile/2022_06_07_17_05_47\n",
      "Dumped tool data for xplane.pb to ./Unet/tensorBoard/train/plugins/profile/2022_06_07_17_05_47/gv001.cluster.xplane.pb\n",
      "Dumped tool data for overview_page.pb to ./Unet/tensorBoard/train/plugins/profile/2022_06_07_17_05_47/gv001.cluster.overview_page.pb\n",
      "Dumped tool data for input_pipeline.pb to ./Unet/tensorBoard/train/plugins/profile/2022_06_07_17_05_47/gv001.cluster.input_pipeline.pb\n",
      "Dumped tool data for tensorflow_stats.pb to ./Unet/tensorBoard/train/plugins/profile/2022_06_07_17_05_47/gv001.cluster.tensorflow_stats.pb\n",
      "Dumped tool data for kernel_stats.pb to ./Unet/tensorBoard/train/plugins/profile/2022_06_07_17_05_47/gv001.cluster.kernel_stats.pb\n",
      "\n"
     ]
    },
    {
     "name": "stdout",
     "output_type": "stream",
     "text": [
      "50/50 [==============================] - 87s 1s/step - loss: 0.4856 - iou_score: 0.7797 - val_loss: 2.7538 - val_iou_score: 0.6035\n",
      "Epoch 2/300\n",
      "50/50 [==============================] - 66s 1s/step - loss: 0.3410 - iou_score: 0.8608 - val_loss: 2.9338 - val_iou_score: 0.0570\n",
      "Epoch 3/300\n",
      "50/50 [==============================] - 49s 998ms/step - loss: 0.3104 - iou_score: 0.8709 - val_loss: 2.7582 - val_iou_score: 0.0609\n",
      "Epoch 4/300\n",
      "50/50 [==============================] - 49s 1s/step - loss: 0.3309 - iou_score: 0.8669 - val_loss: 5.7819 - val_iou_score: 0.0013\n",
      "Epoch 5/300\n",
      "50/50 [==============================] - 66s 1s/step - loss: 0.3202 - iou_score: 0.8705 - val_loss: 4.8637 - val_iou_score: 0.0025\n",
      "Epoch 6/300\n",
      "50/50 [==============================] - 49s 1s/step - loss: 0.2915 - iou_score: 0.8795 - val_loss: 2.1963 - val_iou_score: 0.1169\n",
      "Epoch 7/300\n",
      "50/50 [==============================] - 49s 996ms/step - loss: 0.2778 - iou_score: 0.8831 - val_loss: 4.4101 - val_iou_score: 0.0044\n",
      "Epoch 8/300\n",
      "50/50 [==============================] - 66s 1s/step - loss: 0.2725 - iou_score: 0.8898 - val_loss: 4.0812 - val_iou_score: 0.0071\n",
      "Epoch 9/300\n",
      "50/50 [==============================] - 66s 1s/step - loss: 0.2690 - iou_score: 0.8882 - val_loss: 4.3664 - val_iou_score: 0.0045\n",
      "Epoch 10/300\n",
      "50/50 [==============================] - 49s 997ms/step - loss: 0.2637 - iou_score: 0.8905 - val_loss: 4.7722 - val_iou_score: 0.0028\n",
      "Epoch 11/300\n",
      "50/50 [==============================] - 66s 1s/step - loss: 0.2575 - iou_score: 0.8978 - val_loss: 4.1909 - val_iou_score: 0.0060\n",
      "Epoch 12/300\n",
      "50/50 [==============================] - 66s 1s/step - loss: 0.2379 - iou_score: 0.8999 - val_loss: 4.3439 - val_iou_score: 0.0044\n",
      "Epoch 13/300\n",
      "50/50 [==============================] - 66s 1s/step - loss: 0.2525 - iou_score: 0.8974 - val_loss: 5.3009 - val_iou_score: 0.0010\n",
      "Epoch 14/300\n",
      "50/50 [==============================] - 49s 1000ms/step - loss: 0.2373 - iou_score: 0.9043 - val_loss: 4.4956 - val_iou_score: 0.0038\n",
      "Epoch 15/300\n",
      "50/50 [==============================] - 49s 1s/step - loss: 0.2120 - iou_score: 0.9100 - val_loss: 4.3913 - val_iou_score: 0.0041\n",
      "Epoch 16/300\n",
      "50/50 [==============================] - 49s 1000ms/step - loss: 0.2202 - iou_score: 0.9090 - val_loss: 4.7869 - val_iou_score: 0.0029\n",
      "Epoch 17/300\n",
      "50/50 [==============================] - 66s 1s/step - loss: 0.2484 - iou_score: 0.9017 - val_loss: 3.1277 - val_iou_score: 0.1643\n",
      "Epoch 18/300\n",
      "50/50 [==============================] - 66s 1s/step - loss: 0.2172 - iou_score: 0.9091 - val_loss: 3.4619 - val_iou_score: 0.0934\n",
      "Epoch 19/300\n",
      "50/50 [==============================] - 66s 1s/step - loss: 0.2341 - iou_score: 0.9075 - val_loss: 2.1749 - val_iou_score: 0.3376\n",
      "Epoch 20/300\n",
      "50/50 [==============================] - 66s 1s/step - loss: 0.2123 - iou_score: 0.9130 - val_loss: 1.1512 - val_iou_score: 0.6355\n",
      "Epoch 21/300\n",
      "50/50 [==============================] - 66s 1s/step - loss: 0.2014 - iou_score: 0.9186 - val_loss: 1.2421 - val_iou_score: 0.5567\n",
      "Epoch 22/300\n",
      "50/50 [==============================] - 66s 1s/step - loss: 0.1973 - iou_score: 0.9218 - val_loss: 0.7823 - val_iou_score: 0.7466\n",
      "Epoch 23/300\n",
      "50/50 [==============================] - 66s 1s/step - loss: 0.2101 - iou_score: 0.9162 - val_loss: 0.7824 - val_iou_score: 0.7120\n",
      "Epoch 24/300\n",
      "50/50 [==============================] - 49s 995ms/step - loss: 0.1893 - iou_score: 0.9234 - val_loss: 0.3358 - val_iou_score: 0.8804\n",
      "Epoch 25/300\n",
      "50/50 [==============================] - 66s 1s/step - loss: 0.1981 - iou_score: 0.9217 - val_loss: 0.2880 - val_iou_score: 0.8998\n",
      "Epoch 26/300\n",
      "50/50 [==============================] - 49s 999ms/step - loss: 0.1926 - iou_score: 0.9226 - val_loss: 0.3547 - val_iou_score: 0.8734\n",
      "Epoch 27/300\n",
      "50/50 [==============================] - 66s 1s/step - loss: 0.1863 - iou_score: 0.9255 - val_loss: 0.3332 - val_iou_score: 0.8611\n",
      "Epoch 28/300\n",
      "50/50 [==============================] - ETA: 0s - loss: 0.1738 - iou_score: 0.9303"
     ]
    }
   ],
   "source": [
    "#Fit the model and train\n",
    "\n",
    "# history = model.fit_generator(my_generator, validation_data=validation_datagen, steps_per_epoch=2, validation_steps=2, epochs=1, callbacks = callbacks)\n",
    "\n",
    "history = model.fit_generator(my_generator, validation_data=validation_datagen, steps_per_epoch=50, validation_steps=50, epochs=TRAIN, callbacks = callbacks)"
   ]
  },
  {
   "cell_type": "code",
   "execution_count": null,
   "id": "7029505d",
   "metadata": {},
   "outputs": [],
   "source": [
    "# del images, masks, X_train, X_val, Y_train, Y_val"
   ]
  },
  {
   "cell_type": "code",
   "execution_count": null,
   "id": "97a9d601",
   "metadata": {},
   "outputs": [],
   "source": [
    "# training visualization\n",
    "\n",
    "#plot the training and validation accuracy and loss at each epoch\n",
    "loss = history.history['loss']\n",
    "val_loss = history.history['val_loss']\n",
    "epochs = range(1, len(loss) + 1)\n",
    "plt.plot(epochs, loss, 'y', label='Training loss')\n",
    "plt.plot(epochs, val_loss, 'r', label='Validation loss')\n",
    "plt.title('Training and validation loss')\n",
    "plt.xlabel('Epochs')\n",
    "plt.ylabel('Loss')\n",
    "plt.legend()\n",
    "plt.show()\n",
    "\n",
    "# iou\n",
    "acc = history.history['iou_score']\n",
    "val_acc = history.history['val_iou_score']\n",
    "\n",
    "plt.plot(epochs, acc, 'y', label='Training IOU')\n",
    "plt.plot(epochs, val_acc, 'r', label='Validation IOU')\n",
    "plt.title('Training and validation IOU')\n",
    "plt.xlabel('Epochs')\n",
    "plt.ylabel('IOU')\n",
    "plt.legend()\n",
    "plt.show()"
   ]
  },
  {
   "cell_type": "code",
   "execution_count": null,
   "id": "06360e78",
   "metadata": {},
   "outputs": [],
   "source": [
    "# save model as local\n",
    "\n",
    "model.save(\"./Unet/model/Unet2D_transfer_noAug_pad.h5\")"
   ]
  },
  {
   "cell_type": "markdown",
   "id": "cd9eec30",
   "metadata": {},
   "source": [
    "#### test the images"
   ]
  },
  {
   "cell_type": "code",
   "execution_count": null,
   "id": "c841e86d",
   "metadata": {},
   "outputs": [],
   "source": [
    "# # running test directly from loading the model\n",
    "\n",
    "# from patchify import patchify, unpatchify\n",
    "\n",
    "# import os\n",
    "# import numpy as np\n",
    "# import matplotlib.pyplot as plt\n",
    "# from scipy import ndimage\n",
    "# import os\n",
    "# import pandas as pd\n",
    "# import random\n",
    "\n",
    "\n",
    "# import tensorflow\n",
    "# import tensorflow.keras\n",
    "\n",
    "# import segmentation_models as sm\n",
    "\n",
    "\n",
    "# # loading model from local way\n",
    "# from keras.models import load_model\n",
    "\n",
    "# model = load_model(\"./Unet/model/Unet2D_transfer_noAug_pad.h5\", compile=False)  # some self-defined loss should be loaded by segmentation_models\n",
    "\n",
    "# # from keras_applications.resnet import ResNetV2\n",
    "\n",
    "# BACKBONE = 'resnet34'\n",
    "# preprocess_input = sm.get_preprocessing(BACKBONE)"
   ]
  },
  {
   "cell_type": "code",
   "execution_count": null,
   "id": "4c574ac8",
   "metadata": {},
   "outputs": [],
   "source": [
    "# prepare the test datasset for the rest of the images\n",
    "\n",
    "testIMG = IMG[numIMG:totalIMG,...]\n",
    "testMask = Mask[numIMG:totalIMG,...]\n",
    "\n",
    "testIMG = testIMG[...,:testIMG.shape[1]]  # crop for later scaling\n",
    "testMask = testMask[...,:testMask.shape[1]]\n",
    "\n",
    "print(testIMG.shape)\n"
   ]
  },
  {
   "cell_type": "code",
   "execution_count": null,
   "id": "8158f566",
   "metadata": {},
   "outputs": [],
   "source": [
    "# pre-process the dataset\n",
    "\n",
    "X_test = resize(testIMG, (totalIMG - numIMG,SIZE[0],SIZE[1]), anti_aliasing=True)  # resize the images\n",
    "X_test = np.interp(X_test, (X_test.min(), X_test.max()), (0, 1))\n",
    "\n",
    "Y_test = resize(testMask.astype(bool), (totalIMG - numIMG,SIZE[0],SIZE[1]), anti_aliasing=False)\n",
    "Y_test = Y_test.astype(int)\n",
    "\n",
    "print('before:',testIMG.shape)\n",
    "print('after:',X_test.shape)"
   ]
  },
  {
   "cell_type": "code",
   "execution_count": null,
   "id": "2d2179bc",
   "metadata": {},
   "outputs": [],
   "source": [
    "# check the data range for contrast\n",
    "\n",
    "print('img range:', np.max(X_test), np.min(X_test))\n",
    "print('mask range:', np.max(Y_test), np.min(Y_test))\n"
   ]
  },
  {
   "cell_type": "code",
   "execution_count": null,
   "id": "61b14608",
   "metadata": {},
   "outputs": [],
   "source": [
    "# preprocess the images\n",
    "\n",
    "patchPara = {'x': 256, 'y': 256, 'step':256}\n",
    "\n",
    "X_test, _ =  rawPatch(X_test, patchPara); X_test = np.stack((X_test,)*3, axis=-1)\n",
    "Y_test, _ = rawPatch(Y_test, patchPara); Y_test = np.expand_dims(Y_test, -1)\n",
    "\n",
    "print('test image shape:', X_test.shape, X_test.dtype)\n",
    "print('test image shape:', Y_test.shape, Y_test.dtype)"
   ]
  },
  {
   "cell_type": "code",
   "execution_count": null,
   "id": "a7b57b96",
   "metadata": {},
   "outputs": [],
   "source": [
    "# # prepare the test dataset. bigger pic\n",
    "\n",
    "# NUM1 = 51\n",
    "# NUM2 = 65\n",
    "\n",
    "# testIMG = resize(IMG[NUM1:NUM2,...], (NUM2-NUM1,SIZE[0],SIZE[1]), anti_aliasing=True) # only takes 5 images from the raw databank\n",
    "# testMask = resize(Mask[NUM1:NUM2,...], (NUM2-NUM1,SIZE[0],SIZE[1]), anti_aliasing=True)\n",
    "\n",
    "# unpatchPara = testIMG[0].shape\n",
    "\n",
    "# # test on bigger image. only for the bigger image\n",
    "\n",
    "# from patchify import patchify, unpatchify\n",
    "\n",
    "# imagePred = []\n",
    "\n",
    "# for i in range(testIMG.shape[0]):\n",
    "#     tIMG = np.expand_dims(testIMG[i,...], axis=0)\n",
    "#     tPatch, _ = rawPatch(tIMG, patchPara)\n",
    "#     tPatch = np.stack((tPatch,)*3, axis=-1)\n",
    "#     tPatch = preprocess_input(tPatch)\n",
    "#     tPred = model.predict(tPatch)\n",
    "#     imgPred = np.reshape(tPred[...,0], (4, 5, 256, 256))\n",
    "#     imgPred = unpatchify(imgPred, unpatchPara)\n",
    "#     bar = np.ones((imgPred.shape[0], 15))   # lines\n",
    "#     combTemp = np.concatenate((testIMG[i,...], bar, imgPred, bar, testMask[i,...]), axis=1)\n",
    "    \n",
    "#     if DOCUMENT:\n",
    "#         # upload the test results into neptune with handle 'description'\n",
    "#         run[\"test/sample_images\"].log(neptune.types.File.as_image(combTemp), name=str(i), description='test images')  \n",
    "    \n",
    "#     # upload the test images to neptune\n",
    "    \n",
    "    \n",
    "    \n",
    "#     imagePred.append(imgPred)\n",
    "    \n",
    "# imagePred = np.asarray(imagePred)"
   ]
  },
  {
   "cell_type": "code",
   "execution_count": null,
   "id": "ffce8231",
   "metadata": {},
   "outputs": [],
   "source": [
    "# prediction \n",
    "\n",
    "X_test = preprocess_input(X_test)\n",
    "\n",
    "imgPred = model.predict(X_test)\n",
    "\n",
    "# print(imgPred.shape, Y_test.shape, X_test.shape)"
   ]
  },
  {
   "cell_type": "code",
   "execution_count": null,
   "id": "54174b37",
   "metadata": {},
   "outputs": [],
   "source": [
    "# sanity check \n",
    "\n",
    "NUM = 16\n",
    "\n",
    "subShow(imgPred[NUM,...], Y_test[NUM,...])  # they are binary value"
   ]
  },
  {
   "cell_type": "code",
   "execution_count": null,
   "id": "bf50c911-ae56-4403-8e19-3e0331b52e0d",
   "metadata": {},
   "outputs": [],
   "source": [
    "print(np.max(imgPred[NUM,...]), np.max(Y_test[NUM,...]))"
   ]
  },
  {
   "cell_type": "code",
   "execution_count": null,
   "id": "34f3fbb7",
   "metadata": {},
   "outputs": [],
   "source": [
    "# # without docuent\n",
    "\n",
    "# imagePred = []\n",
    "\n",
    "# for i in range(imgPred.shape[0]):\n",
    "#     tIMG = X_test[i,...][...,0]  # input\n",
    "#     tPred = imgPred[i,...] # prediction\n",
    "#     tMask = Y_test[i,...] # GT\n",
    "    \n",
    "#     bar = np.ones((tIMG.shape[0], 15))   # lines\n",
    "#     combTemp = np.concatenate((tIMG, bar, np.squeeze(tPred), bar, np.squeeze(tMask)), axis=1)\n",
    "    \n",
    "#     imagePred.append(combTemp)\n",
    "    \n",
    "# imagePred = np.asarray(imagePred)\n",
    "\n",
    "# # sanity check for one image\n",
    "# test = np.asarray(imagePred)\n",
    "# plt.imshow(test[0,...], cmap='gray')"
   ]
  },
  {
   "cell_type": "code",
   "execution_count": null,
   "id": "702aa18d",
   "metadata": {},
   "outputs": [],
   "source": [
    "# document with neptune\n",
    "\n",
    "imagePred = []\n",
    "\n",
    "for i in range(imgPred.shape[0]):\n",
    "    tIMG = X_test[i,...][...,0]  # input\n",
    "    tPred = imgPred[i,...] # prediction\n",
    "    tMask = Y_test[i,...] # GT\n",
    "    \n",
    "    bar = np.ones((tIMG.shape[0], 15))   # lines\n",
    "    combTemp = np.concatenate((tIMG, bar, np.squeeze(tPred), bar, np.squeeze(tMask)), axis=1)\n",
    "    \n",
    "    \n",
    "    # upload the test images to neptune\n",
    "    if DOCUMENT:\n",
    "        # upload the test results into neptune with handle 'description'\n",
    "        run[\"test/sample_images\"].log(neptune.types.File.as_image(combTemp), name=str(i), description='test images')  \n",
    "    \n",
    "    imagePred.append(combTemp)\n",
    "    \n",
    "imagePred = np.asarray(imagePred)"
   ]
  },
  {
   "cell_type": "code",
   "execution_count": null,
   "id": "d17256ee",
   "metadata": {},
   "outputs": [],
   "source": [
    "# sanity check\n",
    "\n",
    "print(imagePred.shape)\n",
    "plt.imshow(imagePred[1,...], cmap='gray')\n",
    "\n",
    "print(np.max(imagePred), np.min(imagePred))"
   ]
  },
  {
   "cell_type": "code",
   "execution_count": null,
   "id": "4e7d2d89-6c91-40fc-9860-aeda518ee4a0",
   "metadata": {},
   "outputs": [],
   "source": [
    "# # resume to logging more data\n",
    "# import neptune.new as neptune\n",
    "\n",
    "# run = neptune.init(\n",
    "#     project='leeleeroy/LM-2D-Unet',\n",
    "#     api_token=\"eyJhcGlfYWRkcmVzcyI6Imh0dHBzOi8vYXBwLm5lcHR1bmUuYWkiLCJhcGlfdXJsIjoiaHR0cHM6Ly9hcHAubmVwdHVuZS5haSIsImFwaV9rZXkiOiI3YjVjOGVmZi04MjA4LTQ4N2QtOWIzYy05M2YyZWI1NzY3MmEifQ==\",\n",
    "#     run=\"LMDUN-20\",  \n",
    "# )  # necessary credentials, the name could be used to reproduce the results \n",
    "\n",
    "# neptune.create_experiment(upload_source_files=['Unet_transfer.ipynb'])"
   ]
  },
  {
   "cell_type": "code",
   "execution_count": null,
   "id": "fec7bb3e",
   "metadata": {},
   "outputs": [],
   "source": [
    "# stop the neptune\n",
    "if DOCUMENT:\n",
    "    run.stop() "
   ]
  },
  {
   "cell_type": "code",
   "execution_count": null,
   "id": "1aa35f38",
   "metadata": {},
   "outputs": [],
   "source": [
    "# run.stop()"
   ]
  }
 ],
 "metadata": {
  "kernelspec": {
   "display_name": "CONDA (LM)",
   "language": "python",
   "name": "n2v-conda"
  },
  "language_info": {
   "codemirror_mode": {
    "name": "ipython",
    "version": 3
   },
   "file_extension": ".py",
   "mimetype": "text/x-python",
   "name": "python",
   "nbconvert_exporter": "python",
   "pygments_lexer": "ipython3",
   "version": "3.7.11"
  },
  "varInspector": {
   "cols": {
    "lenName": 16,
    "lenType": 16,
    "lenVar": 40
   },
   "kernels_config": {
    "python": {
     "delete_cmd_postfix": "",
     "delete_cmd_prefix": "del ",
     "library": "var_list.py",
     "varRefreshCmd": "print(var_dic_list())"
    },
    "r": {
     "delete_cmd_postfix": ") ",
     "delete_cmd_prefix": "rm(",
     "library": "var_list.r",
     "varRefreshCmd": "cat(var_dic_list()) "
    }
   },
   "types_to_exclude": [
    "module",
    "function",
    "builtin_function_or_method",
    "instance",
    "_Feature"
   ],
   "window_display": false
  }
 },
 "nbformat": 4,
 "nbformat_minor": 5
}
