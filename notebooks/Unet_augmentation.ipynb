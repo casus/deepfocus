{
 "cells": [
  {
   "cell_type": "markdown",
   "id": "ad15d0b1",
   "metadata": {},
   "source": [
    "#### augmentation for the Unet structure. Applied in the LM dataset"
   ]
  },
  {
   "cell_type": "code",
   "execution_count": 1,
   "id": "5dd74962",
   "metadata": {},
   "outputs": [
    {
     "name": "stdout",
     "output_type": "stream",
     "text": [
      "name: \"/device:GPU:0\"\n",
      "device_type: \"GPU\"\n",
      "memory_limit: 32503955456\n",
      "locality {\n",
      "  bus_id: 1\n",
      "  links {\n",
      "  }\n",
      "}\n",
      "incarnation: 14317926851015356491\n",
      "physical_device_desc: \"device: 0, name: Tesla V100-SXM2-32GB, pci bus id: 0000:61:00.0, compute capability: 7.0\"\n",
      "\n"
     ]
    },
    {
     "name": "stderr",
     "output_type": "stream",
     "text": [
      "2022-08-24 10:32:01.825086: I tensorflow/core/platform/cpu_feature_guard.cc:142] This TensorFlow binary is optimized with oneAPI Deep Neural Network Library (oneDNN) to use the following CPU instructions in performance-critical operations:  AVX2 AVX512F FMA\n",
      "To enable them in other operations, rebuild TensorFlow with the appropriate compiler flags.\n",
      "2022-08-24 10:32:02.472226: I tensorflow/core/common_runtime/gpu/gpu_device.cc:1510] Created device /device:GPU:0 with 30998 MB memory:  -> device: 0, name: Tesla V100-SXM2-32GB, pci bus id: 0000:61:00.0, compute capability: 7.0\n"
     ]
    },
    {
     "data": {
      "text/plain": [
       "[None]"
      ]
     },
     "execution_count": 1,
     "metadata": {},
     "output_type": "execute_result"
    }
   ],
   "source": [
    "# check the status of GPU\n",
    "from tensorflow.python.client import device_lib\n",
    "\n",
    "local_device_protos = device_lib.list_local_devices()\n",
    "\n",
    "[print(x) for x in local_device_protos if x.device_type == 'GPU']"
   ]
  },
  {
   "cell_type": "code",
   "execution_count": 2,
   "id": "5b13b977-9e5e-4f04-8a89-130944b797a7",
   "metadata": {},
   "outputs": [],
   "source": [
    "# define if the documenting process should go on\n",
    "\n",
    "DOCUMENT = True\n",
    "# DOCUMENT = False\n",
    "TRAIN = 300 # training epochs num"
   ]
  },
  {
   "cell_type": "code",
   "execution_count": 3,
   "id": "6f323dfe-e77b-4ea6-a0d6-ffd7287ed0a3",
   "metadata": {},
   "outputs": [
    {
     "name": "stderr",
     "output_type": "stream",
     "text": [
      "/home/li52/.conda/envs/LM/lib/python3.7/site-packages/neptune/new/internal/utils/git.py:35: UserWarning: GitPython could not be initialized\n",
      "  warnings.warn(\"GitPython could not be initialized\")\n",
      "/home/li52/.conda/envs/LM/lib/python3.7/site-packages/neptune/new/internal/utils/git.py:35: UserWarning: GitPython could not be initialized\n",
      "  warnings.warn(\"GitPython could not be initialized\")\n"
     ]
    },
    {
     "name": "stdout",
     "output_type": "stream",
     "text": [
      "https://app.neptune.ai/leeleeroy/LM-2D-Unet/e/LMDUN-34\n",
      "Remember to stop your run once you’ve finished logging your metadata (https://docs.neptune.ai/api-reference/run#.stop). It will be stopped automatically only when the notebook kernel/interactive console is terminated.\n"
     ]
    }
   ],
   "source": [
    "# neptune document\n",
    "\n",
    "import neptune.new as neptune\n",
    "from neptune.new.integrations.tensorflow_keras import NeptuneCallback\n",
    "\n",
    "if DOCUMENT:\n",
    "\n",
    "    run = neptune.init(\n",
    "        project=\"leeleeroy/LM-2D-Unet\",\n",
    "        api_token=\"eyJhcGlfYWRkcmVzcyI6Imh0dHBzOi8vYXBwLm5lcHR1bmUuYWkiLCJhcGlfdXJsIjoiaHR0cHM6Ly9hcHAubmVwdHVuZS5haSIsImFwaV9rZXkiOiI3YjVjOGVmZi04MjA4LTQ4N2QtOWIzYy05M2YyZWI1NzY3MmEifQ==\",\n",
    "        name = \"UNet2D_64_vanilla\",\n",
    "    ) # necessary credentials, the name could be used to reproduce the results \n",
    "\n",
    "    # for callbacks in training\n",
    "\n",
    "\n",
    "\n",
    "    neptune_cbk = NeptuneCallback(run=run, base_namespace='metrics')  # neptune for the training process\n",
    "    \n",
    "    # neptune document the hyper param.\n",
    "\n",
    "    PARAMS = {\n",
    "              \"optimizer\": {\"learning_rate\": 0.001, \"beta_1\":0.9,\"optimizer\": \"Adam\"},\n",
    "              'epochs': TRAIN,\n",
    "              'batch_size':8}\n",
    "\n",
    "    # log hyper-parameters\n",
    "    run['hyper-parameters'] = PARAMS\n",
    "    run[\"sys/tags\"].add([\"vanilla\", \"val\", \"binary\", \"epochs:\" + str(TRAIN)])\n"
   ]
  },
  {
   "cell_type": "markdown",
   "id": "48d3eda9-1b7b-4c8a-81ec-afd854342059",
   "metadata": {},
   "source": [
    "#### load in the data"
   ]
  },
  {
   "cell_type": "code",
   "execution_count": 4,
   "id": "5f107f3d-d9dc-449e-8afb-95c3044e7b9a",
   "metadata": {},
   "outputs": [],
   "source": [
    "# data loading \n",
    "\n",
    "import os\n",
    "import numpy as np\n",
    "import matplotlib.pyplot as plt\n",
    "from scipy import ndimage\n",
    "import os\n",
    "import pandas as pd\n",
    "import random"
   ]
  },
  {
   "cell_type": "code",
   "execution_count": 5,
   "id": "179fb226-89f8-4a7c-a7bd-15ed22461ec0",
   "metadata": {},
   "outputs": [],
   "source": [
    "# visualization for two images\n",
    "\n",
    "def subShow(IMG1, IMG2):\n",
    "    plt.figure()\n",
    "    plt.subplot(1,2,1)\n",
    "    plt.imshow(IMG1, cmap='gray')\n",
    "    plt.subplot(1,2,2)\n",
    "    plt.imshow(IMG2, cmap='gray')\n",
    "    plt.show()"
   ]
  },
  {
   "cell_type": "code",
   "execution_count": 6,
   "id": "4c1c898a-6ba3-43f6-a2ca-987f65ef8c2b",
   "metadata": {},
   "outputs": [
    {
     "name": "stdout",
     "output_type": "stream",
     "text": [
      "Mask info:  (300, 1040, 1040) uint8\n",
      "Image info:  (300, 1040, 1040) uint8\n"
     ]
    }
   ],
   "source": [
    "PATH = '/bigdata/casus/MLID/RuiLi/Data/LM/zebrafish_partial_15/'\n",
    "\n",
    "Mask = np.load(PATH + 'biMasks15.npy')\n",
    "IMG = np.load(PATH + 'rawGray15.npy')\n",
    "\n",
    "Mask = Mask.reshape(-1, 1040, 1392)  # flatten into images \n",
    "IMG = IMG.reshape(-1, 1040, 1392)\n",
    "\n",
    "Mask = Mask[...,176:(176+Mask.shape[1])]  # crop for later scaling\n",
    "IMG = IMG[...,176:(176+IMG.shape[1])]\n",
    "\n",
    "print('Mask info: ', Mask.shape, Mask.dtype)\n",
    "print('Image info: ', IMG.shape, IMG.dtype)"
   ]
  },
  {
   "cell_type": "code",
   "execution_count": 7,
   "id": "b3378f95-f871-4f10-b9fb-90862e9e8cd2",
   "metadata": {},
   "outputs": [],
   "source": [
    "# resize the images\n",
    "\n",
    "from skimage.transform import resize\n",
    "\n",
    "SIZE = [256, 256]\n",
    "totalIMG = Mask.shape[0]\n",
    "numIMG = 250\n",
    "\n",
    "smallIMG = resize(IMG[:numIMG,...], (numIMG,SIZE[0],SIZE[1]), anti_aliasing=True)\n",
    "smallIMG = np.interp(smallIMG, (smallIMG.min(), smallIMG.max()), (0, 1))  # rescale the img\n",
    "\n",
    "smallMask = resize(Mask[:numIMG,...].astype(bool), (numIMG,SIZE[0],SIZE[1]), anti_aliasing=False)\n",
    "smallMask = smallMask.astype(int)"
   ]
  },
  {
   "cell_type": "code",
   "execution_count": 8,
   "id": "a1b710b5-3f42-4b3a-ade4-eb9831eed225",
   "metadata": {},
   "outputs": [
    {
     "data": {
      "image/png": "[encoded data removed]",
      "text/plain": [
       "<Figure size 432x288 with 2 Axes>"
      ]
     },
     "metadata": {
      "needs_background": "light"
     },
     "output_type": "display_data"
    }
   ],
   "source": [
    "# sanity check\n",
    "\n",
    "NUM = 100\n",
    "\n",
    "subShow(Mask[NUM,...], IMG[NUM,...])"
   ]
  },
  {
   "cell_type": "code",
   "execution_count": 9,
   "id": "09a24383-a486-4ab1-8cb2-c735c0344702",
   "metadata": {},
   "outputs": [],
   "source": [
    "# patchify the images\n",
    "from patchify import patchify, unpatchify\n",
    "\n",
    "def rawPatch(imageStack,patchPara):\n",
    "    all_img_patches = []\n",
    "\n",
    "    for img in range(imageStack.shape[0]):\n",
    "        large_image = imageStack[img]\n",
    "\n",
    "        patches_img = patchify(large_image, (patchPara['x'],patchPara['y']), step=patchPara['step'])  # no overlap\n",
    "\n",
    "        for i in range(patches_img.shape[0]):\n",
    "            for j in range(patches_img.shape[1]):\n",
    "\n",
    "                single_patch_img = patches_img[i,j,:,:]\n",
    "                # transform the image if the type is not correct\n",
    "                if single_patch_img.dtype == 'uint8':\n",
    "                    single_patch_img = (single_patch_img.astype('float32')) / 255.  # remember to standarize into 0-1\n",
    "                    \n",
    "                all_img_patches.append(single_patch_img)\n",
    "    \n",
    "    return all_img_patches, patches_img.shape"
   ]
  },
  {
   "cell_type": "code",
   "execution_count": 10,
   "id": "62be02f5-300e-4fbe-9456-af190dfd4f9f",
   "metadata": {},
   "outputs": [
    {
     "data": {
      "image/png": "[encoded data removed]",
      "text/plain": [
       "<Figure size 432x288 with 2 Axes>"
      ]
     },
     "metadata": {
      "needs_background": "light"
     },
     "output_type": "display_data"
    },
    {
     "name": "stdout",
     "output_type": "stream",
     "text": [
      "img: (250, 256, 256) float64\n",
      "mask: (250, 256, 256) int64\n",
      "img range: 1.0 0.0\n",
      "mask range: 1 0\n"
     ]
    }
   ],
   "source": [
    "# sanity check for the resized data\n",
    "\n",
    "subShow(smallIMG[0,...], smallMask[0,...])\n",
    "\n",
    "print('img:',smallIMG.shape, smallIMG.dtype)\n",
    "print('mask:',smallMask.shape, smallMask.dtype)\n",
    "\n",
    "print('img range:', np.max(smallIMG), np.min(smallIMG))\n",
    "print('mask range:', np.max(smallMask), np.min(smallMask))"
   ]
  },
  {
   "cell_type": "code",
   "execution_count": 11,
   "id": "40df646c-e002-49e5-8a11-d1ebcdbb1269",
   "metadata": {},
   "outputs": [],
   "source": [
    "# preporcessing the data into patches\n",
    "\n",
    "# train dataset\n",
    "patchPara = {'x': 256, 'y': 256, 'step':256}\n",
    "\n",
    "X_patches, _ =  rawPatch(smallIMG, patchPara); X_patches = np.stack((X_patches,)*3, axis=-1)\n",
    "Y_masks, _ = rawPatch(smallMask, patchPara); Y_masks = np.expand_dims(Y_masks, -1)"
   ]
  },
  {
   "cell_type": "code",
   "execution_count": 12,
   "id": "9b630187-80a1-4773-80d3-4e2039989308",
   "metadata": {},
   "outputs": [
    {
     "name": "stdout",
     "output_type": "stream",
     "text": [
      "patches shape: (250, 256, 256, 3) float64\n",
      "mask shape: (250, 256, 256, 1) int64\n",
      "1 0\n",
      "0.40549308236637466 0.0029438465615517144\n"
     ]
    }
   ],
   "source": [
    "# check the data properties\n",
    "\n",
    "print('patches shape:',X_patches.shape, X_patches.dtype)\n",
    "print('mask shape:',Y_masks.shape, Y_masks.dtype)\n",
    "print(np.max(Y_masks[0,...]), np.min(Y_masks[0,...]))\n",
    "print(np.max(X_patches[0,...]), np.min(X_patches[0,...]))"
   ]
  },
  {
   "cell_type": "code",
   "execution_count": 13,
   "id": "23f04c29-51d5-4281-b1af-1cf7ee03d0e4",
   "metadata": {},
   "outputs": [
    {
     "data": {
      "image/png": "[encoded data removed]",
      "text/plain": [
       "<Figure size 432x288 with 8 Axes>"
      ]
     },
     "metadata": {
      "needs_background": "light"
     },
     "output_type": "display_data"
    }
   ],
   "source": [
    "#  sanity check for the mask and images\n",
    "\n",
    "startNum = 100\n",
    "n_samples = 4\n",
    "\n",
    "for i in range(n_samples):\n",
    "    plt.subplot(2, n_samples, 1+i)\n",
    "    plt.axis('off')\n",
    "    plt.imshow(X_patches[int(i+startNum)], cmap='gray')\n",
    "    \n",
    "for i in range(n_samples):\n",
    "    plt.subplot(2, n_samples, 1+n_samples+i)\n",
    "    plt.axis('off')\n",
    "    plt.imshow(Y_masks[int(i+startNum)], cmap='gray')    \n",
    "plt.show()"
   ]
  },
  {
   "cell_type": "markdown",
   "id": "5d2c12e3-8637-4663-bed7-07a175396120",
   "metadata": {},
   "source": [
    "#### Prepare the model"
   ]
  },
  {
   "cell_type": "code",
   "execution_count": 14,
   "id": "deed7110",
   "metadata": {},
   "outputs": [],
   "source": [
    "# Unet structure in blocks\n",
    "import tensorflow.keras as k\n",
    "\n",
    "from keras.models import Model\n",
    "from keras.layers import Input, Conv2D, MaxPooling2D, UpSampling2D, concatenate, Conv2DTranspose, BatchNormalization, Dropout, Lambda\n",
    "from tensorflow.keras.optimizers import Adam  # ! notice here must write in tensorflow.keras\n",
    "from keras.layers import Activation, MaxPool2D, Concatenate\n",
    "\n",
    "\n",
    "def conv_block(input, num_filters):\n",
    "    x = Conv2D(num_filters, 3, padding=\"same\")(input)\n",
    "    x = BatchNormalization()(x)   #Not in the original network. \n",
    "    x = Activation(\"relu\")(x)\n",
    "\n",
    "    x = Conv2D(num_filters, 3, padding=\"same\")(x)\n",
    "    x = BatchNormalization()(x)  #Not in the original network\n",
    "    x = Activation(\"relu\")(x)\n",
    "\n",
    "    return x\n",
    "\n",
    "#Encoder block: Conv block followed by maxpooling\n",
    "\n",
    "def encoder_block(input, num_filters):\n",
    "    x = conv_block(input, num_filters)\n",
    "    p = MaxPool2D((2, 2))(x)\n",
    "    return x, p   \n",
    "\n",
    "#Decoder block\n",
    "#skip features gets input from encoder for concatenation\n",
    "\n",
    "def decoder_block(input, skip_features, num_filters):\n",
    "    x = Conv2DTranspose(num_filters, (2, 2), strides=2, padding=\"same\")(input)\n",
    "    x = Concatenate()([x, skip_features])\n",
    "    x = conv_block(x, num_filters)\n",
    "    return x\n",
    "\n",
    "#Build Unet using the blocks\n",
    "def build_unet(input_shape):\n",
    "    inputs = Input(input_shape)\n",
    "\n",
    "    s1, p1 = encoder_block(inputs, 64)\n",
    "    s2, p2 = encoder_block(p1, 128)\n",
    "    s3, p3 = encoder_block(p2, 256)\n",
    "    s4, p4 = encoder_block(p3, 512)\n",
    "\n",
    "    b1 = conv_block(p4, 1024) #Bridge\n",
    "\n",
    "    d1 = decoder_block(b1, s4, 512)\n",
    "    d2 = decoder_block(d1, s3, 256)\n",
    "    d3 = decoder_block(d2, s2, 128)\n",
    "    d4 = decoder_block(d3, s1, 64)\n",
    "\n",
    "    outputs = Conv2D(1, 1, padding=\"same\", activation=\"sigmoid\")(d4)  #Binary (can be multiclass)\n",
    "\n",
    "    model = Model(inputs, outputs, name=\"U-Net\")\n",
    "    return model"
   ]
  },
  {
   "cell_type": "code",
   "execution_count": 15,
   "id": "e6d96ba4-6cf9-44ba-8550-18d8bb0e7d75",
   "metadata": {},
   "outputs": [
    {
     "name": "stdout",
     "output_type": "stream",
     "text": [
      "Segmentation Models: using `keras` framework.\n"
     ]
    }
   ],
   "source": [
    "# loss function\n",
    "\n",
    "import segmentation_models as sm\n",
    "\n",
    "# loss function\n",
    "# loss\n",
    "BCE_loss = sm.losses.BinaryCELoss()\n",
    "dice_loss = sm.losses.DiceLoss(class_weights=np.array([0.5,0.5]))\n",
    "focal_loss = sm.losses.CategoricalFocalLoss()\n",
    "# jaccard_loss = sm.losses.bce_jaccard_loss()\n",
    "\n",
    "# total_loss = dice_loss*0.005 + (1* focal_loss) + BCE_loss*1\n",
    "# total_loss = dice_loss*1 + ( focal_loss*1) + BCE_loss*0.005\n",
    "total_loss = dice_loss*0.05 + (0.5* focal_loss) + BCE_loss*0.95"
   ]
  },
  {
   "cell_type": "code",
   "execution_count": 16,
   "id": "5d1a636e",
   "metadata": {},
   "outputs": [
    {
     "name": "stderr",
     "output_type": "stream",
     "text": [
      "2022-08-24 10:32:14.861291: I tensorflow/core/common_runtime/gpu/gpu_device.cc:1510] Created device /job:localhost/replica:0/task:0/device:GPU:0 with 30998 MB memory:  -> device: 0, name: Tesla V100-SXM2-32GB, pci bus id: 0000:61:00.0, compute capability: 7.0\n",
      "/home/li52/.conda/envs/LM/lib/python3.7/site-packages/keras/optimizer_v2/optimizer_v2.py:356: UserWarning: The `lr` argument is deprecated, use `learning_rate` instead.\n",
      "  \"The `lr` argument is deprecated, use `learning_rate` instead.\")\n"
     ]
    }
   ],
   "source": [
    "# compile the model\n",
    "from tensorflow.keras.optimizers import Adam\n",
    "import segmentation_models as sm\n",
    "\n",
    "\n",
    "IMG_WIDTH = 256\n",
    "IMG_HEIGHT = 256\n",
    "IMG_CHANNELS = 3\n",
    "\n",
    "input_shape = (IMG_HEIGHT, IMG_WIDTH, IMG_CHANNELS)\n",
    "\n",
    "model = build_unet(input_shape)\n",
    "# model.compile(optimizer=Adam(lr = 1e-3), loss='binary_crossentropy', metrics=['accuracy', sm.metrics.IOUScore(threshold=0.5)])  # add Adam from Keras, not tensorflow.adam\n",
    "model.compile(optimizer=Adam(lr = 1e-3), loss=total_loss, metrics=['accuracy', sm.metrics.IOUScore(threshold=0.5),sm.metrics.FScore(threshold=0.5)])\n",
    "\n",
    "# model.summary()"
   ]
  },
  {
   "cell_type": "markdown",
   "id": "ec50a2c5-915c-4183-a4bb-e4107c7470e6",
   "metadata": {},
   "source": [
    "#### Realize the model for training"
   ]
  },
  {
   "cell_type": "code",
   "execution_count": 17,
   "id": "8d387d90-81b9-4fee-8811-c9cfcf96fb5e",
   "metadata": {},
   "outputs": [],
   "source": [
    "from sklearn.model_selection import train_test_split\n",
    "\n",
    "images = X_patches\n",
    "masks = Y_masks\n",
    "\n",
    "X_train, X_val, Y_train, Y_val = train_test_split(images, masks, test_size = 0.25, random_state = 42)\n",
    "\n",
    "# X_train = Xtrain_patches; Y_train = Ytrain_patches;\n",
    "# X_test = Xtest_patches; Y_test = Ytest_patches;\n"
   ]
  },
  {
   "cell_type": "code",
   "execution_count": 18,
   "id": "63343256",
   "metadata": {},
   "outputs": [],
   "source": [
    "# data augmentation\n",
    "\n",
    "seed=24  # gurantee the images and masks are the same with augmentaion\n",
    "from keras.preprocessing.image import ImageDataGenerator\n",
    "\n",
    "# dictionary for augmentation\n",
    "img_data_gen_args = dict(rotation_range=90,\n",
    "                     width_shift_range=0.3,\n",
    "                     height_shift_range=0.3,\n",
    "                     shear_range=0.5,\n",
    "                     zoom_range=0.3,\n",
    "                     horizontal_flip=True,\n",
    "                     vertical_flip=True,\n",
    "                     fill_mode='reflect')\n",
    "\n",
    "mask_data_gen_args = dict(rotation_range=90,\n",
    "                     width_shift_range=0.3,\n",
    "                     height_shift_range=0.3,\n",
    "                     shear_range=0.5,\n",
    "                     zoom_range=0.3,\n",
    "                     horizontal_flip=True,\n",
    "                     vertical_flip=True,\n",
    "                     fill_mode='reflect',)\n",
    "                     # preprocessing_function = lambda x: np.where(x>0, 1, 0).astype(x.dtype)) \n",
    "#Binarize the output again. Because the new-generated images comes with interperated values\n",
    "\n",
    "image_data_generator = ImageDataGenerator(**img_data_gen_args)\n",
    "\n",
    "\n",
    "batch_size= 8  # 16 will dead\n"
   ]
  },
  {
   "cell_type": "code",
   "execution_count": 19,
   "id": "283c40fa-24d8-45fe-b3b3-66e3ce523b2b",
   "metadata": {},
   "outputs": [],
   "source": [
    "# Data generator\n",
    "\n",
    "image_data_generator = ImageDataGenerator(**img_data_gen_args)\n",
    "image_data_generator.fit(X_train, augment=True, seed=seed)  # relevant to normalization\n",
    "\n",
    "image_generator = image_data_generator.flow(X_train, seed=seed)\n",
    "valid_img_generator = image_data_generator.flow(X_val, seed=seed)\n",
    "\n",
    "mask_data_generator = ImageDataGenerator(**mask_data_gen_args)\n",
    "mask_data_generator.fit(Y_train, augment=True, seed=seed)\n",
    "mask_generator = mask_data_generator.flow(Y_train, seed=seed)\n",
    "valid_mask_generator = mask_data_generator.flow(Y_val, seed=seed)"
   ]
  },
  {
   "cell_type": "code",
   "execution_count": 20,
   "id": "897c7de1-91b7-4bab-8be6-5cf74de85512",
   "metadata": {},
   "outputs": [],
   "source": [
    "# pack the two generators together\n",
    "\n",
    "def my_image_mask_generator(image_generator, mask_generator):\n",
    "    train_generator = zip(image_generator, mask_generator)\n",
    "    for (img, mask) in train_generator:\n",
    "        yield (img, mask)"
   ]
  },
  {
   "cell_type": "code",
   "execution_count": 21,
   "id": "05d8bf12",
   "metadata": {},
   "outputs": [],
   "source": [
    "# generator\n",
    "\n",
    "my_generator = my_image_mask_generator(image_generator, mask_generator)  # give out the image generator and mask at teh same time\n",
    "\n",
    "validation_datagen = my_image_mask_generator(valid_img_generator, valid_mask_generator)\n",
    "\n",
    "x = image_generator.next()\n",
    "y = mask_generator.next()"
   ]
  },
  {
   "cell_type": "markdown",
   "id": "645621ad-9e38-4d73-bd25-9b5e4d7ff2d7",
   "metadata": {},
   "source": [
    "#### Train the model"
   ]
  },
  {
   "cell_type": "code",
   "execution_count": 22,
   "id": "8aca5025-6f7b-4d9b-87e4-de7cc670ac64",
   "metadata": {},
   "outputs": [
    {
     "name": "stderr",
     "output_type": "stream",
     "text": [
      "2022-08-24 10:32:19.128917: I tensorflow/core/profiler/lib/profiler_session.cc:131] Profiler session initializing.\n",
      "2022-08-24 10:32:19.129027: I tensorflow/core/profiler/lib/profiler_session.cc:146] Profiler session started.\n",
      "2022-08-24 10:32:19.129094: I tensorflow/core/profiler/internal/gpu/cupti_tracer.cc:1614] Profiler found 1 GPUs\n",
      "2022-08-24 10:32:19.129533: W tensorflow/stream_executor/platform/default/dso_loader.cc:64] Could not load dynamic library 'libcupti.so.11.2'; dlerror: libcupti.so.11.2: cannot open shared object file: No such file or directory; LD_LIBRARY_PATH: /trinity/shared/pkg/numlib/mpfr/3.1.4/lib:/trinity/shared/pkg/numlib/mpc/1.0.3/lib:/trinity/shared/pkg/numlib/gmp/6.1.2/lib:/trinity/shared/pkg/compiler/gcc/7.3.0/lib64:/trinity/shared/pkg/compiler/gcc/7.3.0/lib:/trinity/shared/pkg/devel/cuda/11.2/lib64:/trinity/shared/pkg/devel/cuda/11.2/lib:/trinity/shared/pkg/devel/anaconda/2021.11/lib:/trinity/shared/pkg/devel/python/3.10.4/lib/python3.10:/trinity/shared/pkg/devel/python/3.10.4/lib\n",
      "2022-08-24 10:32:19.129784: W tensorflow/stream_executor/platform/default/dso_loader.cc:64] Could not load dynamic library 'libcupti.so'; dlerror: libcupti.so: cannot open shared object file: No such file or directory; LD_LIBRARY_PATH: /trinity/shared/pkg/numlib/mpfr/3.1.4/lib:/trinity/shared/pkg/numlib/mpc/1.0.3/lib:/trinity/shared/pkg/numlib/gmp/6.1.2/lib:/trinity/shared/pkg/compiler/gcc/7.3.0/lib64:/trinity/shared/pkg/compiler/gcc/7.3.0/lib:/trinity/shared/pkg/devel/cuda/11.2/lib64:/trinity/shared/pkg/devel/cuda/11.2/lib:/trinity/shared/pkg/devel/anaconda/2021.11/lib:/trinity/shared/pkg/devel/python/3.10.4/lib/python3.10:/trinity/shared/pkg/devel/python/3.10.4/lib\n",
      "2022-08-24 10:32:19.129868: E tensorflow/core/profiler/internal/gpu/cupti_tracer.cc:1666] function cupti_interface_->Subscribe( &subscriber_, (CUpti_CallbackFunc)ApiCallback, this)failed with error CUPTI could not be loaded or symbol could not be found.\n",
      "2022-08-24 10:32:19.129933: I tensorflow/core/profiler/lib/profiler_session.cc:164] Profiler session tear down.\n",
      "2022-08-24 10:32:19.129986: E tensorflow/core/profiler/internal/gpu/cupti_tracer.cc:1757] function cupti_interface_->Finalize()failed with error CUPTI could not be loaded or symbol could not be found.\n"
     ]
    }
   ],
   "source": [
    "import tensorflow.keras as k\n",
    "\n",
    "if DOCUMENT:\n",
    "    callbacks = [\n",
    "        # k.callbacks.EarlyStopping(patience=15, monitor='val_loss'),\n",
    "        neptune_cbk, \n",
    "        k.callbacks.TensorBoard(log_dir = './Unet/tensorBoard')  # save in new folder in hemera. Also update in neptune\n",
    "    ]\n",
    "else:\n",
    "    callbacks = [\n",
    "        # k.callbacks.EarlyStopping(patience=15, monitor='val_loss'),\n",
    "        k.callbacks.TensorBoard(log_dir = './Unet/tensorBoard')  # save in new folder in hemera. Also update in neptune\n",
    "    ]"
   ]
  },
  {
   "cell_type": "code",
   "execution_count": null,
   "id": "5191b3a2",
   "metadata": {
    "collapsed": true,
    "jupyter": {
     "outputs_hidden": true
    },
    "tags": []
   },
   "outputs": [
    {
     "name": "stderr",
     "output_type": "stream",
     "text": [
      "/home/li52/.conda/envs/LM/lib/python3.7/site-packages/keras/engine/training.py:1972: UserWarning: `Model.fit_generator` is deprecated and will be removed in a future version. Please use `Model.fit`, which supports generators.\n",
      "  warnings.warn('`Model.fit_generator` is deprecated and '\n",
      "2022-08-24 10:32:19.653163: I tensorflow/compiler/mlir/mlir_graph_optimization_pass.cc:185] None of the MLIR Optimization Passes are enabled (registered 2)\n"
     ]
    },
    {
     "name": "stdout",
     "output_type": "stream",
     "text": [
      "Epoch 1/300\n"
     ]
    },
    {
     "name": "stderr",
     "output_type": "stream",
     "text": [
      "2022-08-24 10:32:22.692697: I tensorflow/stream_executor/cuda/cuda_dnn.cc:369] Loaded cuDNN version 8201\n"
     ]
    },
    {
     "name": "stdout",
     "output_type": "stream",
     "text": [
      " 1/70 [..............................] - ETA: 12:11 - loss: 0.9612 - accuracy: 0.4536 - iou_score: 0.2405 - f1-score: 0.3877"
     ]
    },
    {
     "name": "stderr",
     "output_type": "stream",
     "text": [
      "2022-08-24 10:32:30.332945: I tensorflow/core/profiler/lib/profiler_session.cc:131] Profiler session initializing.\n",
      "2022-08-24 10:32:30.332982: I tensorflow/core/profiler/lib/profiler_session.cc:146] Profiler session started.\n",
      "2022-08-24 10:32:30.333105: E tensorflow/core/profiler/internal/gpu/cupti_tracer.cc:1666] function cupti_interface_->Subscribe( &subscriber_, (CUpti_CallbackFunc)ApiCallback, this)failed with error CUPTI could not be loaded or symbol could not be found.\n"
     ]
    },
    {
     "name": "stdout",
     "output_type": "stream",
     "text": [
      " 2/70 [..............................] - ETA: 38s - loss: 0.8908 - accuracy: 0.5683 - iou_score: 0.4169 - f1-score: 0.5662  "
     ]
    },
    {
     "name": "stderr",
     "output_type": "stream",
     "text": [
      "2022-08-24 10:32:30.845248: I tensorflow/core/profiler/lib/profiler_session.cc:66] Profiler session collecting data.\n",
      "2022-08-24 10:32:30.848476: E tensorflow/core/profiler/internal/gpu/cupti_tracer.cc:1757] function cupti_interface_->Finalize()failed with error CUPTI could not be loaded or symbol could not be found.\n",
      "2022-08-24 10:32:30.859150: I tensorflow/core/profiler/internal/gpu/cupti_collector.cc:673]  GpuTracer has collected 0 callback api events and 0 activity events. \n",
      "2022-08-24 10:32:30.861977: I tensorflow/core/profiler/lib/profiler_session.cc:164] Profiler session tear down.\n",
      "2022-08-24 10:32:30.873362: I tensorflow/core/profiler/rpc/client/save_profile.cc:136] Creating directory: ./Unet/tensorBoard/train/plugins/profile/2022_08_24_10_32_30\n",
      "\n",
      "2022-08-24 10:32:30.875632: I tensorflow/core/profiler/rpc/client/save_profile.cc:142] Dumped gzipped tool data for trace.json.gz to ./Unet/tensorBoard/train/plugins/profile/2022_08_24_10_32_30/gv012.cluster.trace.json.gz\n",
      "2022-08-24 10:32:30.918311: I tensorflow/core/profiler/rpc/client/save_profile.cc:136] Creating directory: ./Unet/tensorBoard/train/plugins/profile/2022_08_24_10_32_30\n",
      "\n",
      "2022-08-24 10:32:30.928259: I tensorflow/core/profiler/rpc/client/save_profile.cc:142] Dumped gzipped tool data for memory_profile.json.gz to ./Unet/tensorBoard/train/plugins/profile/2022_08_24_10_32_30/gv012.cluster.memory_profile.json.gz\n",
      "2022-08-24 10:32:30.936680: I tensorflow/core/profiler/rpc/client/capture_profile.cc:251] Creating directory: ./Unet/tensorBoard/train/plugins/profile/2022_08_24_10_32_30\n",
      "Dumped tool data for xplane.pb to ./Unet/tensorBoard/train/plugins/profile/2022_08_24_10_32_30/gv012.cluster.xplane.pb\n",
      "Dumped tool data for overview_page.pb to ./Unet/tensorBoard/train/plugins/profile/2022_08_24_10_32_30/gv012.cluster.overview_page.pb\n",
      "Dumped tool data for input_pipeline.pb to ./Unet/tensorBoard/train/plugins/profile/2022_08_24_10_32_30/gv012.cluster.input_pipeline.pb\n",
      "Dumped tool data for tensorflow_stats.pb to ./Unet/tensorBoard/train/plugins/profile/2022_08_24_10_32_30/gv012.cluster.tensorflow_stats.pb\n",
      "Dumped tool data for kernel_stats.pb to ./Unet/tensorBoard/train/plugins/profile/2022_08_24_10_32_30/gv012.cluster.kernel_stats.pb\n",
      "\n"
     ]
    },
    {
     "name": "stdout",
     "output_type": "stream",
     "text": [
      "70/70 [==============================] - 103s 1s/step - loss: 0.3333 - accuracy: 0.8657 - iou_score: 0.8143 - f1-score: 0.8921 - val_loss: 4.3682 - val_accuracy: 0.5398 - val_iou_score: 0.2516 - val_f1-score: 0.4018\n",
      "Epoch 2/300\n",
      "70/70 [==============================] - 88s 1s/step - loss: 0.2779 - accuracy: 0.9001 - iou_score: 0.8621 - f1-score: 0.9252 - val_loss: 8.7806 - val_accuracy: 0.3975 - val_iou_score: 1.8669e-06 - val_f1-score: 3.7335e-06\n",
      "Epoch 3/300\n",
      "70/70 [==============================] - 88s 1s/step - loss: 0.2753 - accuracy: 0.9013 - iou_score: 0.8637 - f1-score: 0.9258 - val_loss: 1.2652 - val_accuracy: 0.6890 - val_iou_score: 0.4997 - val_f1-score: 0.6652\n",
      "Epoch 4/300\n",
      "70/70 [==============================] - 88s 1s/step - loss: 0.2563 - accuracy: 0.9082 - iou_score: 0.8739 - f1-score: 0.9318 - val_loss: 2.5683 - val_accuracy: 0.5859 - val_iou_score: 0.3217 - val_f1-score: 0.4854\n",
      "Epoch 5/300\n",
      "70/70 [==============================] - 88s 1s/step - loss: 0.2487 - accuracy: 0.9115 - iou_score: 0.8773 - f1-score: 0.9338 - val_loss: 0.5936 - val_accuracy: 0.7416 - val_iou_score: 0.6817 - val_f1-score: 0.8104\n",
      "Epoch 6/300\n",
      "70/70 [==============================] - 88s 1s/step - loss: 0.2501 - accuracy: 0.9115 - iou_score: 0.8779 - f1-score: 0.9340 - val_loss: 0.9291 - val_accuracy: 0.6768 - val_iou_score: 0.6432 - val_f1-score: 0.7826\n",
      "Epoch 7/300\n",
      "70/70 [==============================] - 80s 1s/step - loss: 0.2504 - accuracy: 0.9112 - iou_score: 0.8776 - f1-score: 0.9336 - val_loss: 0.3889 - val_accuracy: 0.9013 - val_iou_score: 0.8586 - val_f1-score: 0.9230\n",
      "Epoch 8/300\n",
      "70/70 [==============================] - 88s 1s/step - loss: 0.2206 - accuracy: 0.9217 - iou_score: 0.8904 - f1-score: 0.9414 - val_loss: 0.2691 - val_accuracy: 0.9112 - val_iou_score: 0.8717 - val_f1-score: 0.9307\n",
      "Epoch 9/300\n",
      "70/70 [==============================] - 88s 1s/step - loss: 0.2345 - accuracy: 0.9164 - iou_score: 0.8841 - f1-score: 0.9378 - val_loss: 0.3902 - val_accuracy: 0.8497 - val_iou_score: 0.8018 - val_f1-score: 0.8894\n",
      "Epoch 10/300\n",
      "70/70 [==============================] - 88s 1s/step - loss: 0.2303 - accuracy: 0.9180 - iou_score: 0.8866 - f1-score: 0.9393 - val_loss: 0.4209 - val_accuracy: 0.8443 - val_iou_score: 0.7965 - val_f1-score: 0.8857\n",
      "Epoch 11/300\n",
      "70/70 [==============================] - 80s 1s/step - loss: 0.2263 - accuracy: 0.9181 - iou_score: 0.8852 - f1-score: 0.9385 - val_loss: 0.3480 - val_accuracy: 0.8727 - val_iou_score: 0.8291 - val_f1-score: 0.9059\n",
      "Epoch 12/300\n",
      "70/70 [==============================] - 88s 1s/step - loss: 0.2248 - accuracy: 0.9202 - iou_score: 0.8897 - f1-score: 0.9410 - val_loss: 0.2911 - val_accuracy: 0.8974 - val_iou_score: 0.8588 - val_f1-score: 0.9233\n",
      "Epoch 13/300\n",
      "70/70 [==============================] - 88s 1s/step - loss: 0.2269 - accuracy: 0.9198 - iou_score: 0.8890 - f1-score: 0.9403 - val_loss: 0.2997 - val_accuracy: 0.8903 - val_iou_score: 0.8494 - val_f1-score: 0.9177\n",
      "Epoch 14/300\n",
      "70/70 [==============================] - 87s 1s/step - loss: 0.2134 - accuracy: 0.9219 - iou_score: 0.8903 - f1-score: 0.9415 - val_loss: 0.4799 - val_accuracy: 0.7959 - val_iou_score: 0.7496 - val_f1-score: 0.8566\n",
      "Epoch 15/300\n",
      "70/70 [==============================] - 87s 1s/step - loss: 0.2326 - accuracy: 0.9164 - iou_score: 0.8856 - f1-score: 0.9383 - val_loss: 0.3486 - val_accuracy: 0.8725 - val_iou_score: 0.8299 - val_f1-score: 0.9061\n",
      "Epoch 16/300\n",
      "70/70 [==============================] - 87s 1s/step - loss: 0.2179 - accuracy: 0.9218 - iou_score: 0.8932 - f1-score: 0.9430 - val_loss: 0.2841 - val_accuracy: 0.9076 - val_iou_score: 0.8714 - val_f1-score: 0.9305\n",
      "Epoch 17/300\n",
      "70/70 [==============================] - 88s 1s/step - loss: 0.2145 - accuracy: 0.9220 - iou_score: 0.8918 - f1-score: 0.9422 - val_loss: 0.2562 - val_accuracy: 0.9091 - val_iou_score: 0.8736 - val_f1-score: 0.9317\n",
      "Epoch 18/300\n",
      "70/70 [==============================] - 88s 1s/step - loss: 0.2248 - accuracy: 0.9203 - iou_score: 0.8905 - f1-score: 0.9411 - val_loss: 0.2360 - val_accuracy: 0.9133 - val_iou_score: 0.8803 - val_f1-score: 0.9355\n",
      "Epoch 19/300\n",
      "70/70 [==============================] - 88s 1s/step - loss: 0.2202 - accuracy: 0.9204 - iou_score: 0.8895 - f1-score: 0.9406 - val_loss: 0.2614 - val_accuracy: 0.9060 - val_iou_score: 0.8692 - val_f1-score: 0.9292\n",
      "Epoch 20/300\n",
      "70/70 [==============================] - 87s 1s/step - loss: 0.2114 - accuracy: 0.9241 - iou_score: 0.8939 - f1-score: 0.9432 - val_loss: 0.2707 - val_accuracy: 0.8997 - val_iou_score: 0.8615 - val_f1-score: 0.9247\n",
      "Epoch 21/300\n",
      "70/70 [==============================] - 87s 1s/step - loss: 0.2163 - accuracy: 0.9228 - iou_score: 0.8935 - f1-score: 0.9428 - val_loss: 0.4947 - val_accuracy: 0.8116 - val_iou_score: 0.7632 - val_f1-score: 0.8652\n",
      "Epoch 22/300\n",
      "70/70 [==============================] - 88s 1s/step - loss: 0.2156 - accuracy: 0.9236 - iou_score: 0.8945 - f1-score: 0.9435 - val_loss: 0.6547 - val_accuracy: 0.7258 - val_iou_score: 0.6898 - val_f1-score: 0.8161\n",
      "Epoch 23/300\n",
      "70/70 [==============================] - 87s 1s/step - loss: 0.2076 - accuracy: 0.9245 - iou_score: 0.8949 - f1-score: 0.9441 - val_loss: 0.2618 - val_accuracy: 0.9160 - val_iou_score: 0.8816 - val_f1-score: 0.9364\n",
      "Epoch 24/300\n",
      "70/70 [==============================] - 87s 1s/step - loss: 0.2150 - accuracy: 0.9233 - iou_score: 0.8946 - f1-score: 0.9435 - val_loss: 0.3108 - val_accuracy: 0.8879 - val_iou_score: 0.8468 - val_f1-score: 0.9162\n",
      "Epoch 25/300\n",
      "70/70 [==============================] - 88s 1s/step - loss: 0.2169 - accuracy: 0.9217 - iou_score: 0.8925 - f1-score: 0.9422 - val_loss: 0.4550 - val_accuracy: 0.8147 - val_iou_score: 0.7676 - val_f1-score: 0.8680\n",
      "Epoch 26/300\n",
      "70/70 [==============================] - 88s 1s/step - loss: 0.2057 - accuracy: 0.9254 - iou_score: 0.8968 - f1-score: 0.9448 - val_loss: 0.3563 - val_accuracy: 0.8740 - val_iou_score: 0.8307 - val_f1-score: 0.9069\n",
      "Epoch 27/300\n",
      "70/70 [==============================] - 81s 1s/step - loss: 0.2103 - accuracy: 0.9244 - iou_score: 0.8967 - f1-score: 0.9446 - val_loss: 0.2898 - val_accuracy: 0.9061 - val_iou_score: 0.8686 - val_f1-score: 0.9289\n",
      "Epoch 28/300\n",
      "70/70 [==============================] - 80s 1s/step - loss: 0.2102 - accuracy: 0.9240 - iou_score: 0.8954 - f1-score: 0.9440 - val_loss: 1.3089 - val_accuracy: 0.6635 - val_iou_score: 0.6431 - val_f1-score: 0.7825\n",
      "Epoch 29/300\n",
      "70/70 [==============================] - 81s 1s/step - loss: 0.1970 - accuracy: 0.9276 - iou_score: 0.8986 - f1-score: 0.9462 - val_loss: 0.2399 - val_accuracy: 0.9145 - val_iou_score: 0.8803 - val_f1-score: 0.9356\n",
      "Epoch 30/300\n",
      "70/70 [==============================] - 87s 1s/step - loss: 0.2099 - accuracy: 0.9236 - iou_score: 0.8952 - f1-score: 0.9438 - val_loss: 0.5700 - val_accuracy: 0.7818 - val_iou_score: 0.7358 - val_f1-score: 0.8472\n",
      "Epoch 31/300\n",
      "70/70 [==============================] - 88s 1s/step - loss: 0.2027 - accuracy: 0.9268 - iou_score: 0.8991 - f1-score: 0.9458 - val_loss: 0.2332 - val_accuracy: 0.9176 - val_iou_score: 0.8840 - val_f1-score: 0.9375\n",
      "Epoch 32/300\n",
      "70/70 [==============================] - 88s 1s/step - loss: 0.1968 - accuracy: 0.9277 - iou_score: 0.8994 - f1-score: 0.9466 - val_loss: 0.6246 - val_accuracy: 0.8030 - val_iou_score: 0.7570 - val_f1-score: 0.8609\n",
      "Epoch 33/300\n",
      "70/70 [==============================] - 88s 1s/step - loss: 0.2107 - accuracy: 0.9241 - iou_score: 0.8957 - f1-score: 0.9440 - val_loss: 0.9411 - val_accuracy: 0.6446 - val_iou_score: 0.6299 - val_f1-score: 0.7727\n",
      "Epoch 34/300\n",
      "70/70 [==============================] - 88s 1s/step - loss: 0.2041 - accuracy: 0.9265 - iou_score: 0.8990 - f1-score: 0.9460 - val_loss: 0.2407 - val_accuracy: 0.9104 - val_iou_score: 0.8757 - val_f1-score: 0.9326\n",
      "Epoch 35/300\n",
      "70/70 [==============================] - 88s 1s/step - loss: 0.1896 - accuracy: 0.9304 - iou_score: 0.9029 - f1-score: 0.9484 - val_loss: 0.6583 - val_accuracy: 0.7537 - val_iou_score: 0.7111 - val_f1-score: 0.8308\n",
      "Epoch 36/300\n",
      "70/70 [==============================] - 87s 1s/step - loss: 0.1955 - accuracy: 0.9299 - iou_score: 0.9040 - f1-score: 0.9489 - val_loss: 0.2905 - val_accuracy: 0.8988 - val_iou_score: 0.8614 - val_f1-score: 0.9247\n",
      "Epoch 37/300\n",
      "70/70 [==============================] - 88s 1s/step - loss: 0.1996 - accuracy: 0.9282 - iou_score: 0.9013 - f1-score: 0.9473 - val_loss: 0.2431 - val_accuracy: 0.9119 - val_iou_score: 0.8751 - val_f1-score: 0.9322\n",
      "Epoch 38/300\n",
      "70/70 [==============================] - 87s 1s/step - loss: 0.1885 - accuracy: 0.9313 - iou_score: 0.9047 - f1-score: 0.9494 - val_loss: 0.2292 - val_accuracy: 0.9199 - val_iou_score: 0.8878 - val_f1-score: 0.9399\n",
      "Epoch 39/300\n",
      "70/70 [==============================] - 88s 1s/step - loss: 0.2022 - accuracy: 0.9270 - iou_score: 0.8999 - f1-score: 0.9465 - val_loss: 0.4091 - val_accuracy: 0.8515 - val_iou_score: 0.8046 - val_f1-score: 0.8911\n",
      "Epoch 40/300\n",
      "70/70 [==============================] - 88s 1s/step - loss: 0.1997 - accuracy: 0.9279 - iou_score: 0.9017 - f1-score: 0.9472 - val_loss: 0.3166 - val_accuracy: 0.8837 - val_iou_score: 0.8411 - val_f1-score: 0.9131\n",
      "Epoch 41/300\n",
      "70/70 [==============================] - 88s 1s/step - loss: 0.1902 - accuracy: 0.9293 - iou_score: 0.9010 - f1-score: 0.9474 - val_loss: 1.0301 - val_accuracy: 0.6702 - val_iou_score: 0.6465 - val_f1-score: 0.7850\n",
      "Epoch 42/300\n",
      "70/70 [==============================] - 87s 1s/step - loss: 0.1994 - accuracy: 0.9276 - iou_score: 0.9003 - f1-score: 0.9464 - val_loss: 0.2477 - val_accuracy: 0.9134 - val_iou_score: 0.8798 - val_f1-score: 0.9353\n",
      "Epoch 43/300\n",
      "70/70 [==============================] - 88s 1s/step - loss: 0.1899 - accuracy: 0.9304 - iou_score: 0.9042 - f1-score: 0.9490 - val_loss: 0.2102 - val_accuracy: 0.9232 - val_iou_score: 0.8916 - val_f1-score: 0.9417\n",
      "Epoch 44/300\n",
      "70/70 [==============================] - 81s 1s/step - loss: 0.1794 - accuracy: 0.9338 - iou_score: 0.9084 - f1-score: 0.9518 - val_loss: 0.2245 - val_accuracy: 0.9184 - val_iou_score: 0.8865 - val_f1-score: 0.9390\n",
      "Epoch 45/300\n",
      "70/70 [==============================] - 88s 1s/step - loss: 0.1913 - accuracy: 0.9311 - iou_score: 0.9050 - f1-score: 0.9494 - val_loss: 0.3017 - val_accuracy: 0.8860 - val_iou_score: 0.8443 - val_f1-score: 0.9150\n",
      "Epoch 46/300\n",
      "70/70 [==============================] - 88s 1s/step - loss: 0.1880 - accuracy: 0.9324 - iou_score: 0.9079 - f1-score: 0.9509 - val_loss: 0.2623 - val_accuracy: 0.8977 - val_iou_score: 0.8579 - val_f1-score: 0.9226\n",
      "Epoch 47/300\n",
      "70/70 [==============================] - 81s 1s/step - loss: 0.1851 - accuracy: 0.9327 - iou_score: 0.9068 - f1-score: 0.9505 - val_loss: 0.4651 - val_accuracy: 0.8373 - val_iou_score: 0.7902 - val_f1-score: 0.8823\n",
      "Epoch 48/300\n",
      "70/70 [==============================] - 87s 1s/step - loss: 0.1883 - accuracy: 0.9317 - iou_score: 0.9064 - f1-score: 0.9501 - val_loss: 0.3626 - val_accuracy: 0.8586 - val_iou_score: 0.8123 - val_f1-score: 0.8957\n",
      "Epoch 49/300\n",
      "70/70 [==============================] - 87s 1s/step - loss: 0.1887 - accuracy: 0.9317 - iou_score: 0.9063 - f1-score: 0.9500 - val_loss: 0.2368 - val_accuracy: 0.9193 - val_iou_score: 0.8871 - val_f1-score: 0.9392\n",
      "Epoch 50/300\n",
      "70/70 [==============================] - 88s 1s/step - loss: 0.1775 - accuracy: 0.9340 - iou_score: 0.9081 - f1-score: 0.9514 - val_loss: 0.2315 - val_accuracy: 0.9178 - val_iou_score: 0.8858 - val_f1-score: 0.9387\n",
      "Epoch 51/300\n",
      "70/70 [==============================] - 87s 1s/step - loss: 0.1923 - accuracy: 0.9306 - iou_score: 0.9056 - f1-score: 0.9497 - val_loss: 0.2180 - val_accuracy: 0.9219 - val_iou_score: 0.8916 - val_f1-score: 0.9420\n",
      "Epoch 52/300\n",
      "70/70 [==============================] - 88s 1s/step - loss: 0.1902 - accuracy: 0.9314 - iou_score: 0.9062 - f1-score: 0.9501 - val_loss: 0.3328 - val_accuracy: 0.8710 - val_iou_score: 0.8274 - val_f1-score: 0.9050\n",
      "Epoch 53/300\n",
      "70/70 [==============================] - 80s 1s/step - loss: 0.1747 - accuracy: 0.9353 - iou_score: 0.9097 - f1-score: 0.9522 - val_loss: 0.2205 - val_accuracy: 0.9213 - val_iou_score: 0.8883 - val_f1-score: 0.9402\n",
      "Epoch 54/300\n",
      "70/70 [==============================] - 87s 1s/step - loss: 0.1846 - accuracy: 0.9327 - iou_score: 0.9068 - f1-score: 0.9504 - val_loss: 0.3263 - val_accuracy: 0.8788 - val_iou_score: 0.8366 - val_f1-score: 0.9106\n",
      "Epoch 55/300\n",
      "70/70 [==============================] - 88s 1s/step - loss: 0.1838 - accuracy: 0.9322 - iou_score: 0.9078 - f1-score: 0.9508 - val_loss: 0.2922 - val_accuracy: 0.9040 - val_iou_score: 0.8683 - val_f1-score: 0.9288\n",
      "Epoch 56/300\n",
      "70/70 [==============================] - 87s 1s/step - loss: 0.1770 - accuracy: 0.9345 - iou_score: 0.9097 - f1-score: 0.9520 - val_loss: 0.2122 - val_accuracy: 0.9229 - val_iou_score: 0.8903 - val_f1-score: 0.9411\n",
      "Epoch 57/300\n",
      "70/70 [==============================] - 87s 1s/step - loss: 0.1825 - accuracy: 0.9334 - iou_score: 0.9093 - f1-score: 0.9516 - val_loss: 0.2280 - val_accuracy: 0.9176 - val_iou_score: 0.8851 - val_f1-score: 0.9382\n",
      "Epoch 58/300\n",
      "70/70 [==============================] - 88s 1s/step - loss: 0.1837 - accuracy: 0.9332 - iou_score: 0.9091 - f1-score: 0.9516 - val_loss: 0.2185 - val_accuracy: 0.9217 - val_iou_score: 0.8917 - val_f1-score: 0.9418\n",
      "Epoch 59/300\n",
      "70/70 [==============================] - 88s 1s/step - loss: 0.1734 - accuracy: 0.9352 - iou_score: 0.9106 - f1-score: 0.9526 - val_loss: 1.6612 - val_accuracy: 0.6668 - val_iou_score: 0.6427 - val_f1-score: 0.7822\n",
      "Epoch 60/300\n",
      "70/70 [==============================] - 88s 1s/step - loss: 0.1874 - accuracy: 0.9312 - iou_score: 0.9057 - f1-score: 0.9497 - val_loss: 1.2576 - val_accuracy: 0.6804 - val_iou_score: 0.6547 - val_f1-score: 0.7909\n",
      "Epoch 61/300\n",
      "70/70 [==============================] - 88s 1s/step - loss: 0.1802 - accuracy: 0.9350 - iou_score: 0.9119 - f1-score: 0.9530 - val_loss: 0.2177 - val_accuracy: 0.9187 - val_iou_score: 0.8862 - val_f1-score: 0.9388\n",
      "Epoch 62/300\n",
      "70/70 [==============================] - 88s 1s/step - loss: 0.1701 - accuracy: 0.9376 - iou_score: 0.9141 - f1-score: 0.9546 - val_loss: 0.2281 - val_accuracy: 0.9218 - val_iou_score: 0.8903 - val_f1-score: 0.9412\n",
      "Epoch 63/300\n",
      "70/70 [==============================] - 88s 1s/step - loss: 0.1802 - accuracy: 0.9333 - iou_score: 0.9095 - f1-score: 0.9514 - val_loss: 0.2197 - val_accuracy: 0.9218 - val_iou_score: 0.8919 - val_f1-score: 0.9419\n",
      "Epoch 64/300\n",
      "70/70 [==============================] - 88s 1s/step - loss: 0.1823 - accuracy: 0.9332 - iou_score: 0.9098 - f1-score: 0.9518 - val_loss: 0.4439 - val_accuracy: 0.8379 - val_iou_score: 0.7919 - val_f1-score: 0.8834\n",
      "Epoch 65/300\n",
      "70/70 [==============================] - 88s 1s/step - loss: 0.1682 - accuracy: 0.9384 - iou_score: 0.9145 - f1-score: 0.9545 - val_loss: 0.2151 - val_accuracy: 0.9223 - val_iou_score: 0.8892 - val_f1-score: 0.9406\n",
      "Epoch 66/300\n",
      "70/70 [==============================] - 88s 1s/step - loss: 0.1832 - accuracy: 0.9335 - iou_score: 0.9098 - f1-score: 0.9516 - val_loss: 0.3120 - val_accuracy: 0.8900 - val_iou_score: 0.8497 - val_f1-score: 0.9180\n",
      "Epoch 67/300\n",
      "70/70 [==============================] - 88s 1s/step - loss: 0.1745 - accuracy: 0.9352 - iou_score: 0.9121 - f1-score: 0.9531 - val_loss: 0.3083 - val_accuracy: 0.8891 - val_iou_score: 0.8504 - val_f1-score: 0.9185\n",
      "Epoch 68/300\n",
      "70/70 [==============================] - 81s 1s/step - loss: 0.1710 - accuracy: 0.9370 - iou_score: 0.9135 - f1-score: 0.9542 - val_loss: 0.2400 - val_accuracy: 0.9174 - val_iou_score: 0.8833 - val_f1-score: 0.9374\n",
      "Epoch 69/300\n",
      "70/70 [==============================] - 88s 1s/step - loss: 0.1790 - accuracy: 0.9347 - iou_score: 0.9118 - f1-score: 0.9530 - val_loss: 0.2638 - val_accuracy: 0.9064 - val_iou_score: 0.8711 - val_f1-score: 0.9304\n",
      "Epoch 70/300\n",
      "70/70 [==============================] - 87s 1s/step - loss: 0.1743 - accuracy: 0.9364 - iou_score: 0.9131 - f1-score: 0.9537 - val_loss: 0.2668 - val_accuracy: 0.9046 - val_iou_score: 0.8692 - val_f1-score: 0.9292\n",
      "Epoch 71/300\n",
      "70/70 [==============================] - 88s 1s/step - loss: 0.1699 - accuracy: 0.9357 - iou_score: 0.9107 - f1-score: 0.9529 - val_loss: 0.2224 - val_accuracy: 0.9197 - val_iou_score: 0.8873 - val_f1-score: 0.9395\n",
      "Epoch 72/300\n",
      "70/70 [==============================] - 88s 1s/step - loss: 0.1724 - accuracy: 0.9368 - iou_score: 0.9143 - f1-score: 0.9546 - val_loss: 0.2441 - val_accuracy: 0.9124 - val_iou_score: 0.8756 - val_f1-score: 0.9327\n",
      "Epoch 73/300\n",
      "70/70 [==============================] - 88s 1s/step - loss: 0.1733 - accuracy: 0.9358 - iou_score: 0.9119 - f1-score: 0.9531 - val_loss: 0.2503 - val_accuracy: 0.9053 - val_iou_score: 0.8690 - val_f1-score: 0.9292\n",
      "Epoch 74/300\n",
      "70/70 [==============================] - 87s 1s/step - loss: 0.1634 - accuracy: 0.9395 - iou_score: 0.9161 - f1-score: 0.9557 - val_loss: 0.3637 - val_accuracy: 0.8657 - val_iou_score: 0.8209 - val_f1-score: 0.9010\n",
      "Epoch 75/300\n",
      "70/70 [==============================] - 80s 1s/step - loss: 0.1708 - accuracy: 0.9379 - iou_score: 0.9151 - f1-score: 0.9547 - val_loss: 0.4944 - val_accuracy: 0.8371 - val_iou_score: 0.7900 - val_f1-score: 0.8821\n",
      "Epoch 76/300\n",
      "70/70 [==============================] - 88s 1s/step - loss: 0.1676 - accuracy: 0.9384 - iou_score: 0.9159 - f1-score: 0.9554 - val_loss: 0.2273 - val_accuracy: 0.9154 - val_iou_score: 0.8823 - val_f1-score: 0.9366\n",
      "Epoch 77/300\n",
      "70/70 [==============================] - 87s 1s/step - loss: 0.1596 - accuracy: 0.9389 - iou_score: 0.9150 - f1-score: 0.9551 - val_loss: 0.3282 - val_accuracy: 0.8810 - val_iou_score: 0.8322 - val_f1-score: 0.9076\n",
      "Epoch 78/300\n",
      "70/70 [==============================] - 87s 1s/step - loss: 0.1715 - accuracy: 0.9368 - iou_score: 0.9132 - f1-score: 0.9538 - val_loss: 0.2178 - val_accuracy: 0.9290 - val_iou_score: 0.8981 - val_f1-score: 0.9452\n",
      "Epoch 79/300\n",
      "70/70 [==============================] - 88s 1s/step - loss: 0.1656 - accuracy: 0.9401 - iou_score: 0.9183 - f1-score: 0.9565 - val_loss: 0.3479 - val_accuracy: 0.8666 - val_iou_score: 0.8201 - val_f1-score: 0.9007\n",
      "Epoch 80/300\n",
      "70/70 [==============================] - 87s 1s/step - loss: 0.1660 - accuracy: 0.9388 - iou_score: 0.9155 - f1-score: 0.9550 - val_loss: 0.3599 - val_accuracy: 0.8719 - val_iou_score: 0.8246 - val_f1-score: 0.9031\n",
      "Epoch 81/300\n",
      "70/70 [==============================] - 88s 1s/step - loss: 0.1634 - accuracy: 0.9405 - iou_score: 0.9182 - f1-score: 0.9567 - val_loss: 0.2342 - val_accuracy: 0.9212 - val_iou_score: 0.8899 - val_f1-score: 0.9410\n",
      "Epoch 82/300\n",
      "70/70 [==============================] - 88s 1s/step - loss: 0.1681 - accuracy: 0.9395 - iou_score: 0.9182 - f1-score: 0.9563 - val_loss: 0.3342 - val_accuracy: 0.8898 - val_iou_score: 0.8479 - val_f1-score: 0.9168\n",
      "Epoch 83/300\n",
      "70/70 [==============================] - 80s 1s/step - loss: 0.1568 - accuracy: 0.9413 - iou_score: 0.9190 - f1-score: 0.9575 - val_loss: 0.2702 - val_accuracy: 0.8919 - val_iou_score: 0.8429 - val_f1-score: 0.9135\n",
      "Epoch 84/300\n",
      "70/70 [==============================] - 88s 1s/step - loss: 0.1714 - accuracy: 0.9387 - iou_score: 0.9166 - f1-score: 0.9554 - val_loss: 0.3174 - val_accuracy: 0.8931 - val_iou_score: 0.8540 - val_f1-score: 0.9206\n",
      "Epoch 85/300\n",
      "70/70 [==============================] - 80s 1s/step - loss: 0.1665 - accuracy: 0.9400 - iou_score: 0.9185 - f1-score: 0.9567 - val_loss: 0.2241 - val_accuracy: 0.9213 - val_iou_score: 0.8911 - val_f1-score: 0.9413\n",
      "Epoch 86/300\n",
      "70/70 [==============================] - 88s 1s/step - loss: 0.1513 - accuracy: 0.9428 - iou_score: 0.9206 - f1-score: 0.9583 - val_loss: 0.3654 - val_accuracy: 0.8794 - val_iou_score: 0.8380 - val_f1-score: 0.9110\n",
      "Epoch 87/300\n",
      "70/70 [==============================] - 88s 1s/step - loss: 0.1654 - accuracy: 0.9404 - iou_score: 0.9184 - f1-score: 0.9566 - val_loss: 0.2145 - val_accuracy: 0.9260 - val_iou_score: 0.8963 - val_f1-score: 0.9445\n",
      "Epoch 88/300\n",
      "70/70 [==============================] - 88s 1s/step - loss: 0.1609 - accuracy: 0.9415 - iou_score: 0.9203 - f1-score: 0.9576 - val_loss: 0.4672 - val_accuracy: 0.8433 - val_iou_score: 0.7950 - val_f1-score: 0.8854\n",
      "Epoch 89/300\n",
      "70/70 [==============================] - 87s 1s/step - loss: 0.1583 - accuracy: 0.9426 - iou_score: 0.9212 - f1-score: 0.9583 - val_loss: 0.2191 - val_accuracy: 0.9176 - val_iou_score: 0.8848 - val_f1-score: 0.9381\n",
      "Epoch 90/300\n",
      "70/70 [==============================] - 88s 1s/step - loss: 0.1631 - accuracy: 0.9410 - iou_score: 0.9192 - f1-score: 0.9569 - val_loss: 0.2216 - val_accuracy: 0.9168 - val_iou_score: 0.8841 - val_f1-score: 0.9378\n",
      "Epoch 91/300\n",
      "70/70 [==============================] - 88s 1s/step - loss: 0.1663 - accuracy: 0.9407 - iou_score: 0.9196 - f1-score: 0.9574 - val_loss: 0.2860 - val_accuracy: 0.8940 - val_iou_score: 0.8538 - val_f1-score: 0.9204\n",
      "Epoch 92/300\n",
      "70/70 [==============================] - 87s 1s/step - loss: 0.1463 - accuracy: 0.9464 - iou_score: 0.9262 - f1-score: 0.9613 - val_loss: 0.2192 - val_accuracy: 0.9206 - val_iou_score: 0.8877 - val_f1-score: 0.9397\n",
      "Epoch 93/300\n",
      "70/70 [==============================] - 87s 1s/step - loss: 0.1608 - accuracy: 0.9432 - iou_score: 0.9228 - f1-score: 0.9589 - val_loss: 0.2296 - val_accuracy: 0.9206 - val_iou_score: 0.8892 - val_f1-score: 0.9404\n",
      "Epoch 94/300\n",
      "70/70 [==============================] - 88s 1s/step - loss: 0.1592 - accuracy: 0.9433 - iou_score: 0.9235 - f1-score: 0.9592 - val_loss: 0.2936 - val_accuracy: 0.9058 - val_iou_score: 0.8716 - val_f1-score: 0.9306\n",
      "Epoch 95/300\n",
      "70/70 [==============================] - 88s 1s/step - loss: 0.1475 - accuracy: 0.9455 - iou_score: 0.9244 - f1-score: 0.9603 - val_loss: 0.2153 - val_accuracy: 0.9253 - val_iou_score: 0.8959 - val_f1-score: 0.9442\n",
      "Epoch 96/300\n",
      "70/70 [==============================] - 88s 1s/step - loss: 0.1580 - accuracy: 0.9430 - iou_score: 0.9233 - f1-score: 0.9594 - val_loss: 0.2528 - val_accuracy: 0.9125 - val_iou_score: 0.8792 - val_f1-score: 0.9348\n",
      "Epoch 97/300\n",
      "70/70 [==============================] - 87s 1s/step - loss: 0.1596 - accuracy: 0.9433 - iou_score: 0.9238 - f1-score: 0.9596 - val_loss: 0.2250 - val_accuracy: 0.9278 - val_iou_score: 0.8976 - val_f1-score: 0.9449\n",
      "Epoch 98/300\n",
      "70/70 [==============================] - 80s 1s/step - loss: 0.1426 - accuracy: 0.9473 - iou_score: 0.9280 - f1-score: 0.9623 - val_loss: 0.2391 - val_accuracy: 0.9156 - val_iou_score: 0.8822 - val_f1-score: 0.9365\n",
      "Epoch 99/300\n",
      "70/70 [==============================] - 88s 1s/step - loss: 0.1657 - accuracy: 0.9418 - iou_score: 0.9216 - f1-score: 0.9581 - val_loss: 0.3034 - val_accuracy: 0.9115 - val_iou_score: 0.8778 - val_f1-score: 0.9343\n",
      "Epoch 100/300\n",
      "70/70 [==============================] - 87s 1s/step - loss: 0.1517 - accuracy: 0.9453 - iou_score: 0.9259 - f1-score: 0.9609 - val_loss: 0.2236 - val_accuracy: 0.9251 - val_iou_score: 0.8950 - val_f1-score: 0.9437\n",
      "Epoch 101/300\n",
      "70/70 [==============================] - 88s 1s/step - loss: 0.1463 - accuracy: 0.9461 - iou_score: 0.9245 - f1-score: 0.9604 - val_loss: 0.2085 - val_accuracy: 0.9268 - val_iou_score: 0.8974 - val_f1-score: 0.9450\n",
      "Epoch 102/300\n",
      "70/70 [==============================] - 88s 1s/step - loss: 0.1554 - accuracy: 0.9446 - iou_score: 0.9249 - f1-score: 0.9602 - val_loss: 0.4008 - val_accuracy: 0.8733 - val_iou_score: 0.8312 - val_f1-score: 0.9072\n",
      "Epoch 103/300\n",
      "70/70 [==============================] - 88s 1s/step - loss: 0.1573 - accuracy: 0.9443 - iou_score: 0.9252 - f1-score: 0.9603 - val_loss: 0.2788 - val_accuracy: 0.9242 - val_iou_score: 0.8943 - val_f1-score: 0.9432\n",
      "Epoch 104/300\n",
      "70/70 [==============================] - 88s 1s/step - loss: 0.1456 - accuracy: 0.9465 - iou_score: 0.9265 - f1-score: 0.9614 - val_loss: 0.2500 - val_accuracy: 0.9247 - val_iou_score: 0.8940 - val_f1-score: 0.9433\n",
      "Epoch 105/300\n",
      "70/70 [==============================] - 88s 1s/step - loss: 0.1581 - accuracy: 0.9442 - iou_score: 0.9249 - f1-score: 0.9602 - val_loss: 0.2170 - val_accuracy: 0.9221 - val_iou_score: 0.8894 - val_f1-score: 0.9404\n",
      "Epoch 106/300\n",
      "70/70 [==============================] - 88s 1s/step - loss: 0.1590 - accuracy: 0.9439 - iou_score: 0.9243 - f1-score: 0.9597 - val_loss: 0.8913 - val_accuracy: 0.6996 - val_iou_score: 0.6658 - val_f1-score: 0.7990\n",
      "Epoch 107/300\n",
      "70/70 [==============================] - 88s 1s/step - loss: 0.1437 - accuracy: 0.9483 - iou_score: 0.9290 - f1-score: 0.9626 - val_loss: 0.2317 - val_accuracy: 0.9210 - val_iou_score: 0.8892 - val_f1-score: 0.9405\n",
      "Epoch 108/300\n",
      "70/70 [==============================] - 87s 1s/step - loss: 0.1533 - accuracy: 0.9464 - iou_score: 0.9284 - f1-score: 0.9619 - val_loss: 0.3086 - val_accuracy: 0.8925 - val_iou_score: 0.8524 - val_f1-score: 0.9196\n",
      "Epoch 109/300\n",
      "70/70 [==============================] - 88s 1s/step - loss: 0.1460 - accuracy: 0.9490 - iou_score: 0.9314 - f1-score: 0.9636 - val_loss: 0.6588 - val_accuracy: 0.7821 - val_iou_score: 0.7349 - val_f1-score: 0.8470\n",
      "Epoch 110/300\n",
      "70/70 [==============================] - 87s 1s/step - loss: 0.1446 - accuracy: 0.9479 - iou_score: 0.9285 - f1-score: 0.9623 - val_loss: 0.2069 - val_accuracy: 0.9285 - val_iou_score: 0.8988 - val_f1-score: 0.9461\n",
      "Epoch 111/300\n",
      "70/70 [==============================] - 87s 1s/step - loss: 0.1495 - accuracy: 0.9479 - iou_score: 0.9303 - f1-score: 0.9631 - val_loss: 0.3176 - val_accuracy: 0.8945 - val_iou_score: 0.8570 - val_f1-score: 0.9222\n",
      "Epoch 112/300\n",
      "70/70 [==============================] - 87s 1s/step - loss: 0.1500 - accuracy: 0.9471 - iou_score: 0.9293 - f1-score: 0.9626 - val_loss: 0.4424 - val_accuracy: 0.8625 - val_iou_score: 0.8183 - val_f1-score: 0.8995\n",
      "Epoch 113/300\n",
      "70/70 [==============================] - 80s 1s/step - loss: 0.1324 - accuracy: 0.9513 - iou_score: 0.9333 - f1-score: 0.9653 - val_loss: 0.2127 - val_accuracy: 0.9206 - val_iou_score: 0.8869 - val_f1-score: 0.9394\n",
      "Epoch 114/300\n",
      "70/70 [==============================] - 88s 1s/step - loss: 0.1485 - accuracy: 0.9481 - iou_score: 0.9302 - f1-score: 0.9630 - val_loss: 0.2944 - val_accuracy: 0.8975 - val_iou_score: 0.8593 - val_f1-score: 0.9237\n",
      "Epoch 115/300\n",
      "70/70 [==============================] - 87s 1s/step - loss: 0.1505 - accuracy: 0.9475 - iou_score: 0.9297 - f1-score: 0.9626 - val_loss: 0.2583 - val_accuracy: 0.9106 - val_iou_score: 0.8768 - val_f1-score: 0.9336\n",
      "Epoch 116/300\n",
      "70/70 [==============================] - 87s 1s/step - loss: 0.1353 - accuracy: 0.9508 - iou_score: 0.9324 - f1-score: 0.9646 - val_loss: 0.4283 - val_accuracy: 0.8687 - val_iou_score: 0.8264 - val_f1-score: 0.9044\n",
      "Epoch 117/300\n",
      "70/70 [==============================] - 87s 1s/step - loss: 0.1518 - accuracy: 0.9476 - iou_score: 0.9300 - f1-score: 0.9629 - val_loss: 0.2518 - val_accuracy: 0.9140 - val_iou_score: 0.8809 - val_f1-score: 0.9359\n",
      "Epoch 118/300\n",
      "70/70 [==============================] - 87s 1s/step - loss: 0.1462 - accuracy: 0.9493 - iou_score: 0.9318 - f1-score: 0.9639 - val_loss: 0.2485 - val_accuracy: 0.9180 - val_iou_score: 0.8855 - val_f1-score: 0.9383\n",
      "Epoch 119/300\n",
      "70/70 [==============================] - 88s 1s/step - loss: 0.1371 - accuracy: 0.9507 - iou_score: 0.9318 - f1-score: 0.9642 - val_loss: 0.2991 - val_accuracy: 0.8932 - val_iou_score: 0.8524 - val_f1-score: 0.9194\n",
      "Epoch 120/300\n",
      "70/70 [==============================] - 87s 1s/step - loss: 0.1443 - accuracy: 0.9501 - iou_score: 0.9330 - f1-score: 0.9645 - val_loss: 0.2090 - val_accuracy: 0.9268 - val_iou_score: 0.8966 - val_f1-score: 0.9446\n",
      "Epoch 121/300\n",
      "70/70 [==============================] - 87s 1s/step - loss: 0.1480 - accuracy: 0.9490 - iou_score: 0.9317 - f1-score: 0.9637 - val_loss: 0.2093 - val_accuracy: 0.9281 - val_iou_score: 0.9005 - val_f1-score: 0.9468\n",
      "Epoch 122/300\n",
      "70/70 [==============================] - 88s 1s/step - loss: 0.1350 - accuracy: 0.9520 - iou_score: 0.9344 - f1-score: 0.9655 - val_loss: 0.2186 - val_accuracy: 0.9198 - val_iou_score: 0.8850 - val_f1-score: 0.9381\n",
      "Epoch 123/300\n",
      "70/70 [==============================] - 87s 1s/step - loss: 0.1504 - accuracy: 0.9483 - iou_score: 0.9307 - f1-score: 0.9630 - val_loss: 0.2699 - val_accuracy: 0.9054 - val_iou_score: 0.8687 - val_f1-score: 0.9290\n",
      "Epoch 124/300\n",
      "70/70 [==============================] - 87s 1s/step - loss: 0.1462 - accuracy: 0.9500 - iou_score: 0.9339 - f1-score: 0.9649 - val_loss: 0.2038 - val_accuracy: 0.9256 - val_iou_score: 0.8936 - val_f1-score: 0.9429\n",
      "Epoch 125/300\n",
      "70/70 [==============================] - 88s 1s/step - loss: 0.1360 - accuracy: 0.9518 - iou_score: 0.9348 - f1-score: 0.9657 - val_loss: 0.4876 - val_accuracy: 0.8657 - val_iou_score: 0.8218 - val_f1-score: 0.9015\n",
      "Epoch 126/300\n",
      "70/70 [==============================] - 88s 1s/step - loss: 0.1415 - accuracy: 0.9509 - iou_score: 0.9345 - f1-score: 0.9652 - val_loss: 0.5053 - val_accuracy: 0.8265 - val_iou_score: 0.7780 - val_f1-score: 0.8747\n",
      "Epoch 127/300\n",
      "70/70 [==============================] - 79s 1s/step - loss: 0.1466 - accuracy: 0.9504 - iou_score: 0.9340 - f1-score: 0.9648 - val_loss: 1.0985 - val_accuracy: 0.6711 - val_iou_score: 0.6470 - val_f1-score: 0.7854\n",
      "Epoch 128/300\n",
      "70/70 [==============================] - 88s 1s/step - loss: 0.1324 - accuracy: 0.9534 - iou_score: 0.9374 - f1-score: 0.9671 - val_loss: 0.2813 - val_accuracy: 0.9030 - val_iou_score: 0.8654 - val_f1-score: 0.9273\n",
      "Epoch 129/300\n",
      "70/70 [==============================] - 87s 1s/step - loss: 0.1349 - accuracy: 0.9535 - iou_score: 0.9377 - f1-score: 0.9671 - val_loss: 0.2861 - val_accuracy: 0.9044 - val_iou_score: 0.8678 - val_f1-score: 0.9286\n",
      "Epoch 130/300\n",
      "70/70 [==============================] - 88s 1s/step - loss: 0.1424 - accuracy: 0.9505 - iou_score: 0.9339 - f1-score: 0.9649 - val_loss: 0.2887 - val_accuracy: 0.8997 - val_iou_score: 0.8620 - val_f1-score: 0.9252\n",
      "Epoch 131/300\n",
      "70/70 [==============================] - 80s 1s/step - loss: 0.1272 - accuracy: 0.9550 - iou_score: 0.9389 - f1-score: 0.9680 - val_loss: 0.2503 - val_accuracy: 0.9157 - val_iou_score: 0.8838 - val_f1-score: 0.9375\n",
      "Epoch 132/300\n",
      "70/70 [==============================] - 87s 1s/step - loss: 0.1455 - accuracy: 0.9506 - iou_score: 0.9339 - f1-score: 0.9649 - val_loss: 0.4477 - val_accuracy: 0.8644 - val_iou_score: 0.8205 - val_f1-score: 0.9008\n",
      "Epoch 133/300\n",
      "70/70 [==============================] - 87s 1s/step - loss: 0.1391 - accuracy: 0.9528 - iou_score: 0.9374 - f1-score: 0.9669 - val_loss: 0.2690 - val_accuracy: 0.9290 - val_iou_score: 0.9020 - val_f1-score: 0.9475\n",
      "Epoch 134/300\n",
      "70/70 [==============================] - 87s 1s/step - loss: 0.1302 - accuracy: 0.9549 - iou_score: 0.9393 - f1-score: 0.9681 - val_loss: 0.2960 - val_accuracy: 0.9161 - val_iou_score: 0.8823 - val_f1-score: 0.9365\n",
      "Epoch 135/300\n",
      "70/70 [==============================] - 87s 1s/step - loss: 0.1362 - accuracy: 0.9537 - iou_score: 0.9384 - f1-score: 0.9675 - val_loss: 0.2696 - val_accuracy: 0.9006 - val_iou_score: 0.8634 - val_f1-score: 0.9258\n",
      "Epoch 136/300\n",
      "70/70 [==============================] - 88s 1s/step - loss: 0.1407 - accuracy: 0.9524 - iou_score: 0.9368 - f1-score: 0.9664 - val_loss: 0.2815 - val_accuracy: 0.9100 - val_iou_score: 0.8748 - val_f1-score: 0.9321\n",
      "Epoch 137/300\n",
      "70/70 [==============================] - 87s 1s/step - loss: 0.1262 - accuracy: 0.9565 - iou_score: 0.9412 - f1-score: 0.9691 - val_loss: 0.2316 - val_accuracy: 0.9237 - val_iou_score: 0.8950 - val_f1-score: 0.9437\n",
      "Epoch 138/300\n",
      "70/70 [==============================] - 80s 1s/step - loss: 0.1364 - accuracy: 0.9538 - iou_score: 0.9392 - f1-score: 0.9676 - val_loss: 0.2401 - val_accuracy: 0.9228 - val_iou_score: 0.8918 - val_f1-score: 0.9418\n",
      "Epoch 139/300\n",
      "70/70 [==============================] - 88s 1s/step - loss: 0.1385 - accuracy: 0.9534 - iou_score: 0.9381 - f1-score: 0.9672 - val_loss: 0.3255 - val_accuracy: 0.8992 - val_iou_score: 0.8623 - val_f1-score: 0.9253\n",
      "Epoch 140/300\n",
      "53/70 [=====================>........] - ETA: 11s - loss: 0.1342 - accuracy: 0.9540 - iou_score: 0.9386 - f1-score: 0.9677"
     ]
    },
    {
     "name": "stderr",
     "output_type": "stream",
     "text": [
      "IOPub message rate exceeded.\n",
      "The notebook server will temporarily stop sending output\n",
      "to the client in order to avoid crashing it.\n",
      "To change this limit, set the config variable\n",
      "`--NotebookApp.iopub_msg_rate_limit`.\n",
      "\n",
      "Current values:\n",
      "NotebookApp.iopub_msg_rate_limit=1000.0 (msgs/sec)\n",
      "NotebookApp.rate_limit_window=3.0 (secs)\n",
      "\n"
     ]
    }
   ],
   "source": [
    "# define the hyper param\n",
    "\n",
    "import tensorflow.keras as k\n",
    "steps_per_epoch = 3*(len(X_train))//batch_size  # depend on the training dataset\n",
    "\n",
    "# callbacks = [\n",
    "#     #k.callbacks.EarlyStopping(patience=10, monitor='val_loss'),\n",
    "#     neptune_cbk,\n",
    "#     k.callbacks.TensorBoard(log_dir = 'logsAugH')\n",
    "# ]\n",
    "\n",
    "history = model.fit_generator(my_generator, validation_data=validation_datagen, \n",
    "                    steps_per_epoch=steps_per_epoch, \n",
    "                    validation_steps=steps_per_epoch, epochs=TRAIN, callbacks=callbacks)  # use the model from blocks build"
   ]
  },
  {
   "cell_type": "code",
   "execution_count": null,
   "id": "7afa4975-5502-43ee-9fda-8ab223e6871e",
   "metadata": {},
   "outputs": [],
   "source": [
    "# save model as local\n",
    "\n",
    "model.save(\"./Unet/model/Unet2D_vanilla_\" + str(TRAIN)+ \"_pad.h5\")"
   ]
  },
  {
   "cell_type": "code",
   "execution_count": null,
   "id": "b4efd04f",
   "metadata": {},
   "outputs": [],
   "source": [
    "# plot the accuracy and loss of the training\n",
    "\n",
    "# loss \n",
    "loss = history.history['loss']\n",
    "val_loss = history.history['val_loss']\n",
    "epochs = range(1, len(loss) + 1)\n",
    "\n",
    "plt.plot(epochs, loss, 'y', label='Training loss')\n",
    "plt.plot(epochs, val_loss, 'r', label='Validation loss')\n",
    "plt.title('Training and validation loss')\n",
    "plt.xlabel('Epochs')\n",
    "plt.ylabel('Loss')\n",
    "plt.legend()\n",
    "plt.show()\n",
    "\n",
    "# # accuracy\n",
    "# acc = history.history['accuracy']\n",
    "# val_acc = history.history['val_accuracy']\n",
    "\n",
    "# plt.plot(epochs, acc, 'y', label='Training acc')\n",
    "# plt.plot(epochs, val_acc, 'r', label='Validation acc')\n",
    "# plt.title('Training and validation accuracy')\n",
    "# plt.xlabel('Epochs')\n",
    "# plt.ylabel('Accuracy')\n",
    "# plt.legend()\n",
    "# plt.show()"
   ]
  },
  {
   "cell_type": "code",
   "execution_count": null,
   "id": "d8c7e4aa",
   "metadata": {},
   "outputs": [],
   "source": [
    "# # IOU on test dataset\n",
    "\n",
    "# y_pred=model.predict(X_test)\n",
    "# y_pred_thresholded = y_pred > 0.5\n",
    "\n",
    "# intersection = np.logical_and(Y_test, y_pred_thresholded)\n",
    "# union = np.logical_or(Y_test, y_pred_thresholded)\n",
    "# iou_score = np.sum(intersection) / np.sum(union)\n",
    "# print(\"IoU socre is: \", iou_score)"
   ]
  },
  {
   "cell_type": "markdown",
   "id": "b1c5b75a-c594-409a-bbae-859b4c163e06",
   "metadata": {},
   "source": [
    "#### test the model"
   ]
  },
  {
   "cell_type": "code",
   "execution_count": null,
   "id": "99c04d7e-6b75-4336-9a42-07460192d2d7",
   "metadata": {},
   "outputs": [],
   "source": [
    "# # running test directly from loading the model\n",
    "\n",
    "# from patchify import patchify, unpatchify\n",
    "\n",
    "# import os\n",
    "# import numpy as np\n",
    "# import matplotlib.pyplot as plt\n",
    "# from scipy import ndimage\n",
    "# import os\n",
    "# import pandas as pd\n",
    "# import random\n",
    "\n",
    "\n",
    "# import tensorflow\n",
    "# import tensorflow.keras\n",
    "\n",
    "# import segmentation_models as sm\n",
    "\n",
    "\n",
    "# # loading model from local way\n",
    "# from keras.models import load_model\n",
    "\n",
    "# model = load_model(\"./Unet/model/Unet2D_vanilla_noAug_pad.h5\", compile=False)  # some self-defined loss should be loaded by segmentation_models"
   ]
  },
  {
   "cell_type": "code",
   "execution_count": null,
   "id": "8a1ae657-e1fd-4c83-bd4a-61b754ecab54",
   "metadata": {},
   "outputs": [],
   "source": [
    "# prepare the test datasset for the rest of the images\n",
    "\n",
    "testIMG = IMG[numIMG:totalIMG,...]\n",
    "testMask = Mask[numIMG:totalIMG,...]\n",
    "\n",
    "testIMG = testIMG[...,:testIMG.shape[1]]  # crop for later scaling\n",
    "testMask = testMask[...,:testMask.shape[1]]\n",
    "\n",
    "print(testIMG.shape)\n",
    "\n",
    "# pre-process the dataset\n",
    "\n",
    "X_test = resize(testIMG, (totalIMG - numIMG,SIZE[0],SIZE[1]), anti_aliasing=True)  # resize the images\n",
    "X_test = np.interp(X_test, (X_test.min(), X_test.max()), (0, 1))\n",
    "\n",
    "Y_test = resize(testMask.astype(bool), (totalIMG - numIMG,SIZE[0],SIZE[1]), anti_aliasing=False)\n",
    "Y_test = Y_test.astype(int)\n",
    "\n",
    "print('before:',testIMG.shape)\n",
    "print('after:',X_test.shape)"
   ]
  },
  {
   "cell_type": "code",
   "execution_count": null,
   "id": "4a4dfe64-c3f7-4a25-b956-e37789eebd95",
   "metadata": {},
   "outputs": [],
   "source": [
    "# preprocess the images\n",
    "\n",
    "patchPara = {'x': 256, 'y': 256, 'step':256}\n",
    "\n",
    "X_test, _ =  rawPatch(X_test, patchPara); X_test = np.stack((X_test,)*3, axis=-1)\n",
    "Y_test, _ = rawPatch(Y_test, patchPara); Y_test = np.expand_dims(Y_test, -1)\n",
    "\n",
    "print('test image shape:', X_test.shape, X_test.dtype)\n",
    "print('test image shape:', Y_test.shape, Y_test.dtype)"
   ]
  },
  {
   "cell_type": "code",
   "execution_count": null,
   "id": "59a1a6f2-bf2c-43e9-9579-c88eaab6310d",
   "metadata": {},
   "outputs": [],
   "source": [
    "# prediction \n",
    "\n",
    "imgPred = model.predict(X_test)\n",
    "\n",
    "# print(imgPred.shape, Y_test.shape, X_test.shape)"
   ]
  },
  {
   "cell_type": "code",
   "execution_count": null,
   "id": "050d10d3-ba0e-42c7-be6e-68b382ebf94e",
   "metadata": {},
   "outputs": [],
   "source": [
    "# check for the data range\n",
    "\n",
    "print(np.max(X_test), np.min(X_test))\n",
    "print(np.max(Y_test), np.min(Y_test))\n",
    "print(np.max(imgPred), np.min(imgPred))"
   ]
  },
  {
   "cell_type": "code",
   "execution_count": null,
   "id": "faf3010e-58d8-4299-820c-28d4d89f54e7",
   "metadata": {},
   "outputs": [],
   "source": [
    "# sanity check \n",
    "\n",
    "NUM = 16\n",
    "\n",
    "subShow(imgPred[NUM,...], Y_test[NUM,...])  # they are binary value"
   ]
  },
  {
   "cell_type": "code",
   "execution_count": null,
   "id": "2b853ede-e2af-4934-a4d7-538799056106",
   "metadata": {},
   "outputs": [],
   "source": [
    "# # without docuent\n",
    "\n",
    "# imagePred = []\n",
    "\n",
    "# for i in range(imgPred.shape[0]):\n",
    "#     tIMG = X_test[i,...][...,0]  # input\n",
    "#     tPred = imgPred[i,...] # prediction\n",
    "#     tMask = Y_test[i,...] # GT\n",
    "    \n",
    "#     bar = np.ones((tIMG.shape[0], 15))   # lines\n",
    "#     combTemp = np.concatenate((tIMG, bar, np.squeeze(tPred), bar, np.squeeze(tMask)), axis=1)\n",
    "    \n",
    "#     imagePred.append(combTemp)\n",
    "    \n",
    "# imagePred = np.asarray(imagePred)\n",
    "\n",
    "# # sanity check for one image\n",
    "# test = np.asarray(imagePred)\n",
    "# plt.imshow(test[0,...], cmap='gray')"
   ]
  },
  {
   "cell_type": "code",
   "execution_count": null,
   "id": "b6ffb9fa-f118-4af3-8dde-e087a0282d6c",
   "metadata": {
    "tags": []
   },
   "outputs": [],
   "source": [
    "# document with neptune\n",
    "\n",
    "imagePred = []\n",
    "\n",
    "for i in range(imgPred.shape[0]):\n",
    "    tIMG = X_test[i,...][...,0]  # input\n",
    "    tPred = imgPred[i,...] # prediction\n",
    "    tMask = Y_test[i,...] # GT\n",
    "    \n",
    "    bar = np.ones((tIMG.shape[0], 15))   # lines\n",
    "    combTemp = np.concatenate((tIMG, bar, np.squeeze(tPred), bar, np.squeeze(tMask)), axis=1)\n",
    "    \n",
    "    \n",
    "    # upload the test images to neptune\n",
    "    if DOCUMENT:\n",
    "        # upload the test results into neptune with handle 'description'\n",
    "        run[\"test/sample_images\"].log(neptune.types.File.as_image(combTemp), name=str(i), description='test images')  \n",
    "    \n",
    "    imagePred.append(combTemp)\n",
    "    \n",
    "imagePred = np.asarray(imagePred)"
   ]
  },
  {
   "cell_type": "code",
   "execution_count": null,
   "id": "2f146162-46f1-4df4-9a5b-2c2a94fae521",
   "metadata": {},
   "outputs": [],
   "source": [
    "# sanity check\n",
    "\n",
    "print(imagePred.shape)\n",
    "plt.imshow(imagePred[1,...], cmap='gray')\n",
    "\n",
    "print(np.max(imagePred), np.min(imagePred))"
   ]
  },
  {
   "cell_type": "code",
   "execution_count": null,
   "id": "9e4a3fc9-f820-4ac3-b1dd-0f21fc8ba193",
   "metadata": {},
   "outputs": [],
   "source": [
    "# stop the neptune\n",
    "if DOCUMENT:\n",
    "    run.stop() "
   ]
  },
  {
   "cell_type": "code",
   "execution_count": null,
   "id": "bfcd9074-c3e5-46aa-b3d0-381e89b1e89f",
   "metadata": {},
   "outputs": [],
   "source": []
  }
 ],
 "metadata": {
  "kernelspec": {
   "display_name": "CONDA (LM)",
   "language": "python",
   "name": "n2v-conda"
  },
  "language_info": {
   "codemirror_mode": {
    "name": "ipython",
    "version": 3
   },
   "file_extension": ".py",
   "mimetype": "text/x-python",
   "name": "python",
   "nbconvert_exporter": "python",
   "pygments_lexer": "ipython3",
   "version": "3.7.11"
  },
  "varInspector": {
   "cols": {
    "lenName": 16,
    "lenType": 16,
    "lenVar": 40
   },
   "kernels_config": {
    "python": {
     "delete_cmd_postfix": "",
     "delete_cmd_prefix": "del ",
     "library": "var_list.py",
     "varRefreshCmd": "print(var_dic_list())"
    },
    "r": {
     "delete_cmd_postfix": ") ",
     "delete_cmd_prefix": "rm(",
     "library": "var_list.r",
     "varRefreshCmd": "cat(var_dic_list()) "
    }
   },
   "types_to_exclude": [
    "module",
    "function",
    "builtin_function_or_method",
    "instance",
    "_Feature"
   ],
   "window_display": false
  }
 },
 "nbformat": 4,
 "nbformat_minor": 5
}
