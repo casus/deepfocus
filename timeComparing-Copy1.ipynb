{
 "cells": [
  {
   "cell_type": "markdown",
   "id": "edb9c63b-cd9f-4d87-86cc-3563486107e6",
   "metadata": {},
   "source": [
    "# load data"
   ]
  },
  {
   "cell_type": "code",
   "execution_count": 1,
   "id": "2fbacc4b-8ec0-4fd9-94ce-ed636c529df5",
   "metadata": {},
   "outputs": [],
   "source": [
    "# import the necessary packages\n",
    "import imutils\n",
    "import matplotlib.pyplot as plt\n",
    "\n",
    "import os\n",
    "import numpy as np\n",
    "from scipy import ndimage\n",
    "from tqdm import tqdm  # ! this might result into problem with 'object'\n",
    "import pandas as pd\n",
    "import random\n",
    "import glob\n",
    "from skimage import io\n",
    "\n",
    "import argparse\n",
    "import time\n",
    "import cv2"
   ]
  },
  {
   "cell_type": "code",
   "execution_count": 3,
   "id": "15137a0f-778a-4efe-bf25-1822ec78e675",
   "metadata": {},
   "outputs": [
    {
     "name": "stdout",
     "output_type": "stream",
     "text": [
      "image size: (15, 20, 1040, 1392)\n"
     ]
    }
   ],
   "source": [
    "# read in the raw image\n",
    "\n",
    "image = np.load('./data/rawGray15.npy')\n",
    "print('image size:', image.shape)"
   ]
  },
  {
   "cell_type": "markdown",
   "id": "cb1676c5-ae44-4800-8df7-508f56f04ad3",
   "metadata": {},
   "source": [
    "# The multi-scanning pipeline on test dataset"
   ]
  },
  {
   "cell_type": "code",
   "execution_count": 25,
   "id": "997c8ab4-fe88-41d8-a620-c8c823273403",
   "metadata": {},
   "outputs": [],
   "source": [
    "# create the folder to save the stacks\n",
    "\n",
    "import os\n",
    "\n",
    "def mkdir(path):\n",
    "    folder = os.path.exists(path)\n",
    "    if not folder:                   \n",
    "        os.makedirs(path)           \n",
    "#     else:\n",
    "#         print('path existed')"
   ]
  },
  {
   "cell_type": "markdown",
   "id": "bbf6db7c-679c-4702-86cd-3ec872314dcd",
   "metadata": {},
   "source": [
    "## scan for the multiple images"
   ]
  },
  {
   "cell_type": "code",
   "execution_count": 26,
   "id": "b447edc9-c834-4f37-bc06-53ba7a5aff61",
   "metadata": {},
   "outputs": [],
   "source": [
    "# multiple scans for one image.\n",
    "# input: stack num, slice num, image, step, windowsize\n",
    "\n",
    "def slidingStack(stackNum, sliceNum, image, stepArray, windowSize, savedPath):\n",
    "    \n",
    "    focalStack = []\n",
    "    \n",
    "    for i in range(len(stepArray)):\n",
    "        \n",
    "        stepSize = stepArray[i]\n",
    "        # slide a window across the image\n",
    "        stdMap = np.zeros((image.shape[:2]))  # careful the image is 3 channels\n",
    "\n",
    "        for y in range(0, image.shape[0], stepSize):\n",
    "            for x in range(0, image.shape[1], stepSize):\n",
    "                # yield the current window\n",
    "                yield (x, y, image[y:y + windowSize[1], x:x + windowSize[0]])\n",
    "                tPatch = image[y:y + windowSize[1], x:x + windowSize[0], 0]  # taking only 1 channel from 3\n",
    "                tempStdPatch = np.ones((tPatch.shape)) * np.std((tPatch))\n",
    "                # print(tempStdPatch)\n",
    "                stdMap[y:y + windowSize[1], x:x + windowSize[0]] = tempStdPatch + stdMap[y:y + windowSize[1], x:x + windowSize[0]] \n",
    "                # print(tempStd)\n",
    "                \n",
    "        focalStack.append(stdMap)\n",
    "        \n",
    "    # calculate the stack and conduct max projection\n",
    "    fMax = np.max(np.asarray(focalStack), axis=0)\n",
    "    \n",
    "    # check the saving path\n",
    "    tempPath = savedPath + '/' + str(stackNum)\n",
    "    mkdir(tempPath)\n",
    "    \n",
    "    # save the max projection in sliceNum under the path 'stackNum'\n",
    "    np.save(tempPath+'/'+str(sliceNum)+'.npy', fMax)"
   ]
  },
  {
   "cell_type": "code",
   "execution_count": 27,
   "id": "f2fb9396-6b6e-48ca-aa51-a2d1eaa494b5",
   "metadata": {},
   "outputs": [],
   "source": [
    "def visualizeStack(image, stepArray, windowSize):\n",
    "    \n",
    "    # slide window scanning for one test\n",
    "    for (x, y, window) in slidingStack(image, stepArray=stepArray, windowSize=(winW, winH)):\n",
    "        # if the window does not meet our desired window size, ignore it\n",
    "        if window.shape[0] != winH or window.shape[1] != winW:\n",
    "            continue\n",
    "        # draw the window during the process\n",
    "        clone = image.copy() \n",
    "        cv2.rectangle(clone, (x, y), (x + winW, y + winH), (0, 255, 0), 2)  # third param indicates the colour\n",
    "        cv2.imshow(\"Window\", clone)\n",
    "        cv2.waitKey(1)\n",
    "           # time.sleep(0.025)\n",
    "        time.sleep(0.00025)\n",
    "    cv2.destroyAllWindows() "
   ]
  },
  {
   "cell_type": "code",
   "execution_count": 28,
   "id": "1c5804b7-3adb-4580-b402-95835eac1bb1",
   "metadata": {},
   "outputs": [],
   "source": [
    "# f-max is the max projection of the stacks\n",
    "\n",
    "# image = np.load('./notebooks/fMaxTest.npy')\n",
    "# print(image.shape)\n",
    "# test_slice = image[0,19,...]\n",
    "# plt.imshow(test_slice, cmap='gray')"
   ]
  },
  {
   "cell_type": "code",
   "execution_count": 33,
   "id": "1c6c6adf-18cc-490a-a78b-53904092e1c1",
   "metadata": {},
   "outputs": [
    {
     "name": "stdout",
     "output_type": "stream",
     "text": [
      "(15, 20, 1040, 1392)\n"
     ]
    }
   ],
   "source": [
    "# sorting out the image\n",
    "# rawData = np.stack((image,)*3, axis=-1)  # remember the operation is on 3 channels\n",
    "rawData = image\n",
    "print(rawData.shape)\n",
    "# plt.imshow(image, cmap='gray')"
   ]
  },
  {
   "cell_type": "code",
   "execution_count": 34,
   "id": "ee4be752-df65-42c6-ab18-0f2f0a5d866d",
   "metadata": {},
   "outputs": [],
   "source": [
    "# define the scanning parameters\n",
    "\n",
    "# step size\n",
    "# stepArray = [22, 24]\n",
    "stepArray = [8, 10, 12, 14, 16, 18, 20, 22, 24, 26, 28, 30, 32, 34, 36]\n",
    "# window size\n",
    "# (winW, winH) = (256, 256)\n",
    "(winW, winH) = (128, 128)\n",
    "savedPath = './data/dataPre'\n",
    "# target stack\n",
    "targetStack = rawData\n",
    "# targetStack = tempStack[:,:2,:,:]"
   ]
  },
  {
   "cell_type": "code",
   "execution_count": null,
   "id": "0125de28-72f1-4a06-969c-11acaaf66725",
   "metadata": {},
   "outputs": [],
   "source": [
    "# scan the images in step size\n",
    "from timeit import default_timer as timer\n",
    "start = timer()\n",
    "\n",
    "for stackNum in range(targetStack.shape[0]):\n",
    "    \n",
    "    for sliceNum in range(targetStack.shape[1]):\n",
    "        image = np.stack((targetStack[stackNum,sliceNum,...],)*3, axis=-1) \n",
    "        for (x, y, window) in slidingStack(stackNum, sliceNum, image, stepArray=stepArray, windowSize=(winW, winH), savedPath=savedPath):\n",
    "        # if the window does not meet our desired window size, ignore it\n",
    "            if window.shape[0] != winH or window.shape[1] != winW:\n",
    "                continue \n",
    "                \n",
    "end = timer()"
   ]
  },
  {
   "cell_type": "code",
   "execution_count": null,
   "id": "0d66f0d0-97d7-4944-9bfb-6bb8fc5dc104",
   "metadata": {},
   "outputs": [],
   "source": [
    "time1_local_scan = end-start\n",
    "print('the original scanning:', time1_local_scan)"
   ]
  },
  {
   "cell_type": "markdown",
   "id": "1346ca51-7e55-4a62-a934-e1622a77b838",
   "metadata": {},
   "source": [
    "## sort out the images from the max projection"
   ]
  },
  {
   "cell_type": "code",
   "execution_count": null,
   "id": "1343713e-0c81-4567-9374-19d152d4a182",
   "metadata": {},
   "outputs": [],
   "source": [
    "# define the read in function for max projection\n",
    "\n",
    "def readTIF(data_path):\n",
    "    fStack = []\n",
    "    for img in glob.glob(os.path.join(data_path, \"*.npy\")):\n",
    "        im = np.load(os.path.join(data_path, img))  \n",
    "        imarray = np.array(im)\n",
    "        fStack.append(imarray)  # images, num of slices, channels, img.x, img.y\n",
    "    return np.asarray(fStack)"
   ]
  },
  {
   "cell_type": "code",
   "execution_count": null,
   "id": "4976bd5e-167a-4089-806c-c7f8d44294b7",
   "metadata": {},
   "outputs": [],
   "source": [
    "# read in multiple stacks\n",
    "\n",
    "fStacks = []\n",
    "\n",
    "for i in range(tempStack.shape[0]):\n",
    "    fStackTemp = readTIF(savedPath+'/'+str(i)+'/')\n",
    "    fStacks.append(fStackTemp)\n",
    "    \n",
    "fStacks = np.asarray(fStacks)"
   ]
  },
  {
   "cell_type": "markdown",
   "id": "24e7d00d-84ac-4582-961e-c7accdd4062c",
   "metadata": {},
   "source": [
    "# the DNN model for mask segmentation"
   ]
  },
  {
   "cell_type": "code",
   "execution_count": 4,
   "id": "d101d58b-6463-43bf-bca0-3e46fbe8b8c6",
   "metadata": {},
   "outputs": [],
   "source": [
    "import os \n",
    "import numpy as np\n",
    "from notebooks.dataGenerator import imageLoader\n",
    "import keras\n",
    "import matplotlib.pyplot as plt\n",
    "import glob\n",
    "import random\n",
    "from models.simple2DUnet_256 import *"
   ]
  },
  {
   "cell_type": "code",
   "execution_count": 5,
   "id": "41e33cef-4246-4fb2-86ff-4f4003f85be6",
   "metadata": {},
   "outputs": [],
   "source": [
    "# visualize func\n",
    "\n",
    "def visusalizeIMG(n_slice, test_img, test_msk):\n",
    "    # n_slice = random.randint(0, test_img.shape[2])\n",
    "    plt.figure(figsize=(8, 8))\n",
    "\n",
    "    plt.subplot(121)\n",
    "    plt.imshow(test_img[n_slice,:,:], cmap='gray')\n",
    "    plt.title('image')\n",
    "    plt.subplot(122)\n",
    "    plt.imshow(test_msk[n_slice,:,:], cmap='gray')\n",
    "    plt.title('mask')\n",
    "    plt.show()\n",
    "    \n",
    "# visualization for two images\n",
    "\n",
    "def subShow(IMG1, IMG2):\n",
    "    plt.figure()\n",
    "    plt.subplot(1,2,1)\n",
    "    plt.imshow(IMG1, cmap='gray')\n",
    "    plt.subplot(1,2,2)\n",
    "    plt.imshow(IMG2, cmap='gray')\n",
    "    plt.show()"
   ]
  },
  {
   "cell_type": "code",
   "execution_count": 6,
   "id": "cceaa72e-bce4-442e-a891-72b35b504ba1",
   "metadata": {},
   "outputs": [
    {
     "name": "stdout",
     "output_type": "stream",
     "text": [
      "(15, 20, 256, 256)\n"
     ]
    }
   ],
   "source": [
    "# reading into the corrected images for segmentation\n",
    "\n",
    "PATH = '/bigdata/casus/MLID/RuiLi/Data/LM/zebrafish_partial_15/'\n",
    "\n",
    "rawDataDNN = np.load(PATH + 'rawGray15_256.npy')\n",
    "# rawDataDNN = rawDataDNN[-1,...]\n",
    "print(rawDataDNN.shape)  # print the size of the images"
   ]
  },
  {
   "cell_type": "code",
   "execution_count": 7,
   "id": "fdcf602e-290e-4970-8231-43a1c80f311d",
   "metadata": {},
   "outputs": [
    {
     "name": "stdout",
     "output_type": "stream",
     "text": [
      "./models_weight/simple2D_256_3000.hdf5\n"
     ]
    },
    {
     "name": "stderr",
     "output_type": "stream",
     "text": [
      "2022-12-07 11:42:55.422162: I tensorflow/core/platform/cpu_feature_guard.cc:142] This TensorFlow binary is optimized with oneAPI Deep Neural Network Library (oneDNN) to use the following CPU instructions in performance-critical operations:  AVX2 AVX512F FMA\n",
      "To enable them in other operations, rebuild TensorFlow with the appropriate compiler flags.\n",
      "2022-12-07 11:43:00.720295: I tensorflow/core/common_runtime/gpu/gpu_device.cc:1510] Created device /job:localhost/replica:0/task:0/device:GPU:0 with 30998 MB memory:  -> device: 0, name: Tesla V100-SXM2-32GB, pci bus id: 0000:61:00.0, compute capability: 7.0\n"
     ]
    }
   ],
   "source": [
    "# load in the trained model\n",
    "import tensorflow as tf\n",
    "from keras.models import load_model\n",
    "\n",
    "# trained model name\n",
    "MODEL_PATH = './models_weight/'\n",
    "SVAED_MODEL_NAME = MODEL_PATH + 'simple2D_256' + '_' + '3000' + '.hdf5'\n",
    "print(SVAED_MODEL_NAME)\n",
    "\n",
    "my_model = load_model(SVAED_MODEL_NAME, compile=False)\n"
   ]
  },
  {
   "cell_type": "code",
   "execution_count": 15,
   "id": "11f02be8-2ace-463d-b3c0-88d5ede14873",
   "metadata": {},
   "outputs": [
    {
     "name": "stdout",
     "output_type": "stream",
     "text": [
      "(1, 20, 256, 256)\n",
      "(20, 256, 256, 1)\n"
     ]
    }
   ],
   "source": [
    "img_test = rawDataDNN[:1]  # take the first 15 slices\n",
    "print(img_test.shape)\n",
    "\n",
    "img_test = np.expand_dims(img_test.squeeze(), 3)  # reshape the data format\n",
    "print(img_test.shape)\n"
   ]
  },
  {
   "cell_type": "code",
   "execution_count": 22,
   "id": "4d5ab4c2-9e6f-4ca8-9e3d-83847c48b89a",
   "metadata": {},
   "outputs": [
    {
     "data": {
      "text/plain": [
       "<matplotlib.image.AxesImage at 0x2aab8f6bf250>"
      ]
     },
     "execution_count": 22,
     "metadata": {},
     "output_type": "execute_result"
    },
    {
     "data": {
      "image/png": "[encoded data removed]",
      "text/plain": [
       "<Figure size 432x288 with 1 Axes>"
      ]
     },
     "metadata": {
      "needs_background": "light"
     },
     "output_type": "display_data"
    }
   ],
   "source": [
    "plt.imshow(img_test.squeeze()[10,...], cmap='gray')"
   ]
  },
  {
   "cell_type": "code",
   "execution_count": 23,
   "id": "933efae1-826c-4b28-9938-db15ddcfea5f",
   "metadata": {},
   "outputs": [
    {
     "name": "stdout",
     "output_type": "stream",
     "text": [
      "DNN time: 0.054207151057198644\n",
      "(20, 256, 256, 1) 2.3624103e-33 1.0\n"
     ]
    }
   ],
   "source": [
    "# prediction\n",
    "from timeit import default_timer as timer\n",
    "\n",
    "start = timer()\n",
    "pred_test = my_model.predict(img_test)\n",
    "end = timer()\n",
    "\n",
    "print('DNN time:', end-start)\n",
    "print(pred_test.shape, pred_test.min(), pred_test.max())"
   ]
  },
  {
   "cell_type": "code",
   "execution_count": 29,
   "id": "bef93d7f-7458-46d3-8a2d-8411e651d6d7",
   "metadata": {},
   "outputs": [
    {
     "data": {
      "text/plain": [
       "<matplotlib.image.AxesImage at 0x2aab8fda12d0>"
      ]
     },
     "execution_count": 29,
     "metadata": {},
     "output_type": "execute_result"
    },
    {
     "data": {
      "image/png": "[encoded data removed]",
      "text/plain": [
       "<Figure size 432x288 with 1 Axes>"
      ]
     },
     "metadata": {
      "needs_background": "light"
     },
     "output_type": "display_data"
    }
   ],
   "source": [
    "plt.imshow(pred_test.squeeze()[18,...]*255, cmap='gray')"
   ]
  },
  {
   "cell_type": "code",
   "execution_count": null,
   "id": "1ef344e7-1ccd-4f5f-a4ad-4aea3dede07c",
   "metadata": {},
   "outputs": [],
   "source": []
  }
 ],
 "metadata": {
  "kernelspec": {
   "display_name": "CONDA (LM)",
   "language": "python",
   "name": "n2v-conda"
  },
  "language_info": {
   "codemirror_mode": {
    "name": "ipython",
    "version": 3
   },
   "file_extension": ".py",
   "mimetype": "text/x-python",
   "name": "python",
   "nbconvert_exporter": "python",
   "pygments_lexer": "ipython3",
   "version": "3.7.11"
  }
 },
 "nbformat": 4,
 "nbformat_minor": 5
}
