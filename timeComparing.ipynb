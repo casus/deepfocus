{
 "cells": [
  {
   "cell_type": "markdown",
   "id": "edb9c63b-cd9f-4d87-86cc-3563486107e6",
   "metadata": {},
   "source": [
    "# load data"
   ]
  },
  {
   "cell_type": "code",
   "execution_count": 1,
   "id": "2fbacc4b-8ec0-4fd9-94ce-ed636c529df5",
   "metadata": {},
   "outputs": [],
   "source": [
    "# import the necessary packages\n",
    "import imutils\n",
    "import matplotlib.pyplot as plt\n",
    "\n",
    "import os\n",
    "import numpy as np\n",
    "from scipy import ndimage\n",
    "from tqdm import tqdm  # ! this might result into problem with 'object'\n",
    "import pandas as pd\n",
    "import random\n",
    "import glob\n",
    "from skimage import io\n",
    "\n",
    "import argparse\n",
    "import time\n",
    "import cv2"
   ]
  },
  {
   "cell_type": "code",
   "execution_count": 2,
   "id": "15137a0f-778a-4efe-bf25-1822ec78e675",
   "metadata": {},
   "outputs": [
    {
     "name": "stdout",
     "output_type": "stream",
     "text": [
      "(15, 20, 1040, 1392)\n"
     ]
    }
   ],
   "source": [
    "# read in the raw image\n",
    "\n",
    "image = np.load('./data/rawGray15.npy')\n",
    "print(image.shape)"
   ]
  },
  {
   "cell_type": "markdown",
   "id": "cb1676c5-ae44-4800-8df7-508f56f04ad3",
   "metadata": {
    "jp-MarkdownHeadingCollapsed": true,
    "tags": []
   },
   "source": [
    "# The multi-scanning pipeline on test dataset"
   ]
  },
  {
   "cell_type": "code",
   "execution_count": 3,
   "id": "997c8ab4-fe88-41d8-a620-c8c823273403",
   "metadata": {},
   "outputs": [],
   "source": [
    "# create the folder to save the stacks\n",
    "\n",
    "import os\n",
    "\n",
    "def mkdir(path):\n",
    "    folder = os.path.exists(path)\n",
    "    if not folder:                   \n",
    "        os.makedirs(path)           \n",
    "#     else:\n",
    "#         print('path existed')"
   ]
  },
  {
   "cell_type": "markdown",
   "id": "bbf6db7c-679c-4702-86cd-3ec872314dcd",
   "metadata": {},
   "source": [
    "## scan for the multiple images"
   ]
  },
  {
   "cell_type": "code",
   "execution_count": 4,
   "id": "b447edc9-c834-4f37-bc06-53ba7a5aff61",
   "metadata": {},
   "outputs": [],
   "source": [
    "# multiple scans for one image.\n",
    "# input: stack num, slice num, image, step, windowsize\n",
    "\n",
    "def slidingStack(stackNum, sliceNum, image, stepArray, windowSize, savedPath):\n",
    "    \n",
    "    focalStack = []\n",
    "    \n",
    "    for i in range(len(stepArray)):\n",
    "        \n",
    "        stepSize = stepArray[i]\n",
    "        # slide a window across the image\n",
    "        stdMap = np.zeros((image.shape[:2]))  # careful the image is 3 channels\n",
    "\n",
    "        for y in range(0, image.shape[0], stepSize):\n",
    "            for x in range(0, image.shape[1], stepSize):\n",
    "                # yield the current window\n",
    "                yield (x, y, image[y:y + windowSize[1], x:x + windowSize[0]])\n",
    "                tPatch = image[y:y + windowSize[1], x:x + windowSize[0], 0]  # taking only 1 channel from 3\n",
    "                tempStdPatch = np.ones((tPatch.shape)) * np.std((tPatch))\n",
    "                # print(tempStdPatch)\n",
    "                stdMap[y:y + windowSize[1], x:x + windowSize[0]] = tempStdPatch + stdMap[y:y + windowSize[1], x:x + windowSize[0]] \n",
    "                # print(tempStd)\n",
    "                \n",
    "        focalStack.append(stdMap)\n",
    "        \n",
    "    # calculate the stack and conduct max projection\n",
    "    fMax = np.max(np.asarray(focalStack), axis=0)\n",
    "    \n",
    "    # check the saving path\n",
    "    tempPath = savedPath + '/' + str(stackNum)\n",
    "    mkdir(tempPath)\n",
    "    \n",
    "    # save the max projection in sliceNum under the path 'stackNum'\n",
    "    np.save(tempPath+'/'+str(sliceNum)+'.npy', fMax)"
   ]
  },
  {
   "cell_type": "code",
   "execution_count": 5,
   "id": "f2fb9396-6b6e-48ca-aa51-a2d1eaa494b5",
   "metadata": {},
   "outputs": [],
   "source": [
    "def visualizeStack(image, stepArray, windowSize):\n",
    "    \n",
    "    # slide window scanning for one test\n",
    "    for (x, y, window) in slidingStack(image, stepArray=stepArray, windowSize=(winW, winH)):\n",
    "        # if the window does not meet our desired window size, ignore it\n",
    "        if window.shape[0] != winH or window.shape[1] != winW:\n",
    "            continue\n",
    "        # draw the window during the process\n",
    "        clone = image.copy() \n",
    "        cv2.rectangle(clone, (x, y), (x + winW, y + winH), (0, 255, 0), 2)  # third param indicates the colour\n",
    "        cv2.imshow(\"Window\", clone)\n",
    "        cv2.waitKey(1)\n",
    "           # time.sleep(0.025)\n",
    "        time.sleep(0.00025)\n",
    "    cv2.destroyAllWindows() "
   ]
  },
  {
   "cell_type": "code",
   "execution_count": 6,
   "id": "1c5804b7-3adb-4580-b402-95835eac1bb1",
   "metadata": {},
   "outputs": [],
   "source": [
    "# f-max is the max projection of the stacks\n",
    "\n",
    "# image = np.load('./notebooks/fMaxTest.npy')\n",
    "# print(image.shape)\n",
    "# test_slice = image[0,19,...]\n",
    "# plt.imshow(test_slice, cmap='gray')"
   ]
  },
  {
   "cell_type": "code",
   "execution_count": 7,
   "id": "1c6c6adf-18cc-490a-a78b-53904092e1c1",
   "metadata": {},
   "outputs": [
    {
     "name": "stdout",
     "output_type": "stream",
     "text": [
      "(15, 20, 1040, 1392)\n"
     ]
    }
   ],
   "source": [
    "# sorting out the image\n",
    "# rawData = np.stack((image,)*3, axis=-1)  # remember the operation is on 3 channels\n",
    "rawData = image\n",
    "print(rawData.shape)\n",
    "# plt.imshow(image, cmap='gray')"
   ]
  },
  {
   "cell_type": "code",
   "execution_count": 8,
   "id": "ee4be752-df65-42c6-ab18-0f2f0a5d866d",
   "metadata": {},
   "outputs": [],
   "source": [
    "# define the scanning parameters\n",
    "\n",
    "# step size\n",
    "# stepArray = [22, 24]\n",
    "stepArray = [8, 10, 12, 14, 16, 18, 20, 22, 24, 26, 28, 30, 32, 34, 36]\n",
    "# window size\n",
    "# (winW, winH) = (256, 256)\n",
    "(winW, winH) = (128, 128)\n",
    "savedPath = './data/dataPre'\n",
    "# target stack\n",
    "targetStack = rawData\n",
    "# targetStack = tempStack[:,:2,:,:]"
   ]
  },
  {
   "cell_type": "code",
   "execution_count": 9,
   "id": "0125de28-72f1-4a06-969c-11acaaf66725",
   "metadata": {},
   "outputs": [
    {
     "ename": "KeyboardInterrupt",
     "evalue": "",
     "output_type": "error",
     "traceback": [
      "\u001b[0;31m---------------------------------------------------------------------------\u001b[0m",
      "\u001b[0;31mKeyboardInterrupt\u001b[0m                         Traceback (most recent call last)",
      "\u001b[0;32m/tmp/ipykernel_88537/247251228.py\u001b[0m in \u001b[0;36m<module>\u001b[0;34m\u001b[0m\n\u001b[1;32m      7\u001b[0m     \u001b[0;32mfor\u001b[0m \u001b[0msliceNum\u001b[0m \u001b[0;32min\u001b[0m \u001b[0mrange\u001b[0m\u001b[0;34m(\u001b[0m\u001b[0mtargetStack\u001b[0m\u001b[0;34m.\u001b[0m\u001b[0mshape\u001b[0m\u001b[0;34m[\u001b[0m\u001b[0;36m1\u001b[0m\u001b[0;34m]\u001b[0m\u001b[0;34m)\u001b[0m\u001b[0;34m:\u001b[0m\u001b[0;34m\u001b[0m\u001b[0;34m\u001b[0m\u001b[0m\n\u001b[1;32m      8\u001b[0m         \u001b[0mimage\u001b[0m \u001b[0;34m=\u001b[0m \u001b[0mnp\u001b[0m\u001b[0;34m.\u001b[0m\u001b[0mstack\u001b[0m\u001b[0;34m(\u001b[0m\u001b[0;34m(\u001b[0m\u001b[0mtargetStack\u001b[0m\u001b[0;34m[\u001b[0m\u001b[0mstackNum\u001b[0m\u001b[0;34m,\u001b[0m\u001b[0msliceNum\u001b[0m\u001b[0;34m,\u001b[0m\u001b[0;34m...\u001b[0m\u001b[0;34m]\u001b[0m\u001b[0;34m,\u001b[0m\u001b[0;34m)\u001b[0m\u001b[0;34m*\u001b[0m\u001b[0;36m3\u001b[0m\u001b[0;34m,\u001b[0m \u001b[0maxis\u001b[0m\u001b[0;34m=\u001b[0m\u001b[0;34m-\u001b[0m\u001b[0;36m1\u001b[0m\u001b[0;34m)\u001b[0m\u001b[0;34m\u001b[0m\u001b[0;34m\u001b[0m\u001b[0m\n\u001b[0;32m----> 9\u001b[0;31m         \u001b[0;32mfor\u001b[0m \u001b[0;34m(\u001b[0m\u001b[0mx\u001b[0m\u001b[0;34m,\u001b[0m \u001b[0my\u001b[0m\u001b[0;34m,\u001b[0m \u001b[0mwindow\u001b[0m\u001b[0;34m)\u001b[0m \u001b[0;32min\u001b[0m \u001b[0mslidingStack\u001b[0m\u001b[0;34m(\u001b[0m\u001b[0mstackNum\u001b[0m\u001b[0;34m,\u001b[0m \u001b[0msliceNum\u001b[0m\u001b[0;34m,\u001b[0m \u001b[0mimage\u001b[0m\u001b[0;34m,\u001b[0m \u001b[0mstepArray\u001b[0m\u001b[0;34m=\u001b[0m\u001b[0mstepArray\u001b[0m\u001b[0;34m,\u001b[0m \u001b[0mwindowSize\u001b[0m\u001b[0;34m=\u001b[0m\u001b[0;34m(\u001b[0m\u001b[0mwinW\u001b[0m\u001b[0;34m,\u001b[0m \u001b[0mwinH\u001b[0m\u001b[0;34m)\u001b[0m\u001b[0;34m,\u001b[0m \u001b[0msavedPath\u001b[0m\u001b[0;34m=\u001b[0m\u001b[0msavedPath\u001b[0m\u001b[0;34m)\u001b[0m\u001b[0;34m:\u001b[0m\u001b[0;34m\u001b[0m\u001b[0;34m\u001b[0m\u001b[0m\n\u001b[0m\u001b[1;32m     10\u001b[0m         \u001b[0;31m# if the window does not meet our desired window size, ignore it\u001b[0m\u001b[0;34m\u001b[0m\u001b[0;34m\u001b[0m\u001b[0;34m\u001b[0m\u001b[0m\n\u001b[1;32m     11\u001b[0m             \u001b[0;32mif\u001b[0m \u001b[0mwindow\u001b[0m\u001b[0;34m.\u001b[0m\u001b[0mshape\u001b[0m\u001b[0;34m[\u001b[0m\u001b[0;36m0\u001b[0m\u001b[0;34m]\u001b[0m \u001b[0;34m!=\u001b[0m \u001b[0mwinH\u001b[0m \u001b[0;32mor\u001b[0m \u001b[0mwindow\u001b[0m\u001b[0;34m.\u001b[0m\u001b[0mshape\u001b[0m\u001b[0;34m[\u001b[0m\u001b[0;36m1\u001b[0m\u001b[0;34m]\u001b[0m \u001b[0;34m!=\u001b[0m \u001b[0mwinW\u001b[0m\u001b[0;34m:\u001b[0m\u001b[0;34m\u001b[0m\u001b[0;34m\u001b[0m\u001b[0m\n",
      "\u001b[0;32m/tmp/ipykernel_88537/783324173.py\u001b[0m in \u001b[0;36mslidingStack\u001b[0;34m(stackNum, sliceNum, image, stepArray, windowSize, savedPath)\u001b[0m\n\u001b[1;32m     17\u001b[0m                 \u001b[0;32myield\u001b[0m \u001b[0;34m(\u001b[0m\u001b[0mx\u001b[0m\u001b[0;34m,\u001b[0m \u001b[0my\u001b[0m\u001b[0;34m,\u001b[0m \u001b[0mimage\u001b[0m\u001b[0;34m[\u001b[0m\u001b[0my\u001b[0m\u001b[0;34m:\u001b[0m\u001b[0my\u001b[0m \u001b[0;34m+\u001b[0m \u001b[0mwindowSize\u001b[0m\u001b[0;34m[\u001b[0m\u001b[0;36m1\u001b[0m\u001b[0;34m]\u001b[0m\u001b[0;34m,\u001b[0m \u001b[0mx\u001b[0m\u001b[0;34m:\u001b[0m\u001b[0mx\u001b[0m \u001b[0;34m+\u001b[0m \u001b[0mwindowSize\u001b[0m\u001b[0;34m[\u001b[0m\u001b[0;36m0\u001b[0m\u001b[0;34m]\u001b[0m\u001b[0;34m]\u001b[0m\u001b[0;34m)\u001b[0m\u001b[0;34m\u001b[0m\u001b[0;34m\u001b[0m\u001b[0m\n\u001b[1;32m     18\u001b[0m                 \u001b[0mtPatch\u001b[0m \u001b[0;34m=\u001b[0m \u001b[0mimage\u001b[0m\u001b[0;34m[\u001b[0m\u001b[0my\u001b[0m\u001b[0;34m:\u001b[0m\u001b[0my\u001b[0m \u001b[0;34m+\u001b[0m \u001b[0mwindowSize\u001b[0m\u001b[0;34m[\u001b[0m\u001b[0;36m1\u001b[0m\u001b[0;34m]\u001b[0m\u001b[0;34m,\u001b[0m \u001b[0mx\u001b[0m\u001b[0;34m:\u001b[0m\u001b[0mx\u001b[0m \u001b[0;34m+\u001b[0m \u001b[0mwindowSize\u001b[0m\u001b[0;34m[\u001b[0m\u001b[0;36m0\u001b[0m\u001b[0;34m]\u001b[0m\u001b[0;34m,\u001b[0m \u001b[0;36m0\u001b[0m\u001b[0;34m]\u001b[0m  \u001b[0;31m# taking only 1 channel from 3\u001b[0m\u001b[0;34m\u001b[0m\u001b[0;34m\u001b[0m\u001b[0m\n\u001b[0;32m---> 19\u001b[0;31m                 \u001b[0mtempStdPatch\u001b[0m \u001b[0;34m=\u001b[0m \u001b[0mnp\u001b[0m\u001b[0;34m.\u001b[0m\u001b[0mones\u001b[0m\u001b[0;34m(\u001b[0m\u001b[0;34m(\u001b[0m\u001b[0mtPatch\u001b[0m\u001b[0;34m.\u001b[0m\u001b[0mshape\u001b[0m\u001b[0;34m)\u001b[0m\u001b[0;34m)\u001b[0m \u001b[0;34m*\u001b[0m \u001b[0mnp\u001b[0m\u001b[0;34m.\u001b[0m\u001b[0mstd\u001b[0m\u001b[0;34m(\u001b[0m\u001b[0;34m(\u001b[0m\u001b[0mtPatch\u001b[0m\u001b[0;34m)\u001b[0m\u001b[0;34m)\u001b[0m\u001b[0;34m\u001b[0m\u001b[0;34m\u001b[0m\u001b[0m\n\u001b[0m\u001b[1;32m     20\u001b[0m                 \u001b[0;31m# print(tempStdPatch)\u001b[0m\u001b[0;34m\u001b[0m\u001b[0;34m\u001b[0m\u001b[0;34m\u001b[0m\u001b[0m\n\u001b[1;32m     21\u001b[0m                 \u001b[0mstdMap\u001b[0m\u001b[0;34m[\u001b[0m\u001b[0my\u001b[0m\u001b[0;34m:\u001b[0m\u001b[0my\u001b[0m \u001b[0;34m+\u001b[0m \u001b[0mwindowSize\u001b[0m\u001b[0;34m[\u001b[0m\u001b[0;36m1\u001b[0m\u001b[0;34m]\u001b[0m\u001b[0;34m,\u001b[0m \u001b[0mx\u001b[0m\u001b[0;34m:\u001b[0m\u001b[0mx\u001b[0m \u001b[0;34m+\u001b[0m \u001b[0mwindowSize\u001b[0m\u001b[0;34m[\u001b[0m\u001b[0;36m0\u001b[0m\u001b[0;34m]\u001b[0m\u001b[0;34m]\u001b[0m \u001b[0;34m=\u001b[0m \u001b[0mtempStdPatch\u001b[0m \u001b[0;34m+\u001b[0m \u001b[0mstdMap\u001b[0m\u001b[0;34m[\u001b[0m\u001b[0my\u001b[0m\u001b[0;34m:\u001b[0m\u001b[0my\u001b[0m \u001b[0;34m+\u001b[0m \u001b[0mwindowSize\u001b[0m\u001b[0;34m[\u001b[0m\u001b[0;36m1\u001b[0m\u001b[0;34m]\u001b[0m\u001b[0;34m,\u001b[0m \u001b[0mx\u001b[0m\u001b[0;34m:\u001b[0m\u001b[0mx\u001b[0m \u001b[0;34m+\u001b[0m \u001b[0mwindowSize\u001b[0m\u001b[0;34m[\u001b[0m\u001b[0;36m0\u001b[0m\u001b[0;34m]\u001b[0m\u001b[0;34m]\u001b[0m\u001b[0;34m\u001b[0m\u001b[0;34m\u001b[0m\u001b[0m\n",
      "\u001b[0;32m~/.conda/envs/LM/lib/python3.7/site-packages/numpy/core/numeric.py\u001b[0m in \u001b[0;36mones\u001b[0;34m(shape, dtype, order)\u001b[0m\n\u001b[1;32m    191\u001b[0m     \"\"\"\n\u001b[1;32m    192\u001b[0m     \u001b[0ma\u001b[0m \u001b[0;34m=\u001b[0m \u001b[0mempty\u001b[0m\u001b[0;34m(\u001b[0m\u001b[0mshape\u001b[0m\u001b[0;34m,\u001b[0m \u001b[0mdtype\u001b[0m\u001b[0;34m,\u001b[0m \u001b[0morder\u001b[0m\u001b[0;34m)\u001b[0m\u001b[0;34m\u001b[0m\u001b[0;34m\u001b[0m\u001b[0m\n\u001b[0;32m--> 193\u001b[0;31m     \u001b[0mmultiarray\u001b[0m\u001b[0;34m.\u001b[0m\u001b[0mcopyto\u001b[0m\u001b[0;34m(\u001b[0m\u001b[0ma\u001b[0m\u001b[0;34m,\u001b[0m \u001b[0;36m1\u001b[0m\u001b[0;34m,\u001b[0m \u001b[0mcasting\u001b[0m\u001b[0;34m=\u001b[0m\u001b[0;34m'unsafe'\u001b[0m\u001b[0;34m)\u001b[0m\u001b[0;34m\u001b[0m\u001b[0;34m\u001b[0m\u001b[0m\n\u001b[0m\u001b[1;32m    194\u001b[0m     \u001b[0;32mreturn\u001b[0m \u001b[0ma\u001b[0m\u001b[0;34m\u001b[0m\u001b[0;34m\u001b[0m\u001b[0m\n\u001b[1;32m    195\u001b[0m \u001b[0;34m\u001b[0m\u001b[0m\n",
      "\u001b[0;32m<__array_function__ internals>\u001b[0m in \u001b[0;36mcopyto\u001b[0;34m(*args, **kwargs)\u001b[0m\n",
      "\u001b[0;31mKeyboardInterrupt\u001b[0m: "
     ]
    }
   ],
   "source": [
    "# scan the images in step size\n",
    "from timeit import default_timer as timer\n",
    "start = timer()\n",
    "\n",
    "for stackNum in range(targetStack.shape[0]):\n",
    "    \n",
    "    for sliceNum in range(targetStack.shape[1]):\n",
    "        image = np.stack((targetStack[stackNum,sliceNum,...],)*3, axis=-1) \n",
    "        for (x, y, window) in slidingStack(stackNum, sliceNum, image, stepArray=stepArray, windowSize=(winW, winH), savedPath=savedPath):\n",
    "        # if the window does not meet our desired window size, ignore it\n",
    "            if window.shape[0] != winH or window.shape[1] != winW:\n",
    "                continue \n",
    "                \n",
    "end = timer()"
   ]
  },
  {
   "cell_type": "code",
   "execution_count": null,
   "id": "0d66f0d0-97d7-4944-9bfb-6bb8fc5dc104",
   "metadata": {},
   "outputs": [],
   "source": [
    "time1_local_scan = end-start\n",
    "print('the original scanning:', time1_local_scan)"
   ]
  },
  {
   "cell_type": "markdown",
   "id": "1346ca51-7e55-4a62-a934-e1622a77b838",
   "metadata": {},
   "source": [
    "## sort out the images from the max projection"
   ]
  },
  {
   "cell_type": "code",
   "execution_count": null,
   "id": "1343713e-0c81-4567-9374-19d152d4a182",
   "metadata": {},
   "outputs": [],
   "source": [
    "# define the read in function for max projection\n",
    "\n",
    "def readTIF(data_path):\n",
    "    fStack = []\n",
    "    for img in glob.glob(os.path.join(data_path, \"*.npy\")):\n",
    "        im = np.load(os.path.join(data_path, img))  \n",
    "        imarray = np.array(im)\n",
    "        fStack.append(imarray)  # images, num of slices, channels, img.x, img.y\n",
    "    return np.asarray(fStack)"
   ]
  },
  {
   "cell_type": "code",
   "execution_count": null,
   "id": "4976bd5e-167a-4089-806c-c7f8d44294b7",
   "metadata": {},
   "outputs": [],
   "source": [
    "# read in multiple stacks\n",
    "\n",
    "fStacks = []\n",
    "\n",
    "for i in range(tempStack.shape[0]):\n",
    "    fStackTemp = readTIF(savedPath+'/'+str(i)+'/')\n",
    "    fStacks.append(fStackTemp)\n",
    "    \n",
    "fStacks = np.asarray(fStacks)"
   ]
  },
  {
   "cell_type": "markdown",
   "id": "d6879324-f5a2-42a9-951c-3e3283eb43e4",
   "metadata": {},
   "source": [
    "# The time consuming for all features"
   ]
  },
  {
   "cell_type": "code",
   "execution_count": 3,
   "id": "a7ce4308-ef95-489d-bcbc-51708f00595d",
   "metadata": {},
   "outputs": [],
   "source": [
    "# create the folder to save the stacks\n",
    "import os\n",
    "from timeit import default_timer as timer\n",
    "\n",
    "def mkdir(path):\n",
    "    folder = os.path.exists(path)\n",
    "    if not folder:                   \n",
    "        os.makedirs(path)           \n",
    "    # else:\n",
    "    #     print('path existed')"
   ]
  },
  {
   "cell_type": "code",
   "execution_count": 4,
   "id": "fc0558a6-cdcc-4f39-a16d-6e886ac2f129",
   "metadata": {},
   "outputs": [],
   "source": [
    "# various blur detectors\n",
    "# input patch-uint8\n",
    "\n",
    "import numpy as np\n",
    "from skimage import filters\n",
    "import os\n",
    "import cv2\n",
    "\n",
    "# brenner detector\n",
    "def brenner(img):\n",
    "    \n",
    "    imgMat = img/255.0\n",
    "    \n",
    "    x, y = imgMat.shape\n",
    "    score = 0\n",
    "    for i in range(x - 2):\n",
    "        for j in range(y - 2):\n",
    "            score += (imgMat[i + 2, j] - imgMat[i, j]) ** 2\n",
    "\n",
    "    score = score/10\n",
    "\n",
    "    return score\n",
    "\n",
    "# tenengrad detector\n",
    "def Tenengrad(img):\n",
    "\n",
    "    f = img\n",
    "    tmp = filters.sobel(f)\n",
    "    source = np.sum(tmp**2)\n",
    "    source = np.sqrt(source)\n",
    "\n",
    "    return source\n",
    "\n",
    "# laplacian\n",
    "# laplacian\n",
    "def  laplacian(img):\n",
    "\n",
    "    resLap = cv2.Laplacian(np.uint8(img), cv2.CV_8U)  # adapt to the images, ddid not change the distributions\n",
    "    score = resLap.var()\n",
    "    return score\n",
    "\n",
    "# SMD\n",
    "def SMD(img):\n",
    "\n",
    "    f=img / 255.0 # [0,1]\n",
    "    x, y = f.shape\n",
    "    score = 0\n",
    "    for i in range(x - 1):\n",
    "        for j in range(y - 1):\n",
    "            score += np.abs(f[i+1,j]-f[i,j])+np.abs(f[i,j]-f[i+1,j])\n",
    "    score=score/100\n",
    "    return score\n",
    "\n",
    "# SMD2\n",
    "def SMD2(img):\n",
    "\n",
    "    f = img/255.0\n",
    "    x, y = f.shape\n",
    "    score = 0\n",
    "    for i in range(x - 1):\n",
    "        for j in range(y - 1):\n",
    "            score += np.abs(f[i+1,j]-f[i,j])*np.abs(f[i,j]-f[i,j+1])\n",
    "\n",
    "    return score\n",
    "\n",
    "# Variance\n",
    "def Variance(img):\n",
    "\n",
    "    f = img\n",
    "    score = np.var(f)/1000\n",
    "    \n",
    "    return score\n",
    "\n",
    "# Vollath\n",
    "def Vollath(img):\n",
    "\n",
    "    f = img\n",
    "    source = 0\n",
    "    x,y = f.shape\n",
    "    for i in range(x-1):\n",
    "        for j in range(y):\n",
    "            source += f[i,j]*f[i+1,j]\n",
    "    source = source - x*y*np.mean(f)\n",
    "    source = source/100000\n",
    "    return source\n",
    "\n",
    "# rescale the image for comparing\n",
    "def rescaleIMG(img, MIN, MAX):\n",
    "    temp = np.interp(img, (img.min(), img.max()), (MIN, MAX))\n",
    "    return temp"
   ]
  },
  {
   "cell_type": "code",
   "execution_count": 5,
   "id": "20718b00-b021-4fbb-aeca-a1a4c2326c9b",
   "metadata": {},
   "outputs": [],
   "source": [
    "# multiple scans for one image with quality detectors.\n",
    "# input: stack num, slice num, image, step, windowsize, metric: indicate the metric for detecting\n",
    "\n",
    "import numpy as np\n",
    "from skimage import filters\n",
    "import os\n",
    "import cv2\n",
    "\n",
    "# one image\n",
    "def slidingStackQuality(stackNum, sliceNum, image, stepArray, windowSize, savedPath, metric):\n",
    "    \n",
    "    focalStack = []\n",
    "    \n",
    "    for i in range(len(stepArray)):\n",
    "        \n",
    "        stepSize = stepArray[i]\n",
    "        # slide a window across the image\n",
    "        feaMap = np.zeros((image.shape[:2]))  # careful the image is 3 channels\n",
    "\n",
    "        for y in range(0, image.shape[0], stepSize):\n",
    "            for x in range(0, image.shape[1], stepSize):\n",
    "                # yield the current window\n",
    "                yield (x, y, image[y:y + windowSize[1], x:x + windowSize[0]])\n",
    "                \n",
    "                tPatch = image[y:y + windowSize[1], x:x + windowSize[0], 0]  # taking only 1 channel from 3\n",
    "                \n",
    "                #########\n",
    "                if metric == 'std':\n",
    "                    # Roy. calculate the std\n",
    "                    tempPatch = np.ones((tPatch.shape)) * np.std((tPatch))\n",
    "                    \n",
    "                elif metric == 'brenner':\n",
    "                    # print('cal robert', tPatch.shape, tPatch.min(), tPatch.max())\n",
    "                    tempPatch = np.ones((tPatch.shape)) * np.round(brenner(tPatch), 2)\n",
    "                    # print('robert mean:',tempPatch.mean())\n",
    "                    \n",
    "                elif metric == 'laplacian':\n",
    "                    tempPatch = np.ones((tPatch.shape)) * np.round(laplacian(tPatch), 2)\n",
    "                    \n",
    "                elif metric == 'tenengrad':\n",
    "                    tempPatch = np.ones((tPatch.shape)) * np.round(Tenengrad(tPatch), 2)\n",
    "                    # print('raw tenengrad:', np.unique(tempPatch))\n",
    "                    \n",
    "                elif metric == 'SMD':\n",
    "                    tempPatch = np.ones((tPatch.shape)) * np.round(SMD(tPatch), 2)\n",
    "                    \n",
    "                elif metric == 'SMD2':\n",
    "                    tempPatch = np.ones((tPatch.shape)) * np.round(SMD2(tPatch), 2)\n",
    "                    \n",
    "                elif metric == 'Variance':\n",
    "                    tempPatch = np.ones((tPatch.shape)) * Variance(tPatch)\n",
    "                    \n",
    "                    \n",
    "                elif metric == 'Vollath':\n",
    "                    tempPatch = np.ones((tPatch.shape)) * np.round(Vollath(tPatch), 2)\n",
    "                \n",
    "                #########\n",
    "                feaMap[y:y + windowSize[1], x:x + windowSize[0]] = tempPatch + feaMap[y:y + windowSize[1], x:x + windowSize[0]]\n",
    "                \n",
    "#         focalStack.append(stdMap)       \n",
    "        # focalStack.append(feaMap[padH:, padW:])  # crop the feature map back \n",
    "        focalStack.append(feaMap)\n",
    "    \n",
    "                           \n",
    "    fMax = np.max(np.asarray(focalStack), axis=0)\n",
    "    # plt.imshow(fMax, cmap='gray')\n",
    "                           \n",
    "    # check the saving path\n",
    "    tempPath = savedPath + '/' + str(stackNum)\n",
    "    mkdir(tempPath)\n",
    "    \n",
    "    # save the max projection in sliceNum under the path 'stackNum'\n",
    "    np.save(tempPath+'/'+str(sliceNum)+'.npy', fMax)\n",
    "    print('save sucessfully', sliceNum, tempPath)"
   ]
  },
  {
   "cell_type": "code",
   "execution_count": 6,
   "id": "24e3facd-8d91-4e3e-959a-b2fe0adbd9c5",
   "metadata": {},
   "outputs": [
    {
     "name": "stdout",
     "output_type": "stream",
     "text": [
      "test data size: (2, 20, 1168, 1392)\n"
     ]
    }
   ],
   "source": [
    "intermediate_path = '/bigdata/casus/MLID/RuiLi/Data/LM/zebrafish_15_2_2/feature/intermediate/'\n",
    "\n",
    "# train_norm_pad = np.load(intermediate_path + 'train_norm_pad.npy')\n",
    "# val_norm_pad = np.load(intermediate_path + 'val_norm_pad.npy')\n",
    "test_norm_pad = np.load(intermediate_path + 'test_norm_pad.npy')\n",
    "print('test data size:', test_norm_pad.shape)"
   ]
  },
  {
   "cell_type": "code",
   "execution_count": 7,
   "id": "c0436a5e-00d2-4583-8994-776a7024c785",
   "metadata": {},
   "outputs": [
    {
     "name": "stdout",
     "output_type": "stream",
     "text": [
      "(1, 20, 1168, 1392) 255\n"
     ]
    }
   ],
   "source": [
    "# parameters for feature map\n",
    "\n",
    "# step size\n",
    "# stepArray = [8, 10]\n",
    "stepArray = [8, 10, 12, 14, 16, 18, 20, 22, 24, 26, 28, 30, 32, 34, 36]\n",
    "\n",
    "# window size\n",
    "(winW, winH) = (64*2, 64*2)\n",
    "\n",
    "# pad parameters\n",
    "(padW, padH) = (0, winH)\n",
    "\n",
    "# saved path\n",
    "# metricList = ['std', 'brenner', 'tenengrad', 'laplacian', 'SMD', 'SMD2', 'Variance', 'Vollath']  # brenner, SMD, SMD2, Vollath is slow\n",
    "metric = 'SMD'\n",
    "\n",
    "# savedPath = 'E:/LM/LM/digitalConfocal/notebooks/fMax/testResult/qualityDetect/' + str(metric)\n",
    "# savedPath = '/bigdata/casus/MLID/RuiLi/Data/LM/zebrafish_15_2_2/feature/train/' + str(metric)\n",
    "# savedPath = '/bigdata/casus/MLID/RuiLi/Data/LM/zebrafish_15_2_2/feature/test/' + str(metric)\n",
    "# savedPath = '/bigdata/casus/MLID/RuiLi/Data/LM/zebrafish_15_2_2/feature/val/' + str(metric)\n",
    "savedPath = '/bigdata/casus/MLID/RuiLi/Data/LM/zebrafish_15_2_2/test/' + str(metric)  # 测试扫描的参数\n",
    "mkdir(savedPath)\n",
    "\n",
    "# target data\n",
    "# targetStack = val_norm_pad\n",
    "# targetStack = train_norm_pad\n",
    "targetStack = test_norm_pad\n",
    "targetStack = targetStack[:1,...] # 拿出一个stack\n",
    "# targetStack = image[:1,...]\n",
    "print(targetStack.shape, targetStack.max())"
   ]
  },
  {
   "cell_type": "code",
   "execution_count": null,
   "id": "fbb6ea79-292b-4725-b074-31f681d77860",
   "metadata": {},
   "outputs": [
    {
     "name": "stdout",
     "output_type": "stream",
     "text": [
      "save sucessfully 0 /bigdata/casus/MLID/RuiLi/Data/LM/zebrafish_15_2_2/test/SMD/0\n",
      "save sucessfully 1 /bigdata/casus/MLID/RuiLi/Data/LM/zebrafish_15_2_2/test/SMD/0\n"
     ]
    }
   ],
   "source": [
    "# calculate the stack in metrics\n",
    "\n",
    "start = timer()\n",
    "\n",
    "for stackNum in range(targetStack.shape[0]):\n",
    "    \n",
    "    for sliceNum in range(targetStack.shape[1]):\n",
    "        image = np.stack((targetStack[stackNum,sliceNum,...],)*3, axis=-1) \n",
    "        for (x, y, window) in slidingStackQuality(stackNum, sliceNum, image, stepArray=stepArray, windowSize=(winW, winH), savedPath=savedPath, metric = metric):\n",
    "        # if the window does not meet our desired window size, ignore it\n",
    "            if window.shape[0] != winH or window.shape[1] != winW:\n",
    "                continue \n",
    "                \n",
    "end = timer()"
   ]
  },
  {
   "cell_type": "code",
   "execution_count": null,
   "id": "4368f25a-2db5-4a6d-8a20-13c47dcbb84d",
   "metadata": {},
   "outputs": [],
   "source": [
    "print(str(metric), end-start)"
   ]
  },
  {
   "cell_type": "code",
   "execution_count": null,
   "id": "53ec741f-6793-4d9b-af73-486a882392bd",
   "metadata": {},
   "outputs": [],
   "source": []
  },
  {
   "cell_type": "code",
   "execution_count": null,
   "id": "25b9d406-76e6-4259-b5b9-fdc7f9bca9d5",
   "metadata": {},
   "outputs": [],
   "source": []
  },
  {
   "cell_type": "markdown",
   "id": "24e7d00d-84ac-4582-961e-c7accdd4062c",
   "metadata": {},
   "source": [
    "# the DNN model for mask segmentation"
   ]
  },
  {
   "cell_type": "code",
   "execution_count": null,
   "id": "d101d58b-6463-43bf-bca0-3e46fbe8b8c6",
   "metadata": {},
   "outputs": [],
   "source": [
    "import os \n",
    "import numpy as np\n",
    "from dataGenerator import imageLoader\n",
    "import keras\n",
    "import matplotlib.pyplot as plt\n",
    "import glob\n",
    "import random"
   ]
  },
  {
   "cell_type": "code",
   "execution_count": null,
   "id": "41e33cef-4246-4fb2-86ff-4f4003f85be6",
   "metadata": {},
   "outputs": [],
   "source": [
    "# visualize func\n",
    "\n",
    "def visusalizeIMG(n_slice, test_img, test_msk):\n",
    "    # n_slice = random.randint(0, test_img.shape[2])\n",
    "    plt.figure(figsize=(8, 8))\n",
    "\n",
    "    plt.subplot(121)\n",
    "    plt.imshow(test_img[n_slice,:,:], cmap='gray')\n",
    "    plt.title('image')\n",
    "    plt.subplot(122)\n",
    "    plt.imshow(test_msk[n_slice,:,:], cmap='gray')\n",
    "    plt.title('mask')\n",
    "    plt.show()\n",
    "    \n",
    "# visualization for two images\n",
    "\n",
    "def subShow(IMG1, IMG2):\n",
    "    plt.figure()\n",
    "    plt.subplot(1,2,1)\n",
    "    plt.imshow(IMG1, cmap='gray')\n",
    "    plt.subplot(1,2,2)\n",
    "    plt.imshow(IMG2, cmap='gray')\n",
    "    plt.show()"
   ]
  },
  {
   "cell_type": "code",
   "execution_count": null,
   "id": "cceaa72e-bce4-442e-a891-72b35b504ba1",
   "metadata": {},
   "outputs": [],
   "source": [
    "# reading into the corrected images for segmentation\n",
    "\n",
    "PATH = '/bigdata/casus/MLID/RuiLi/Data/LM/zebrafish_partial_15/'\n",
    "\n",
    "rawDataDNN = np.load(PATH + 'rawGray15_256.npy')\n",
    "print(rawDataDNN.shape)  # print the size of the images"
   ]
  },
  {
   "cell_type": "code",
   "execution_count": null,
   "id": "fdcf602e-290e-4970-8231-43a1c80f311d",
   "metadata": {},
   "outputs": [],
   "source": [
    "# load in the trained model\n",
    "import tensorflow as tf\n",
    "from keras.models import load_model\n",
    "\n",
    "# trained model name\n",
    "MODEL_PATH = './models_weight/'\n",
    "SVAED_MODEL_NAME = MODEL_PATH + 'simple2D_512' + '_' + '1000' + '.hdf5'\n",
    "\n",
    "my_model = load_model(SVAED_MODEL_NAME, compile=False)\n"
   ]
  },
  {
   "cell_type": "code",
   "execution_count": null,
   "id": "11f02be8-2ace-463d-b3c0-88d5ede14873",
   "metadata": {},
   "outputs": [],
   "source": [
    "test = rawDataDNN[:15]  # take the first 15 slices\n"
   ]
  },
  {
   "cell_type": "code",
   "execution_count": null,
   "id": "933efae1-826c-4b28-9938-db15ddcfea5f",
   "metadata": {},
   "outputs": [],
   "source": [
    "# prediction\n",
    "pred_test = model.predict(img_test)\n",
    "print(pred_test.shape, pred_test.min(), pred_test.max())"
   ]
  }
 ],
 "metadata": {
  "kernelspec": {
   "display_name": "CONDA (LM)",
   "language": "python",
   "name": "n2v-conda"
  },
  "language_info": {
   "codemirror_mode": {
    "name": "ipython",
    "version": 3
   },
   "file_extension": ".py",
   "mimetype": "text/x-python",
   "name": "python",
   "nbconvert_exporter": "python",
   "pygments_lexer": "ipython3",
   "version": "3.7.11"
  }
 },
 "nbformat": 4,
 "nbformat_minor": 5
}
